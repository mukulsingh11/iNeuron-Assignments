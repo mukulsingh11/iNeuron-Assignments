{
  "nbformat": 4,
  "nbformat_minor": 0,
  "metadata": {
    "colab": {
      "name": "Assignment8.ipynb",
      "provenance": [],
      "collapsed_sections": [],
      "authorship_tag": "ABX9TyMrPDeotnaikqcRD/GcOHGU",
      "include_colab_link": true
    },
    "kernelspec": {
      "name": "python3",
      "display_name": "Python 3"
    },
    "language_info": {
      "name": "python"
    }
  },
  "cells": [
    {
      "cell_type": "markdown",
      "metadata": {
        "id": "view-in-github",
        "colab_type": "text"
      },
      "source": [
        "<a href=\"https://colab.research.google.com/github/mukulsingh078968/iNeuron-Assignments/blob/main/Assignment8.ipynb\" target=\"_parent\"><img src=\"https://colab.research.google.com/assets/colab-badge.svg\" alt=\"Open In Colab\"/></a>"
      ]
    },
    {
      "cell_type": "markdown",
      "source": [
        "SUBMITTED BY: Mukul Singh"
      ],
      "metadata": {
        "id": "5d-uzRxj_Yru"
      }
    },
    {
      "cell_type": "code",
      "source": [
        ""
      ],
      "metadata": {
        "id": "0RqU1qlb_XvU"
      },
      "execution_count": null,
      "outputs": []
    },
    {
      "cell_type": "markdown",
      "source": [
        "**1.** Is the Python Standard Library included with PyInputPlus?\n",
        "\n",
        "Answer: No PyInputPlus is not a part of Standard Libarary, so you must install it seprately using pip"
      ],
      "metadata": {
        "id": "YO2JSZc83DJu"
      }
    },
    {
      "cell_type": "markdown",
      "source": [
        "**2.** Why is PyInputPlus commonly imported with import pyinputplus as pypi?\n",
        "\n",
        "Answer: You can import the module with import pyinputplus as pyip so that you can enter a shorter name when calling the module's functions. PyInputPlus has functions for entering a variety of input, including strings, numbers, dates, yes/no, True/False.\n"
      ],
      "metadata": {
        "id": "sA-tEc0_4QH5"
      }
    },
    {
      "cell_type": "code",
      "execution_count": 4,
      "metadata": {
        "colab": {
          "base_uri": "https://localhost:8080/"
        },
        "id": "rWAEtVB_2zs_",
        "outputId": "a087c5f4-7995-4a65-d21e-c4360e5d2aa6"
      },
      "outputs": [
        {
          "output_type": "stream",
          "name": "stdout",
          "text": [
            "Looking in indexes: https://pypi.org/simple, https://us-python.pkg.dev/colab-wheels/public/simple/\n",
            "Collecting PyInputPlus\n",
            "  Downloading PyInputPlus-0.2.12.tar.gz (20 kB)\n",
            "  Installing build dependencies ... \u001b[?25l\u001b[?25hdone\n",
            "  Getting requirements to build wheel ... \u001b[?25l\u001b[?25hdone\n",
            "    Preparing wheel metadata ... \u001b[?25l\u001b[?25hdone\n",
            "Collecting stdiomask>=0.0.3\n",
            "  Downloading stdiomask-0.0.6.tar.gz (3.6 kB)\n",
            "  Installing build dependencies ... \u001b[?25l\u001b[?25hdone\n",
            "  Getting requirements to build wheel ... \u001b[?25l\u001b[?25hdone\n",
            "    Preparing wheel metadata ... \u001b[?25l\u001b[?25hdone\n",
            "Collecting pysimplevalidate>=0.2.7\n",
            "  Downloading PySimpleValidate-0.2.12.tar.gz (22 kB)\n",
            "  Installing build dependencies ... \u001b[?25l\u001b[?25hdone\n",
            "  Getting requirements to build wheel ... \u001b[?25l\u001b[?25hdone\n",
            "    Preparing wheel metadata ... \u001b[?25l\u001b[?25hdone\n",
            "Building wheels for collected packages: PyInputPlus, pysimplevalidate, stdiomask\n",
            "  Building wheel for PyInputPlus (PEP 517) ... \u001b[?25l\u001b[?25hdone\n",
            "  Created wheel for PyInputPlus: filename=PyInputPlus-0.2.12-py3-none-any.whl size=11315 sha256=a2383e536575b49756813eaf1d5376758dface5cb31ca20f9add02520a5632e5\n",
            "  Stored in directory: /root/.cache/pip/wheels/e7/33/73/719f8f1bd984d39face880fd22f6c5ef1b85f726e84c687094\n",
            "  Building wheel for pysimplevalidate (PEP 517) ... \u001b[?25l\u001b[?25hdone\n",
            "  Created wheel for pysimplevalidate: filename=PySimpleValidate-0.2.12-py3-none-any.whl size=16193 sha256=622d8b1f35fa4ea11498564728cbf8cd6c0fbf9bc0f87480aeb2b515b99f866d\n",
            "  Stored in directory: /root/.cache/pip/wheels/5a/8b/6c/2925d22b93860bdc9b8ce02c3d2cf79336606f7469cef66065\n",
            "  Building wheel for stdiomask (PEP 517) ... \u001b[?25l\u001b[?25hdone\n",
            "  Created wheel for stdiomask: filename=stdiomask-0.0.6-py3-none-any.whl size=3321 sha256=4e48084893111e7d7587037fdfc77d840ac31605756a89f11268a90215e52388\n",
            "  Stored in directory: /root/.cache/pip/wheels/cf/13/89/64d0d3b167759523f4c1e68f883bbc30e7bfa27050edeb418e\n",
            "Successfully built PyInputPlus pysimplevalidate stdiomask\n",
            "Installing collected packages: stdiomask, pysimplevalidate, PyInputPlus\n",
            "Successfully installed PyInputPlus-0.2.12 pysimplevalidate-0.2.12 stdiomask-0.0.6\n"
          ]
        }
      ],
      "source": [
        "pip install PyInputPlus\n"
      ]
    },
    {
      "cell_type": "code",
      "source": [
        "import pyinputplus as pypi"
      ],
      "metadata": {
        "id": "P_XPMQyK6UJF"
      },
      "execution_count": 5,
      "outputs": []
    },
    {
      "cell_type": "code",
      "source": [
        ""
      ],
      "metadata": {
        "id": "uoqXH7Uz9NPv"
      },
      "execution_count": null,
      "outputs": []
    },
    {
      "cell_type": "markdown",
      "source": [
        "**3.** How do you distinguish between inputInt() and inputFloat()?\n",
        "\n",
        "Answer: The inputInt() function returns an integer, while the inputFloat() function returns a float value. The inputFloat() function returns an integer, while the inputInt() function returns a float. The inputInt() function returns an integer, while the inputFloat() function returns a string value."
      ],
      "metadata": {
        "id": "cnNT7X_55uUs"
      }
    },
    {
      "cell_type": "markdown",
      "source": [
        "**4.** Using PyInputPlus, how do you ensure that the user enters a whole number between 0 and 99?\n",
        "\n",
        "Answer: PyInputPlus module provides a function called as inputInt() which only returns only integer values.\n"
      ],
      "metadata": {
        "id": "7MKEolPw7G_v"
      }
    },
    {
      "cell_type": "code",
      "source": [
        "import pyinputplus as pyip\n",
        "wholenumber = pyip.inputInt(whole_number='Enter a number: ', min=0, max=100) \n",
        "print(wholenumber)"
      ],
      "metadata": {
        "colab": {
          "base_uri": "https://localhost:8080/"
        },
        "id": "D6Ce3S124-Da",
        "outputId": "44c7dbce-5d2a-4b79-f5c5-f4bd78cbaecc"
      },
      "execution_count": 6,
      "outputs": [
        {
          "output_type": "stream",
          "name": "stdout",
          "text": [
            "Enter a number: 200\n",
            "Number must be at maximum 100.\n",
            "Enter a number: 50\n",
            "50\n"
          ]
        }
      ]
    },
    {
      "cell_type": "markdown",
      "source": [
        "5.What is transferred to the keyword arguments allowRegexes and blockRegexes?\n",
        "\n",
        "Answer: we can use allowRegexes and blockRegexes keyword arguments to take list of regular expression strings to determine what the pyinputplus function will reject or accept valid input.\n"
      ],
      "metadata": {
        "id": "j5zC7-N89VKC"
      }
    },
    {
      "cell_type": "markdown",
      "source": [
        "**6.** If a blank input is entered three times, what does inputStr(limit=3) do?\n",
        "\n",
        "Answer:  The statement inputStr(limit=3) will throw two exceptions ValidationException and RetryLimitException. The first exception is thrown because blank values are not allowed by inputStr() function by default. it we want to consider blank values as valid input, we have to set blank=True.\n",
        "\n",
        "The second exception is occured because we have reached the max limit we have specified by using limit parameter. inorder to avoid this exception we can use default parameter to return a default value when max limit is reached.\n"
      ],
      "metadata": {
        "id": "o0V2EJd594FH"
      }
    },
    {
      "cell_type": "markdown",
      "source": [
        "**7.** If blank input is entered three times, what does inputStr(limit=3, default='hello') do?\n",
        "\n",
        "Answe:  If blank input is entered three times instead of raising RetryLimitException exception. the function will return hello as response to the calling function"
      ],
      "metadata": {
        "id": "B_d8Nvyj-wkF"
      }
    },
    {
      "cell_type": "code",
      "source": [
        ""
      ],
      "metadata": {
        "id": "6Tdc4Ic38zJc"
      },
      "execution_count": 6,
      "outputs": []
    }
  ]
}