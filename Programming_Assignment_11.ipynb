{
  "nbformat": 4,
  "nbformat_minor": 0,
  "metadata": {
    "colab": {
      "provenance": [],
      "authorship_tag": "ABX9TyOfggdXlSBa67YximCEQTj9",
      "include_colab_link": true
    },
    "kernelspec": {
      "name": "python3",
      "display_name": "Python 3"
    },
    "language_info": {
      "name": "python"
    }
  },
  "cells": [
    {
      "cell_type": "markdown",
      "metadata": {
        "id": "view-in-github",
        "colab_type": "text"
      },
      "source": [
        "<a href=\"https://colab.research.google.com/github/mukulsingh078968/iNeuron-Assignments/blob/main/Programming_Assignment_11.ipynb\" target=\"_parent\"><img src=\"https://colab.research.google.com/assets/colab-badge.svg\" alt=\"Open In Colab\"/></a>"
      ]
    },
    {
      "cell_type": "markdown",
      "source": [
        "**1**.       Write a Python program to find words which are greater than given length k?\n"
      ],
      "metadata": {
        "id": "cjo5Gj8x497j"
      }
    },
    {
      "cell_type": "code",
      "execution_count": 3,
      "metadata": {
        "colab": {
          "base_uri": "https://localhost:8080/"
        },
        "id": "EPQBEh0x49EC",
        "outputId": "017e5d38-0521-4361-e98a-22100cb08bfe"
      },
      "outputs": [
        {
          "output_type": "stream",
          "name": "stdout",
          "text": [
            "Enter the string : Data science is oil of twenty first century\n",
            "Enter k  (value for accepting string) : 5\n",
            "All words which are greater than given length  5 are  ['science', 'twenty', 'century']\n"
          ]
        }
      ],
      "source": [
        "myStr =  input('Enter the string : ')\n",
        "k = int(input('Enter k  (value for accepting string) : '))\n",
        "largerStrings = []\n",
        "words = myStr.split(\" \")\n",
        "for word in words:\n",
        "\tif len(word) > k:\n",
        "\t\tlargerStrings.append(word)\n",
        "print(\"All words which are greater than given length \", k, \"are \", largerStrings)"
      ]
    },
    {
      "cell_type": "markdown",
      "source": [
        "**2.**       Write a Python program for removing i-th character from a string?\n"
      ],
      "metadata": {
        "id": "-GSyHyqt6sqJ"
      }
    },
    {
      "cell_type": "code",
      "source": [
        "def removeCharacter():\n",
        "    in_string = input(\"Enter the String: \")\n",
        "    in_char_num = int(input(\"Enter the ith Character: \"))\n",
        "    out_string = ''\n",
        "    for ele in range(len(in_string)):\n",
        "        if ele != in_char_num:\n",
        "            out_string = out_string + in_string[ele]\n",
        "    print(out_string)\n",
        "    \n",
        "removeCharacter()"
      ],
      "metadata": {
        "colab": {
          "base_uri": "https://localhost:8080/"
        },
        "id": "YaLKt4kb59wi",
        "outputId": "ecd99cdd-af91-4b4a-85e3-4090683a51f1"
      },
      "execution_count": 7,
      "outputs": [
        {
          "output_type": "stream",
          "name": "stdout",
          "text": [
            "Enter the String: krish naik \n",
            "Enter the ith Character: 2\n",
            "krsh naik \n"
          ]
        }
      ]
    },
    {
      "cell_type": "markdown",
      "source": [
        "**3.**     Write a Python program to split and join a string?\n"
      ],
      "metadata": {
        "id": "sKD4J-FS7az6"
      }
    },
    {
      "cell_type": "code",
      "source": [
        "s='Data science is oil of twenty first century and our industries is too much demand for data science'"
      ],
      "metadata": {
        "id": "5c1Zi_Jm61QL"
      },
      "execution_count": 8,
      "outputs": []
    },
    {
      "cell_type": "code",
      "source": [
        "s.split('is')"
      ],
      "metadata": {
        "colab": {
          "base_uri": "https://localhost:8080/"
        },
        "id": "GDr5h0h68NLG",
        "outputId": "f333dfe5-9b92-4eeb-8c8c-c62139c31130"
      },
      "execution_count": 11,
      "outputs": [
        {
          "output_type": "execute_result",
          "data": {
            "text/plain": [
              "['Data science ',\n",
              " ' oil of twenty first century and our industries ',\n",
              " ' too much demand for data science']"
            ]
          },
          "metadata": {},
          "execution_count": 11
        }
      ]
    },
    {
      "cell_type": "code",
      "source": [
        "\" KS \".join('ineuron')"
      ],
      "metadata": {
        "colab": {
          "base_uri": "https://localhost:8080/",
          "height": 35
        },
        "id": "wFEzArwI8XWZ",
        "outputId": "c7e7abe1-6230-4ab9-9416-bbd76b7e51ef"
      },
      "execution_count": 16,
      "outputs": [
        {
          "output_type": "execute_result",
          "data": {
            "text/plain": [
              "'i KS n KS e KS u KS r KS o KS n'"
            ],
            "application/vnd.google.colaboratory.intrinsic+json": {
              "type": "string"
            }
          },
          "metadata": {},
          "execution_count": 16
        }
      ]
    },
    {
      "cell_type": "code",
      "source": [],
      "metadata": {
        "id": "NaPELD-f9EPV"
      },
      "execution_count": null,
      "outputs": []
    },
    {
      "cell_type": "markdown",
      "source": [
        "**4.**     Write a Python to check if a given string is binary string or not?"
      ],
      "metadata": {
        "id": "sXtZTPXc9E9R"
      }
    },
    {
      "cell_type": "code",
      "source": [
        "def checkBinary():\n",
        "    in_string = input('Enter the string: ')\n",
        "    stun = 0\n",
        "    for ele in in_string:\n",
        "        if ele in ['0','1']:\n",
        "            stun = 1\n",
        "            continue\n",
        "        else:\n",
        "            stun = 0\n",
        "            break\n",
        "    statement = 'is a binary string' if stun == 1 else 'is not a binart string' \n",
        "    print(f'{in_string} {statement}')\n",
        "\n",
        "checkBinary()\n",
        "checkBinary()"
      ],
      "metadata": {
        "colab": {
          "base_uri": "https://localhost:8080/"
        },
        "id": "zyS-xyqx9zQB",
        "outputId": "f4d4e9ed-5c37-4503-95ff-c62a76e2b7ed"
      },
      "execution_count": 20,
      "outputs": [
        {
          "output_type": "stream",
          "name": "stdout",
          "text": [
            "Enter the string: 55\n",
            "55 is not a binart string\n",
            "Enter the string: 010101\n",
            "010101 is a binary string\n"
          ]
        }
      ]
    },
    {
      "cell_type": "markdown",
      "source": [
        "6.      Write a Python program to find uncommon words from two Strings?"
      ],
      "metadata": {
        "id": "_SGbOH8e_RpI"
      }
    },
    {
      "cell_type": "code",
      "source": [
        "string_1 = set(input(\"Enter the String 1: \").split(' '))\n",
        "string_2 = set(input(\"Enter the String 2: \").split(' '))\n",
        "out_string = (string_1.union(string_2)).difference(string_1.intersection(string_2))\n",
        "print(out_string)\n"
      ],
      "metadata": {
        "colab": {
          "base_uri": "https://localhost:8080/"
        },
        "id": "OpM4lJlN-t4K",
        "outputId": "799b6439-e3cd-4eda-ccae-314ac2b8759c"
      },
      "execution_count": 23,
      "outputs": [
        {
          "output_type": "stream",
          "name": "stdout",
          "text": [
            "Enter the String 1: mumbai\n",
            "Enter the String 2: gorakhpur\n",
            "{'gorakhpur', 'mumbai'}\n"
          ]
        }
      ]
    },
    {
      "cell_type": "markdown",
      "source": [
        "6.    Write a Python to find all duplicate characters in string?\n"
      ],
      "metadata": {
        "id": "GHdvaU79AGbl"
      }
    },
    {
      "cell_type": "code",
      "source": [
        "string = input()\n",
        "dups={}\n",
        "for x in string:\n",
        "  if x not in dups:\n",
        "    dups[x]=0\n",
        "  else:\n",
        "    dups[x]+=1\n",
        "output=[]\n",
        "for keys,vals in dups.items():\n",
        "  if vals>0:\n",
        "    output.append(keys)\n",
        "print('The duplicate characters are {}'.format(output))"
      ],
      "metadata": {
        "colab": {
          "base_uri": "https://localhost:8080/"
        },
        "id": "itq8xGHWAzyr",
        "outputId": "804a24cf-4b6b-4337-bfe8-d419ea014313"
      },
      "execution_count": 27,
      "outputs": [
        {
          "output_type": "stream",
          "name": "stdout",
          "text": [
            "mukkull\n",
            "The duplicate characters are ['u', 'k', 'l']\n"
          ]
        }
      ]
    },
    {
      "cell_type": "markdown",
      "source": [
        "7.   Write a Python Program to check if a string contains any special character?\n"
      ],
      "metadata": {
        "id": "y76f2KOvDPYn"
      }
    },
    {
      "cell_type": "code",
      "source": [
        "spl_chars = '[@_!#$%^&*()<>?/\\|}{~:]'\n",
        "in_num = input('Enter the string: ')\n",
        "count = 0\n",
        "char_list = []\n",
        "for ele in in_num:\n",
        "  if ele in spl_chars:\n",
        "    char_list.append(ele)\n",
        "    count = count+1\n",
        "    print(f'There are {count} Specialal Characters in {in_num} which are {char_list}')"
      ],
      "metadata": {
        "colab": {
          "base_uri": "https://localhost:8080/"
        },
        "id": "gLt7zo9xCSyK",
        "outputId": "10c08002-8b04-4bd8-fad5-78065abfeb1d"
      },
      "execution_count": 28,
      "outputs": [
        {
          "output_type": "stream",
          "name": "stdout",
          "text": [
            "Enter the string: %*#\n",
            "There are 1 Specialal Characters in %*# which are ['%']\n",
            "There are 2 Specialal Characters in %*# which are ['%', '*']\n",
            "There are 3 Specialal Characters in %*# which are ['%', '*', '#']\n"
          ]
        }
      ]
    },
    {
      "cell_type": "code",
      "source": [],
      "metadata": {
        "id": "nB29sC55DmKh"
      },
      "execution_count": 28,
      "outputs": []
    }
  ]
}