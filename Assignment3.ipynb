{
  "nbformat": 4,
  "nbformat_minor": 0,
  "metadata": {
    "colab": {
      "name": "Assignment3.ipynb",
      "provenance": [],
      "collapsed_sections": [],
      "authorship_tag": "ABX9TyNGQLoeNNq5ys4kk2I6Ockg",
      "include_colab_link": true
    },
    "kernelspec": {
      "name": "python3",
      "display_name": "Python 3"
    },
    "language_info": {
      "name": "python"
    }
  },
  "cells": [
    {
      "cell_type": "markdown",
      "metadata": {
        "id": "view-in-github",
        "colab_type": "text"
      },
      "source": [
        "<a href=\"https://colab.research.google.com/github/mukulsingh078968/iNeuron-Assignments/blob/main/Assignment3.ipynb\" target=\"_parent\"><img src=\"https://colab.research.google.com/assets/colab-badge.svg\" alt=\"Open In Colab\"/></a>"
      ]
    },
    {
      "cell_type": "markdown",
      "source": [
        "**SUBMITTED BY: Mukul Singh**"
      ],
      "metadata": {
        "id": "LEd8HXs2F0SX"
      }
    },
    {
      "cell_type": "markdown",
      "source": [
        "**1**. Why are functions advantageous to have in your programs?\n",
        "\n",
        "\n",
        "Answer: Function reduce the need for duplicate code . This make programe shorter easier to read, and easier to update. The advantage of using function reducing duplication of code. Decomposing the complex problems into similar pieces improving clarity of the code.Divide a complex problem into simpler ones. Reduces chances of error. Modifying a program becomes easier by using function."
      ],
      "metadata": {
        "id": "O7ynS3FhF9b_"
      }
    },
    {
      "cell_type": "markdown",
      "source": [
        "2. When does the code in a function run: when it's specified or when it's called?\n",
        "\n",
        "Answer:   When a function is \"called\" the program \"leaves\" the current section of code and begins to execute the first line               inside the function."
      ],
      "metadata": {
        "id": "r8fOumQbGLPa"
      }
    },
    {
      "cell_type": "code",
      "source": [
        "def test():\n",
        "      print('this is my frist function')"
      ],
      "metadata": {
        "id": "S2f3ARaDF6dn"
      },
      "execution_count": 4,
      "outputs": []
    },
    {
      "cell_type": "code",
      "source": [
        "str(test())+ \"sudh\""
      ],
      "metadata": {
        "colab": {
          "base_uri": "https://localhost:8080/",
          "height": 53
        },
        "id": "N_u4_oG9GeSn",
        "outputId": "58b8d9d9-aac3-4ea8-c1fa-e26518a6e686"
      },
      "execution_count": 6,
      "outputs": [
        {
          "output_type": "stream",
          "name": "stdout",
          "text": [
            "this is my frist function\n"
          ]
        },
        {
          "output_type": "execute_result",
          "data": {
            "text/plain": [
              "'Nonesudh'"
            ],
            "application/vnd.google.colaboratory.intrinsic+json": {
              "type": "string"
            }
          },
          "metadata": {},
          "execution_count": 6
        }
      ]
    },
    {
      "cell_type": "markdown",
      "source": [
        "**3.** What statement creates a function?\n",
        "\n",
        "Answer: Statement create a function : def is define a function"
      ],
      "metadata": {
        "id": "B2rsQXY5G09n"
      }
    },
    {
      "cell_type": "code",
      "source": [
        "def test():\n",
        "  print('hello krish sir')"
      ],
      "metadata": {
        "id": "MdVj3VlIGt1x"
      },
      "execution_count": 7,
      "outputs": []
    },
    {
      "cell_type": "code",
      "source": [
        "test()"
      ],
      "metadata": {
        "colab": {
          "base_uri": "https://localhost:8080/"
        },
        "id": "2l3R4WPxHX9I",
        "outputId": "fc0de03d-c1fe-4b6b-c17b-26a9b0ae150e"
      },
      "execution_count": 8,
      "outputs": [
        {
          "output_type": "stream",
          "name": "stdout",
          "text": [
            "hello krish sir\n"
          ]
        }
      ]
    },
    {
      "cell_type": "markdown",
      "source": [
        "**4.** What is the difference between a function and a function call?\n",
        "\n",
        "\n",
        "Answer: The difference between a function and function cell A function is a block of code that does a particular operation and returns a result. It usually accepts inputs as parameters and returns a result. The parameters are not mandatory."
      ],
      "metadata": {
        "id": "kUAwwmkMHfy8"
      }
    },
    {
      "cell_type": "code",
      "source": [
        "  # function\n",
        "def test(a,b):\n",
        "    return(a+b)"
      ],
      "metadata": {
        "id": "UyLGg8KLHaBU"
      },
      "execution_count": 9,
      "outputs": []
    },
    {
      "cell_type": "code",
      "source": [
        "test(4,5)"
      ],
      "metadata": {
        "colab": {
          "base_uri": "https://localhost:8080/"
        },
        "id": "i-ar4J-KHphy",
        "outputId": "7e80570b-3f58-4a3f-c0ed-d17f5e3c6bf9"
      },
      "execution_count": 11,
      "outputs": [
        {
          "output_type": "execute_result",
          "data": {
            "text/plain": [
              "9"
            ]
          },
          "metadata": {},
          "execution_count": 11
        }
      ]
    },
    {
      "cell_type": "markdown",
      "source": [
        "**5.** How many global scopes are there in a Python program? How many local scopes?\n",
        "\n",
        "Answer: There's only one global Python scope per program execution. This scope remains in existence until the program terminates and all its names are forgotten.When you use an unqualified name inside a function, Python searches three scopes—the local (L), then the global (G), and then the built-in (B)—and stops at the first place the name is found."
      ],
      "metadata": {
        "id": "N1IPNWO5H57W"
      }
    },
    {
      "cell_type": "markdown",
      "source": [
        "**6**.  What happens to variables in a local scope when the function call returns?\n",
        "\n",
        "Answer: When a function returns, the local scope is destroyed, and all the variables in it are forgotten. A local variable becomes undefined after the function call completes"
      ],
      "metadata": {
        "id": "ND66Z8w6H_yT"
      }
    },
    {
      "cell_type": "markdown",
      "source": [
        "**7**.  What is the concept of a return value? Is it possible to have a return value in an expression?\n",
        "\n",
        "\n",
        "Answer:The Python return keyword exits a function and instructs Python to continue executing the main program. The return keyword can send a value back to the main program. A value could be a string, a tuple, or any other object"
      ],
      "metadata": {
        "id": "oTTlBnb3IKlP"
      }
    },
    {
      "cell_type": "markdown",
      "source": [
        "**8.** If a function does not have a return statement, what is the return value of a call to that function?\n",
        "\n",
        "Answer: If there is no return value it return value none"
      ],
      "metadata": {
        "id": "gonMnqydIWxt"
      }
    },
    {
      "cell_type": "markdown",
      "source": [
        "**9.** How do you make a function variable refer to the global variable?\n",
        "\n",
        "Answer:If you want to refer to a global variable in a function, you can use the global keyword to declare which variables are global.\n"
      ],
      "metadata": {
        "id": "dPbO4Em7JgiU"
      }
    },
    {
      "cell_type": "markdown",
      "source": [
        "**10.** What is the data type of None?\n",
        "\n",
        "\n",
        "Answer:None is not the same as 0, False, or an empty string. None is a data type of its own (NoneType) and only None"
      ],
      "metadata": {
        "id": "TzcVECsWJ2V8"
      }
    },
    {
      "cell_type": "markdown",
      "source": [
        "**11.** What does the sentence import areallyourpetsnamederic do?\n",
        "\n",
        "Answer: That import statement imports a module named areallyourpetsnamederic."
      ],
      "metadata": {
        "id": "lyRvfDppKTIt"
      }
    },
    {
      "cell_type": "markdown",
      "source": [
        "**12.** If you had a bacon() feature in a spam module, what would you call it after importing spam?\n",
        "\n",
        "\n",
        "Answer: spam.bacon()"
      ],
      "metadata": {
        "id": "Q9gl78L_KlqG"
      }
    },
    {
      "cell_type": "markdown",
      "source": [
        "**13.** What can you do to save a programme from crashing if it encounters an error?\n",
        "\n",
        "Answer: "
      ],
      "metadata": {
        "id": "uJGZ1SbhK51w"
      }
    },
    {
      "cell_type": "code",
      "source": [
        "try:\n",
        "  print(x)\n",
        "except:\n",
        "  print() \n"
      ],
      "metadata": {
        "colab": {
          "base_uri": "https://localhost:8080/"
        },
        "id": "Va-iyy84HrTB",
        "outputId": "db9658e4-1c00-4e21-96e1-4598a64e6072"
      },
      "execution_count": 12,
      "outputs": [
        {
          "output_type": "stream",
          "name": "stdout",
          "text": [
            "\n"
          ]
        }
      ]
    },
    {
      "cell_type": "code",
      "source": [
        "10"
      ],
      "metadata": {
        "colab": {
          "base_uri": "https://localhost:8080/"
        },
        "id": "fOcnOdouLHpN",
        "outputId": "d8264c9c-7ab8-4084-a920-9c5b03294c9a"
      },
      "execution_count": 13,
      "outputs": [
        {
          "output_type": "execute_result",
          "data": {
            "text/plain": [
              "10"
            ]
          },
          "metadata": {},
          "execution_count": 13
        }
      ]
    },
    {
      "cell_type": "markdown",
      "source": [
        "**14.** What is the purpose of the try clause? What is the purpose of the except clause?\n",
        "\n",
        "\n",
        "Answer:"
      ],
      "metadata": {
        "id": "_bzFiYSlLTQW"
      }
    },
    {
      "cell_type": "code",
      "source": [
        "x = 100\n",
        "try:\n",
        "  print(x)\n",
        "except NameError:\n",
        "  print(\"Variable x is not defined\")\n",
        "except:\n",
        "  print(\"Something else went wrong\") "
      ],
      "metadata": {
        "colab": {
          "base_uri": "https://localhost:8080/"
        },
        "id": "RcRHr5U2LJJz",
        "outputId": "f8e7b105-595b-4f9e-c86a-c54ec5d591dd"
      },
      "execution_count": 14,
      "outputs": [
        {
          "output_type": "stream",
          "name": "stdout",
          "text": [
            "100\n"
          ]
        }
      ]
    },
    {
      "cell_type": "code",
      "source": [
        ""
      ],
      "metadata": {
        "id": "FveODhy5Lmho"
      },
      "execution_count": 14,
      "outputs": []
    }
  ]
}