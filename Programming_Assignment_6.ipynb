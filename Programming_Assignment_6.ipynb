{
  "nbformat": 4,
  "nbformat_minor": 0,
  "metadata": {
    "colab": {
      "name": "Programming_Assignment-6.ipynb",
      "provenance": [],
      "authorship_tag": "ABX9TyPmw9n6PtWA82aapvSksYhJ",
      "include_colab_link": true
    },
    "kernelspec": {
      "name": "python3",
      "display_name": "Python 3"
    },
    "language_info": {
      "name": "python"
    }
  },
  "cells": [
    {
      "cell_type": "markdown",
      "metadata": {
        "id": "view-in-github",
        "colab_type": "text"
      },
      "source": [
        "<a href=\"https://colab.research.google.com/github/mukulsingh078968/iNeuron-Assignments/blob/main/Programming_Assignment_6.ipynb\" target=\"_parent\"><img src=\"https://colab.research.google.com/assets/colab-badge.svg\" alt=\"Open In Colab\"/></a>"
      ]
    },
    {
      "cell_type": "markdown",
      "source": [
        "1.   Write a Python Program to Display Fibonacci Sequence Using Recursion?\n"
      ],
      "metadata": {
        "id": "_FsfaDd0Mx0X"
      }
    },
    {
      "cell_type": "code",
      "execution_count": 1,
      "metadata": {
        "colab": {
          "base_uri": "https://localhost:8080/"
        },
        "id": "UNX-b813Mr0J",
        "outputId": "c57892b5-6934-45fe-debf-395c8a077ac8"
      },
      "outputs": [
        {
          "output_type": "stream",
          "name": "stdout",
          "text": [
            "Enter the length of Series: 10\n",
            "0, 1, 3, 5, 8, 13, 21, 34, 55, 89, 144, 233, "
          ]
        }
      ],
      "source": [
        "def genFibonacci(n,a,b):\n",
        "    if n == 0:\n",
        "        return 1\n",
        "    else:\n",
        "        result = a+b\n",
        "        print(result, end=', ')\n",
        "        genFibonacci(n-1,b,result)\n",
        "in_num = int(input('Enter the length of Series: '))\n",
        "print('0, 1',end=', ')\n",
        "genFibonacci(in_num,1,2)"
      ]
    },
    {
      "cell_type": "markdown",
      "source": [
        "2.   Write a Python Program to Find Factorial of Number Using Recursion?"
      ],
      "metadata": {
        "id": "MjNCL9_gNSCL"
      }
    },
    {
      "cell_type": "code",
      "source": [
        "def factorial(num):\n",
        "    if (num < 1):\n",
        "        return 1\n",
        "    else:\n",
        "        return num*factorial(num-1)\n",
        "num = int(input('Enter a number: '))\n",
        "value = factorial(num)\n",
        "print(f'The Factorial of {num} is {value}')"
      ],
      "metadata": {
        "colab": {
          "base_uri": "https://localhost:8080/"
        },
        "id": "FZpRufyQNbvM",
        "outputId": "7edd9670-cfff-4264-d0d1-ec54f0210e3f"
      },
      "execution_count": 5,
      "outputs": [
        {
          "output_type": "stream",
          "name": "stdout",
          "text": [
            "Enter a number: 5\n",
            "The Factorial of 5 is 120\n"
          ]
        }
      ]
    },
    {
      "cell_type": "markdown",
      "source": [
        "3.   Write a Python Program to calculate your Body Mass Index?"
      ],
      "metadata": {
        "id": "DyGb-9u5OlZD"
      }
    },
    {
      "cell_type": "code",
      "source": [
        "weight=float(input(\"Enter the weight of person in KG : \"))\n",
        "height=float(input(\"Enter the height of person in meter : \"))\n",
        "bmi=weight/(height*height)\n",
        "print(\"BMI of person is : \",bmi)"
      ],
      "metadata": {
        "colab": {
          "base_uri": "https://localhost:8080/"
        },
        "id": "hrN4OYPXOcQ3",
        "outputId": "b030fce3-6972-47b8-8940-166e8b14cd8c"
      },
      "execution_count": 7,
      "outputs": [
        {
          "output_type": "stream",
          "name": "stdout",
          "text": [
            "Enter the weight of person in KG : 65\n",
            "Enter the height of person in meter : 5.8\n",
            "BMI of person is :  1.9322235434007133\n"
          ]
        }
      ]
    },
    {
      "cell_type": "markdown",
      "source": [
        "4.  Write a Python Program to calculate the natural logarithm of any number?"
      ],
      "metadata": {
        "id": "7n3dNmAtPUv-"
      }
    },
    {
      "cell_type": "code",
      "source": [
        "import math\n",
        "def genNatLog():\n",
        "    in_num = eval(input(\"Enter a Number:\"))\n",
        "    print(math.log(in_num))\n",
        "\n",
        "genNatLog()"
      ],
      "metadata": {
        "colab": {
          "base_uri": "https://localhost:8080/"
        },
        "id": "3e9NOC93PFNt",
        "outputId": "bff65c3c-98b0-4bc8-9b01-0e1d7515c4f8"
      },
      "execution_count": 8,
      "outputs": [
        {
          "output_type": "stream",
          "name": "stdout",
          "text": [
            "Enter a Number:5\n",
            "1.6094379124341003\n"
          ]
        }
      ]
    },
    {
      "cell_type": "markdown",
      "source": [
        "# 5.  Write a Python Program for cube sum of first n natural numbers?"
      ],
      "metadata": {
        "id": "RlTAyV-BPznO"
      }
    },
    {
      "cell_type": "code",
      "source": [
        "def cubeoffirstnaturalnumber():\n",
        "    in_num = int(input(\"Enter the no of Natural Numbers: \"))\n",
        "    result = pow(((in_num * (in_num +1))/2),2)\n",
        "    print(f'The Cube Sum of First {in_num} Natural Numbers is {result}')\n",
        "\n",
        "cubeoffirstnaturalnumber()"
      ],
      "metadata": {
        "colab": {
          "base_uri": "https://localhost:8080/"
        },
        "id": "b3OO8HxSPsAd",
        "outputId": "44f2a94c-329f-4f21-a38e-99dbe742d09f"
      },
      "execution_count": 10,
      "outputs": [
        {
          "output_type": "stream",
          "name": "stdout",
          "text": [
            "Enter the no of Natural Numbers: 5\n",
            "The Cube Sum of First 5 Natural Numbers is 225.0\n"
          ]
        }
      ]
    },
    {
      "cell_type": "code",
      "source": [],
      "metadata": {
        "id": "3k6iv0cLQV1Q"
      },
      "execution_count": 10,
      "outputs": []
    }
  ]
}