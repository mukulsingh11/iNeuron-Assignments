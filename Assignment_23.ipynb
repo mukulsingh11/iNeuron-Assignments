{
  "nbformat": 4,
  "nbformat_minor": 0,
  "metadata": {
    "colab": {
      "name": "Assignment_23.ipynb",
      "provenance": [],
      "collapsed_sections": [],
      "authorship_tag": "ABX9TyNAUQuoovpaOSKS1BX5721K",
      "include_colab_link": true
    },
    "kernelspec": {
      "name": "python3",
      "display_name": "Python 3"
    },
    "language_info": {
      "name": "python"
    }
  },
  "cells": [
    {
      "cell_type": "markdown",
      "metadata": {
        "id": "view-in-github",
        "colab_type": "text"
      },
      "source": [
        "<a href=\"https://colab.research.google.com/github/mukulsingh078968/iNeuron-Assignments/blob/main/Assignment_23.ipynb\" target=\"_parent\"><img src=\"https://colab.research.google.com/assets/colab-badge.svg\" alt=\"Open In Colab\"/></a>"
      ]
    },
    {
      "cell_type": "markdown",
      "source": [
        "1. What is the result of the code, and why?\n",
        ">>> def func(a, b=6, c=8):\n",
        "\n",
        "print(a, b, c)\n",
        ">>> func(1, 2)\n"
      ],
      "metadata": {
        "id": "x_9jCuO89oEF"
      }
    },
    {
      "cell_type": "code",
      "execution_count": 3,
      "metadata": {
        "colab": {
          "base_uri": "https://localhost:8080/"
        },
        "id": "i_H7tKzN9hAq",
        "outputId": "919a3f28-a50e-4cde-88c0-be892e025b93"
      },
      "outputs": [
        {
          "output_type": "stream",
          "name": "stdout",
          "text": [
            "1 2 8\n"
          ]
        }
      ],
      "source": [
        "def func(a,b=6,c=8):\n",
        "  print(a,b,c)\n",
        "func(1,2)"
      ]
    },
    {
      "cell_type": "markdown",
      "source": [
        "Answer: The result of the code is 1,2,8 because it is func() used the default value c-8 ,which is provided at time of decleration.\n"
      ],
      "metadata": {
        "id": "5Mmdldph-Yts"
      }
    },
    {
      "cell_type": "markdown",
      "source": [
        "2. What is the result of this code, and why?\n",
        ">>> def func(a, b, c=5):\n",
        "\n",
        "print(a, b, c)\n",
        "\n",
        ">>> func(1, c=3, b=2)\n"
      ],
      "metadata": {
        "id": "XY9Az3q6_cCs"
      }
    },
    {
      "cell_type": "code",
      "source": [
        "def func(a,b,c=5):\n",
        "  print(a,b,c)\n",
        "func(1,c=3,b=2)"
      ],
      "metadata": {
        "colab": {
          "base_uri": "https://localhost:8080/"
        },
        "id": "SjIwqkSo967q",
        "outputId": "367800f1-df51-4c69-c8c1-3be659c8af9b"
      },
      "execution_count": 4,
      "outputs": [
        {
          "output_type": "stream",
          "name": "stdout",
          "text": [
            "1 2 3\n"
          ]
        }
      ]
    },
    {
      "cell_type": "markdown",
      "source": [
        "Answer:  The result of this code is 1 2 3.because the function used default values only when a value for a argument is not provided and if the argument name is mentioned while doing a function call, the order of arguments is also ignored by the python interpreter"
      ],
      "metadata": {
        "id": "v7auGQxHAKDS"
      }
    },
    {
      "cell_type": "markdown",
      "source": [
        "**3**. How about this code: what is its result, and why?\n",
        ">>> def func(a, *pargs):\n",
        "\n",
        "print(a, pargs)\n",
        "\n",
        ">>> func(1, 2, 3)\n"
      ],
      "metadata": {
        "id": "3XHqKAFtAi1r"
      }
    },
    {
      "cell_type": "code",
      "source": [
        "def func(a,*pargs):\n",
        "  print(a,pargs)\n",
        "func(1,2,3)"
      ],
      "metadata": {
        "colab": {
          "base_uri": "https://localhost:8080/"
        },
        "id": "TzfSxPbX_xHG",
        "outputId": "4f84dcf6-d4b5-4340-fb75-851830e28e02"
      },
      "execution_count": 6,
      "outputs": [
        {
          "output_type": "stream",
          "name": "stdout",
          "text": [
            "1 (2, 3)\n"
          ]
        }
      ]
    },
    {
      "cell_type": "markdown",
      "source": [
        "Answer:  The result of this code is 1,(2,3). because it is function used  *pargs stands for variable length arguments. This format is used when we are not sure about the number of arguments to be passed to a function. All the values under this argument will be stored in a tuple."
      ],
      "metadata": {
        "id": "SMU0hG6kBCge"
      }
    },
    {
      "cell_type": "markdown",
      "source": [
        "4. What does this code print, and why?\n",
        "\n",
        ">>> def func(a, **kargs):\n",
        "\n",
        "print(a, kargs)\n",
        "\n",
        ">>> func(a=1, c=3, b=2)\n"
      ],
      "metadata": {
        "id": "PO6Xr-e1BlIa"
      }
    },
    {
      "cell_type": "code",
      "source": [
        "def func(a,**kargs):\n",
        "  print(a,kargs)\n",
        "func(a=1,c=3,b=2)"
      ],
      "metadata": {
        "colab": {
          "base_uri": "https://localhost:8080/"
        },
        "id": "Tt1KvyqrAz1y",
        "outputId": "c5ba7628-d527-4985-bf72-62dbab33c12e"
      },
      "execution_count": 7,
      "outputs": [
        {
          "output_type": "stream",
          "name": "stdout",
          "text": [
            "1 {'c': 3, 'b': 2}\n"
          ]
        }
      ]
    },
    {
      "cell_type": "markdown",
      "source": [
        "Answer:  The result of this code is 1{'c':3,'b':2}. ** karges stande for variable keywords arguments.all key value are stored in dicctionary"
      ],
      "metadata": {
        "id": "tQy-UzH2B60f"
      }
    },
    {
      "cell_type": "markdown",
      "source": [
        "5. What gets printed by this, and explain?\n",
        ">>> def func(a, b, c=8, d=5): print(a, b, c, d)\n",
        "\n",
        ">>> func(1, *(5, 6))\n"
      ],
      "metadata": {
        "id": "QxeO5nQIC0Qg"
      }
    },
    {
      "cell_type": "code",
      "source": [
        "\n",
        "def func(a,b,c=8,d=5):\n",
        "  print(a,b,c,d)\n",
        "func(1,*(5,6))"
      ],
      "metadata": {
        "colab": {
          "base_uri": "https://localhost:8080/"
        },
        "id": "Lbnfwyu9B4Ez",
        "outputId": "d74542c0-de23-464c-8c26-9774c1c69583"
      },
      "execution_count": 10,
      "outputs": [
        {
          "output_type": "stream",
          "name": "stdout",
          "text": [
            "1 5 6 5\n"
          ]
        }
      ]
    },
    {
      "cell_type": "markdown",
      "source": [
        "Answer:  The result of this code is 1 5 6 5. function not throwing an error because, this function expects 4 arguments. The value for a is provided explicitly whereas for arguments b and c, the function will expand *(5,6) and consider the value of b as 5 and value of c as 6. Since the default value of d is provided in function declaration, d value will be 5. "
      ],
      "metadata": {
        "id": "5PlGMNCQDzey"
      }
    },
    {
      "cell_type": "markdown",
      "source": [
        "6. what is the result of this, and explain?\n",
        ">>> def func(a, b, c): a = 2; b[0] = 'x'; c['a'] = 'y'\n",
        "\n",
        ">>> l=1; m=[1]; n={'a':0}\n",
        "\n",
        ">>> func(l, m, n)\n"
      ],
      "metadata": {
        "id": "zfU5jQXHEQno"
      }
    },
    {
      "cell_type": "code",
      "source": [
        "def func(a,b,c):a=2;b[0]='x';c['a']='y'\n",
        "l=1;m=[1];n={'a':0}\n",
        "func(l,m,n)\n",
        "l,m,n"
      ],
      "metadata": {
        "colab": {
          "base_uri": "https://localhost:8080/"
        },
        "id": "qjU5DPHXDS3A",
        "outputId": "7debe4b8-553e-40f3-d7dd-0837f0327775"
      },
      "execution_count": 12,
      "outputs": [
        {
          "output_type": "execute_result",
          "data": {
            "text/plain": [
              "(1, ['x'], {'a': 'y'})"
            ]
          },
          "metadata": {},
          "execution_count": 12
        }
      ]
    },
    {
      "cell_type": "markdown",
      "source": [
        "Answer:  The result of this code is (1,['x'],{'a':'y'}. because l,m,n are provided as inputs to the function, it modifies the values of l,m,n and sets the value of l=2 ,m=['x'] and n={'a':'y'}"
      ],
      "metadata": {
        "id": "Xeu4rIXuFSfP"
      }
    },
    {
      "cell_type": "code",
      "source": [
        ""
      ],
      "metadata": {
        "id": "0zN97Dl0E9ll"
      },
      "execution_count": 12,
      "outputs": []
    }
  ]
}