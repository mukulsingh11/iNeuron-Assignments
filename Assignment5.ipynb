{
  "nbformat": 4,
  "nbformat_minor": 0,
  "metadata": {
    "colab": {
      "name": "Assignment5.ipynb",
      "provenance": [],
      "collapsed_sections": [],
      "authorship_tag": "ABX9TyPKl+iXQfPj48Qn074Ke3c1",
      "include_colab_link": true
    },
    "kernelspec": {
      "name": "python3",
      "display_name": "Python 3"
    },
    "language_info": {
      "name": "python"
    }
  },
  "cells": [
    {
      "cell_type": "markdown",
      "metadata": {
        "id": "view-in-github",
        "colab_type": "text"
      },
      "source": [
        "<a href=\"https://colab.research.google.com/github/mukulsingh078968/iNeuron-Assignments/blob/main/Assignment5.ipynb\" target=\"_parent\"><img src=\"https://colab.research.google.com/assets/colab-badge.svg\" alt=\"Open In Colab\"/></a>"
      ]
    },
    {
      "cell_type": "markdown",
      "source": [
        "SUMMITED BY:   Mukul Singh"
      ],
      "metadata": {
        "id": "JabViB-0pd0Z"
      }
    },
    {
      "cell_type": "markdown",
      "source": [
        "1. What does an empty dictionary's code look like?\n",
        "\n",
        "  Answer: The empty dictionary code look like is  { }\n",
        "\n",
        "---\n",
        "\n"
      ],
      "metadata": {
        "id": "Dsr5zXOGprRS"
      }
    },
    {
      "cell_type": "markdown",
      "source": [
        "## **2. What is the value of a dictionary value with the key 'foo' and the value 42?**\n",
        " Answer: dict= {'foo':42}"
      ],
      "metadata": {
        "id": "2FxDPxzkqZIn"
      }
    },
    {
      "cell_type": "code",
      "execution_count": 1,
      "metadata": {
        "colab": {
          "base_uri": "https://localhost:8080/"
        },
        "id": "foZxxAoGo9RB",
        "outputId": "da6e9dab-6b2d-4a87-f27e-799279fb1c03"
      },
      "outputs": [
        {
          "output_type": "stream",
          "name": "stdout",
          "text": [
            "{'foo': 42}\n"
          ]
        },
        {
          "output_type": "execute_result",
          "data": {
            "text/plain": [
              "dict"
            ]
          },
          "metadata": {},
          "execution_count": 1
        }
      ],
      "source": [
        "dict={\"foo\":42}\n",
        "print(dict)\n",
        "type(dict)"
      ]
    },
    {
      "cell_type": "markdown",
      "source": [
        "3. What is the most significant distinction between a dictionary and a list?\n",
        "\n",
        "Answer:\n",
        " The most significant distinction between a dictionary and a list . A list is an ordered sequence of objects, whereas dictionaries are unordered sets.The main difference is that items in dictionaries are accessed via keys and not via their position."
      ],
      "metadata": {
        "id": "bRbTyo9UrII9"
      }
    },
    {
      "cell_type": "markdown",
      "source": [
        "4. What happens if you try to access spam['foo'] if spam is {'bar': 100}?\n",
        "\n",
        "Answer: In this case is spam is'Keyerror'"
      ],
      "metadata": {
        "id": "OsGC9aEvsBAa"
      }
    },
    {
      "cell_type": "code",
      "source": [
        "spam ={\"bar\": 100}\n",
        "print(spam)\n",
        "type(spam)\n"
      ],
      "metadata": {
        "colab": {
          "base_uri": "https://localhost:8080/"
        },
        "id": "am8exOXpq8T8",
        "outputId": "c00a04fb-84d1-4d8b-f70d-2179d78c65fb"
      },
      "execution_count": 8,
      "outputs": [
        {
          "output_type": "stream",
          "name": "stdout",
          "text": [
            "{'bar': 100}\n"
          ]
        },
        {
          "output_type": "execute_result",
          "data": {
            "text/plain": [
              "dict"
            ]
          },
          "metadata": {},
          "execution_count": 8
        }
      ]
    },
    {
      "cell_type": "code",
      "source": [
        "spam['foo']"
      ],
      "metadata": {
        "colab": {
          "base_uri": "https://localhost:8080/",
          "height": 165
        },
        "id": "x9CI6uHLsagd",
        "outputId": "ebbb86a0-361c-46f3-e14d-dd8eb7f67ea6"
      },
      "execution_count": 9,
      "outputs": [
        {
          "output_type": "error",
          "ename": "KeyError",
          "evalue": "ignored",
          "traceback": [
            "\u001b[0;31m---------------------------------------------------------------------------\u001b[0m",
            "\u001b[0;31mKeyError\u001b[0m                                  Traceback (most recent call last)",
            "\u001b[0;32m<ipython-input-9-9b5a94d1de8d>\u001b[0m in \u001b[0;36m<module>\u001b[0;34m()\u001b[0m\n\u001b[0;32m----> 1\u001b[0;31m \u001b[0mspam\u001b[0m\u001b[0;34m[\u001b[0m\u001b[0;34m'foo'\u001b[0m\u001b[0;34m]\u001b[0m\u001b[0;34m\u001b[0m\u001b[0;34m\u001b[0m\u001b[0m\n\u001b[0m",
            "\u001b[0;31mKeyError\u001b[0m: 'foo'"
          ]
        }
      ]
    },
    {
      "cell_type": "markdown",
      "source": [
        "5. If a dictionary is stored in spam, what is the difference between the expressions 'cat' in spam and 'cat' in spam.keys() ?\n",
        "\n",
        "Answer: There is no difference . The operator checks whether a value exits as a key in the dictionary or not."
      ],
      "metadata": {
        "id": "A_JHoYYrtsvT"
      }
    },
    {
      "cell_type": "markdown",
      "source": [
        "6. If a dictionary is stored in spam, what is the difference between the expressions 'cat' in spam and 'cat' in spam.values()?\n",
        "\n",
        "\n",
        "Answer:  'cat' in spam checks whether there is a 'cat' key in the dictionary, while 'cat' in spam.values() checks whether there is a value 'cat' for one of the keys in spam."
      ],
      "metadata": {
        "id": "Oc4X9EdJuR_D"
      }
    },
    {
      "cell_type": "markdown",
      "source": [
        "7.   What is a shortcut for the following code?\n",
        "if 'color' not in spam:\n",
        "spam['color'] = 'black'\n",
        "\n",
        "\n",
        "Answer: spam.setdefault('color','black')\n"
      ],
      "metadata": {
        "id": "enskEfSqupgB"
      }
    },
    {
      "cell_type": "markdown",
      "source": [
        "8. How do you \"pretty print\" dictionary values using which module and function?\n",
        "\n",
        "\n",
        "Answer: 1. by using prett yprint() function of pprint module\n",
        "2. by using dumps() method of json module\n",
        "3. by using dumps() method of yaml module\n"
      ],
      "metadata": {
        "id": "W1P28IhPwEpK"
      }
    },
    {
      "cell_type": "code",
      "source": [
        ""
      ],
      "metadata": {
        "id": "8NxoeGoBseJK"
      },
      "execution_count": null,
      "outputs": []
    }
  ]
}