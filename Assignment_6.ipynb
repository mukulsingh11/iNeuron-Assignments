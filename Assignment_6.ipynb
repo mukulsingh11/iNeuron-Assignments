{
  "nbformat": 4,
  "nbformat_minor": 0,
  "metadata": {
    "colab": {
      "name": "Assignment 6.ipynb",
      "provenance": [],
      "collapsed_sections": [],
      "authorship_tag": "ABX9TyMB+Ay8TSF/5h0JRIYzXvO1",
      "include_colab_link": true
    },
    "kernelspec": {
      "name": "python3",
      "display_name": "Python 3"
    },
    "language_info": {
      "name": "python"
    }
  },
  "cells": [
    {
      "cell_type": "markdown",
      "metadata": {
        "id": "view-in-github",
        "colab_type": "text"
      },
      "source": [
        "<a href=\"https://colab.research.google.com/github/mukulsingh078968/iNeuron-Assignments/blob/main/Assignment_6.ipynb\" target=\"_parent\"><img src=\"https://colab.research.google.com/assets/colab-badge.svg\" alt=\"Open In Colab\"/></a>"
      ]
    },
    {
      "cell_type": "markdown",
      "source": [
        "\n",
        "\n",
        "> SUBMITTED BY: Mukul Singh\n",
        "\n"
      ],
      "metadata": {
        "id": "fyimkqgMzeuK"
      }
    },
    {
      "cell_type": "markdown",
      "source": [
        "# 1. What are escape characters, and how do you use them?\n",
        "\n",
        "Answer:  In Python strings, the backslash \"    \\   \" is a special character, also called the \"escape\" character. It is used in representing certain whitespace characters: \"\\t\" is a tab, \"\\n\" is a newline. Conversely, prefixing a special character with \"\\\" turns it into an ordinary character."
      ],
      "metadata": {
        "id": "VrpOd9-v0T1e"
      }
    },
    {
      "cell_type": "code",
      "execution_count": 3,
      "metadata": {
        "colab": {
          "base_uri": "https://localhost:8080/"
        },
        "id": "knImvUbazc3j",
        "outputId": "08d7f8ad-2787-440f-9754-919719bc5565"
      },
      "outputs": [
        {
          "output_type": "stream",
          "name": "stdout",
          "text": [
            "hello word 'i am root'your friend\n"
          ]
        }
      ],
      "source": [
        "s='hello word \\'i am root\\'your friend'\n",
        "print(s)"
      ]
    },
    {
      "cell_type": "markdown",
      "source": [
        "**2. What do the escape characters n and t stand for?**\n",
        "\n",
        "Answer: It is used in representing certain whitespace characters: \"\\t\" is a tab, \"\\n\" is a newline, and \"\\r\" is a carriage return."
      ],
      "metadata": {
        "id": "3LQv7IFz2C84"
      }
    },
    {
      "cell_type": "markdown",
      "source": [
        "**3. What is the way to include backslash characters in a string?**\n",
        "\n",
        "Answer:  The   \\\\    escape character will represent the backslash character in a string"
      ],
      "metadata": {
        "id": "vQVfeoBl2mhF"
      }
    },
    {
      "cell_type": "markdown",
      "source": [
        "**4. The string \"Howl's Moving Castle\" is a correct value. Why isn't the single quote character in the word Howl's not escaped a problem?**\n",
        "\n",
        "Answer: The single quote in Howl's is fine because you've used double quotes to mark the beginning and end of the string.\n"
      ],
      "metadata": {
        "id": "llQexkqc3iDD"
      }
    },
    {
      "cell_type": "markdown",
      "source": [
        "**5**. How do you write a string of newlines if you don't want to use the n character?\n",
        "\n",
        "Answer:"
      ],
      "metadata": {
        "id": "vzbNDQjA4OXu"
      }
    },
    {
      "cell_type": "code",
      "source": [
        "s= \"\"\" hello word is very \n",
        "famouse because \n",
        "every programmer \n",
        "is \n",
        "known about \n",
        "where is this word \n",
        "came here\"\"\"\n",
        "print(s)\n",
        "type(s)"
      ],
      "metadata": {
        "colab": {
          "base_uri": "https://localhost:8080/"
        },
        "id": "E85VPLDI1QS4",
        "outputId": "11aafbb6-0ebc-40ef-9fe4-cb369073bfca"
      },
      "execution_count": 5,
      "outputs": [
        {
          "output_type": "stream",
          "name": "stdout",
          "text": [
            " hello word is very \n",
            "famouse because \n",
            "every programmer \n",
            "is \n",
            "known about \n",
            "where is this word \n",
            "came here\n"
          ]
        },
        {
          "output_type": "execute_result",
          "data": {
            "text/plain": [
              "str"
            ]
          },
          "metadata": {},
          "execution_count": 5
        }
      ]
    },
    {
      "cell_type": "markdown",
      "source": [
        "**6**. What are the values of the given expressions?\n",
        "\n",
        "\n",
        "'Hello, world!'[1]\n",
        "\n",
        "'Hello, world!'[0:5]\n",
        "\n",
        "\n",
        "'Hello, world!'[:5]\n",
        "\n",
        "\n",
        "'Hello, world!'[3:]"
      ],
      "metadata": {
        "id": "C2xdYeYv5Xfd"
      }
    },
    {
      "cell_type": "code",
      "source": [
        "l='Hello,world!'\n",
        "l[1]\n"
      ],
      "metadata": {
        "colab": {
          "base_uri": "https://localhost:8080/",
          "height": 36
        },
        "id": "K4DZ_JF25FuO",
        "outputId": "ad59c8d6-5798-451c-cca1-3507cdf88807"
      },
      "execution_count": 7,
      "outputs": [
        {
          "output_type": "execute_result",
          "data": {
            "text/plain": [
              "'e'"
            ],
            "application/vnd.google.colaboratory.intrinsic+json": {
              "type": "string"
            }
          },
          "metadata": {},
          "execution_count": 7
        }
      ]
    },
    {
      "cell_type": "code",
      "source": [
        "l='Hello,world!'\n",
        "l[0:5]"
      ],
      "metadata": {
        "colab": {
          "base_uri": "https://localhost:8080/",
          "height": 36
        },
        "id": "P4IUmUCk5x7P",
        "outputId": "c94d71b6-8bc9-4770-c4e1-14f44c17bcbe"
      },
      "execution_count": 8,
      "outputs": [
        {
          "output_type": "execute_result",
          "data": {
            "text/plain": [
              "'Hello'"
            ],
            "application/vnd.google.colaboratory.intrinsic+json": {
              "type": "string"
            }
          },
          "metadata": {},
          "execution_count": 8
        }
      ]
    },
    {
      "cell_type": "code",
      "source": [
        "l='Hello,world!'\n",
        "l[:5]"
      ],
      "metadata": {
        "colab": {
          "base_uri": "https://localhost:8080/",
          "height": 36
        },
        "id": "lXXPgZ1n6SNN",
        "outputId": "35808853-2bac-4840-bf04-0e61a52b557d"
      },
      "execution_count": 9,
      "outputs": [
        {
          "output_type": "execute_result",
          "data": {
            "text/plain": [
              "'Hello'"
            ],
            "application/vnd.google.colaboratory.intrinsic+json": {
              "type": "string"
            }
          },
          "metadata": {},
          "execution_count": 9
        }
      ]
    },
    {
      "cell_type": "code",
      "source": [
        "l='hello,world!'\n",
        "l[3:]"
      ],
      "metadata": {
        "colab": {
          "base_uri": "https://localhost:8080/",
          "height": 36
        },
        "id": "eqEVaZSy6Y03",
        "outputId": "ee0bcdde-0a99-4a2d-a453-dba534e56999"
      },
      "execution_count": 10,
      "outputs": [
        {
          "output_type": "execute_result",
          "data": {
            "text/plain": [
              "'lo,world!'"
            ],
            "application/vnd.google.colaboratory.intrinsic+json": {
              "type": "string"
            }
          },
          "metadata": {},
          "execution_count": 10
        }
      ]
    },
    {
      "cell_type": "markdown",
      "source": [
        "**7.** What are the values of the following expressions?\n",
        "\n",
        "\n",
        "'Hello'.upper()\n",
        "\n",
        "\n",
        "'Hello'.upper().isupper()\n",
        "\n",
        "\n",
        "'Hello'.upper().lower()\n"
      ],
      "metadata": {
        "id": "T4GYa3vb6q4L"
      }
    },
    {
      "cell_type": "code",
      "source": [
        "s='Hello'\n",
        "s.upper()"
      ],
      "metadata": {
        "colab": {
          "base_uri": "https://localhost:8080/",
          "height": 36
        },
        "id": "mWrTNKqX6g6r",
        "outputId": "52bd54dc-b5c2-4caf-b85a-814b0b07a800"
      },
      "execution_count": 11,
      "outputs": [
        {
          "output_type": "execute_result",
          "data": {
            "text/plain": [
              "'HELLO'"
            ],
            "application/vnd.google.colaboratory.intrinsic+json": {
              "type": "string"
            }
          },
          "metadata": {},
          "execution_count": 11
        }
      ]
    },
    {
      "cell_type": "code",
      "source": [
        "s='Hello'.upper()\n",
        "s.isupper()"
      ],
      "metadata": {
        "colab": {
          "base_uri": "https://localhost:8080/"
        },
        "id": "7IeGCg6-680g",
        "outputId": "fb292198-38df-427d-ac0f-d991e7749e3b"
      },
      "execution_count": 13,
      "outputs": [
        {
          "output_type": "execute_result",
          "data": {
            "text/plain": [
              "True"
            ]
          },
          "metadata": {},
          "execution_count": 13
        }
      ]
    },
    {
      "cell_type": "code",
      "source": [
        "s='Hello'.upper()\n",
        "s.lower()"
      ],
      "metadata": {
        "colab": {
          "base_uri": "https://localhost:8080/",
          "height": 36
        },
        "id": "lQIKxpGR7Cto",
        "outputId": "4b2fd30e-30f8-4ff2-aa82-4e189508fc80"
      },
      "execution_count": 14,
      "outputs": [
        {
          "output_type": "execute_result",
          "data": {
            "text/plain": [
              "'hello'"
            ],
            "application/vnd.google.colaboratory.intrinsic+json": {
              "type": "string"
            }
          },
          "metadata": {},
          "execution_count": 14
        }
      ]
    },
    {
      "cell_type": "markdown",
      "source": [
        "**8**. What are the values of the following expressions?\n",
        "\n",
        "\n",
        "'Remember, remember, the fifth of July.'.split()\n",
        "\n",
        "\n",
        "'-'.join('There can only one.'.split())\n"
      ],
      "metadata": {
        "id": "DpBjVPFv7oqC"
      }
    },
    {
      "cell_type": "code",
      "source": [
        "s='Remember,remember,the fifth of july'\n",
        "s.split()"
      ],
      "metadata": {
        "colab": {
          "base_uri": "https://localhost:8080/"
        },
        "id": "FYEgb8cg7ajb",
        "outputId": "973a7d26-7887-4d8c-c105-faf50a18ac20"
      },
      "execution_count": 15,
      "outputs": [
        {
          "output_type": "execute_result",
          "data": {
            "text/plain": [
              "['Remember,remember,the', 'fifth', 'of', 'july']"
            ]
          },
          "metadata": {},
          "execution_count": 15
        }
      ]
    },
    {
      "cell_type": "code",
      "source": [
        "\"  \".join(\"There can only one\")"
      ],
      "metadata": {
        "colab": {
          "base_uri": "https://localhost:8080/",
          "height": 36
        },
        "id": "SQkoZDVr7_5Q",
        "outputId": "7595df30-2bce-44fe-eca2-75f35ae23362"
      },
      "execution_count": 16,
      "outputs": [
        {
          "output_type": "execute_result",
          "data": {
            "text/plain": [
              "'T  h  e  r  e     c  a  n     o  n  l  y     o  n  e'"
            ],
            "application/vnd.google.colaboratory.intrinsic+json": {
              "type": "string"
            }
          },
          "metadata": {},
          "execution_count": 16
        }
      ]
    },
    {
      "cell_type": "markdown",
      "source": [
        "**9.** What are the methods for right-justifying, left-justifying, and centering a string?\n",
        "\n",
        "Answer: The rjust(),ljust(),center() string methods, respectively"
      ],
      "metadata": {
        "id": "SnGTux_R8Zal"
      }
    },
    {
      "cell_type": "markdown",
      "source": [
        "10. What is the best way to remove whitespace characters from the start or end?\n",
        "\n",
        "Answer:The lstrip() and rstrip() methods remove whitesapce characters from the left and right ends of a string respectively"
      ],
      "metadata": {
        "id": "JmdbLdCi9F8t"
      }
    },
    {
      "cell_type": "code",
      "source": [
        ""
      ],
      "metadata": {
        "id": "vDmMWvte89__"
      },
      "execution_count": null,
      "outputs": []
    },
    {
      "cell_type": "code",
      "source": [
        "s=\"   krish naik sir is one of the big brand of Data Science industries   \"\n",
        "s.strip()"
      ],
      "metadata": {
        "colab": {
          "base_uri": "https://localhost:8080/",
          "height": 36
        },
        "outputId": "2f10167e-b217-4097-8730-0cf78e3b1bd7",
        "id": "dFj97HzN-QiO"
      },
      "execution_count": 22,
      "outputs": [
        {
          "output_type": "execute_result",
          "data": {
            "text/plain": [
              "'krish naik sir is one of the big brand of Data Science industries'"
            ],
            "application/vnd.google.colaboratory.intrinsic+json": {
              "type": "string"
            }
          },
          "metadata": {},
          "execution_count": 22
        }
      ]
    },
    {
      "cell_type": "code",
      "source": [
        "s.rstrip()"
      ],
      "metadata": {
        "colab": {
          "base_uri": "https://localhost:8080/",
          "height": 36
        },
        "id": "pPjSwdVR-Y1n",
        "outputId": "e5c56336-d909-4d90-bd84-078e51b26efe"
      },
      "execution_count": 23,
      "outputs": [
        {
          "output_type": "execute_result",
          "data": {
            "text/plain": [
              "'   krish naik sir is one of the big brand of Data Science industries'"
            ],
            "application/vnd.google.colaboratory.intrinsic+json": {
              "type": "string"
            }
          },
          "metadata": {},
          "execution_count": 23
        }
      ]
    },
    {
      "cell_type": "code",
      "source": [
        "s.lstrip()"
      ],
      "metadata": {
        "colab": {
          "base_uri": "https://localhost:8080/",
          "height": 36
        },
        "id": "kooZGVZE-bh3",
        "outputId": "7eb284e9-a09e-44b2-8a77-061bf03a07bb"
      },
      "execution_count": 25,
      "outputs": [
        {
          "output_type": "execute_result",
          "data": {
            "text/plain": [
              "'krish naik sir is one of the big brand of Data Science industries   '"
            ],
            "application/vnd.google.colaboratory.intrinsic+json": {
              "type": "string"
            }
          },
          "metadata": {},
          "execution_count": 25
        }
      ]
    },
    {
      "cell_type": "code",
      "source": [
        ""
      ],
      "metadata": {
        "id": "8fIe2QlX-gp-"
      },
      "execution_count": null,
      "outputs": []
    }
  ]
}