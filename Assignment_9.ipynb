{
  "nbformat": 4,
  "nbformat_minor": 0,
  "metadata": {
    "colab": {
      "name": "Assignment_9.ipynb",
      "provenance": [],
      "collapsed_sections": [],
      "authorship_tag": "ABX9TyPuY4pWNd2saMceGDuy9RVt",
      "include_colab_link": true
    },
    "kernelspec": {
      "name": "python3",
      "display_name": "Python 3"
    },
    "language_info": {
      "name": "python"
    }
  },
  "cells": [
    {
      "cell_type": "markdown",
      "metadata": {
        "id": "view-in-github",
        "colab_type": "text"
      },
      "source": [
        "<a href=\"https://colab.research.google.com/github/mukulsingh078968/iNeuron-Assignments/blob/main/Assignment_9.ipynb\" target=\"_parent\"><img src=\"https://colab.research.google.com/assets/colab-badge.svg\" alt=\"Open In Colab\"/></a>"
      ]
    },
    {
      "cell_type": "markdown",
      "source": [
        "*SUBMITTED BY: Mukul Singh*"
      ],
      "metadata": {
        "id": "f6MrZXPTBWFH"
      }
    },
    {
      "cell_type": "markdown",
      "source": [
        "**1**. To what does a relative path refer?\n",
        "\n",
        "Answer: A relative path refers to a location that is relative to a current directory. Relative paths make use of two special symbols, a dot (.) and a double-dot (..), which translate into the current directory and the parent directory. Double dots are used for moving up in the hierarchy.\n"
      ],
      "metadata": {
        "id": "JVCOFdSkBlAL"
      }
    },
    {
      "cell_type": "markdown",
      "source": [
        "**2.** What does an absolute path start with your operating system?\n",
        "\n",
        "Answer: windows operating is start with ( C: )\n"
      ],
      "metadata": {
        "id": "0wnHiEtBCF85"
      }
    },
    {
      "cell_type": "markdown",
      "source": [
        "**3.** What do the functions os.getcwd() and os.chdir() do?\n",
        "\n",
        "Answer: OS.getcwd() : CWD stands for Current Working Directory. This function allows you to see what your current working directory is. chdir(\"path-to-dir\") : Short for CHange DIRectory, this function allows you to set the current working directory to a path of your choice."
      ],
      "metadata": {
        "id": "l9nGPviqCkbi"
      }
    },
    {
      "cell_type": "markdown",
      "source": [
        "**4. **What are the . and .. folders?\n",
        "\n",
        "       . Represents the Current Directory Whereas .. Represents the Parent Directory of the Current Directory"
      ],
      "metadata": {
        "id": "edhko0rcDTNC"
      }
    },
    {
      "cell_type": "markdown",
      "source": [
        "**5.** In C:\\bacon\\eggs\\spam.txt, which part is the dir name, and which part is the base name?\n",
        "\n",
        "\n",
        "Answer: C:\\bacon\\eggs\\spam.txt\n",
        "\n",
        "         directory name is C:\\\\bagon\\\\eggs\n",
        "\n",
        "         base name is spam.txt"
      ],
      "metadata": {
        "id": "xSA9Xs7CEpcn"
      }
    },
    {
      "cell_type": "markdown",
      "source": [
        "**6.** What are the three “mode” arguments that can be passed to the open() function?\n",
        "\n",
        "Ansewe:  Opening Files in Python\n",
        "\n",
        "\n",
        "r   \tOpens a file for reading. \n",
        "\n",
        "w    \tOpens a file for writing. Creates a new file if it does not exist or   truncates the file if it exists.\n",
        "\n",
        "x    \tOpens a file for exclusive creation. If the file already exists, the operation fails."
      ],
      "metadata": {
        "id": "GqRPwZ4sF19-"
      }
    },
    {
      "cell_type": "markdown",
      "source": [
        "**7.** What happens if an existing file is opened in write mode?\n",
        "\n",
        "Answer: Using this mode, we can overwrite any existing content in a file. If the given file does not exist then a new one will be created.\n"
      ],
      "metadata": {
        "id": "YfDw-gZSHEEc"
      }
    },
    {
      "cell_type": "markdown",
      "source": [
        "**8.** How do you tell the difference between read() and readlines()?\n",
        "\n",
        "Answer: The main difference is that read() will read the whole file at once and then print out the first characters that take up as many bytes as you specify in the parenthesis versus the readline() that will read and print out only the first characters that take up as many bytes as you specify in the parenthesis."
      ],
      "metadata": {
        "id": "yXaliGlyIIZp"
      }
    },
    {
      "cell_type": "markdown",
      "source": [
        "**9.** What data structure does a shelf value resemble?\n",
        "\n",
        "Answer: A shelf value resembles a dictionary value; it has keys and values, along with keys() and values() methods that work similarly to the dictionary methods of the same names."
      ],
      "metadata": {
        "id": "zpjc9P9pIsLd"
      }
    },
    {
      "cell_type": "code",
      "execution_count": null,
      "metadata": {
        "id": "ZmaDdjt6AgEm"
      },
      "outputs": [],
      "source": [
        ""
      ]
    }
  ]
}