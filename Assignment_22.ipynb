{
  "nbformat": 4,
  "nbformat_minor": 0,
  "metadata": {
    "colab": {
      "name": "Assignment_22.ipynb",
      "provenance": [],
      "collapsed_sections": [],
      "authorship_tag": "ABX9TyP33Uk9lGK8oa0zLDM+ViWH",
      "include_colab_link": true
    },
    "kernelspec": {
      "name": "python3",
      "display_name": "Python 3"
    },
    "language_info": {
      "name": "python"
    }
  },
  "cells": [
    {
      "cell_type": "markdown",
      "metadata": {
        "id": "view-in-github",
        "colab_type": "text"
      },
      "source": [
        "<a href=\"https://colab.research.google.com/github/mukulsingh078968/iNeuron-Assignments/blob/main/Assignment_22.ipynb\" target=\"_parent\"><img src=\"https://colab.research.google.com/assets/colab-badge.svg\" alt=\"Open In Colab\"/></a>"
      ]
    },
    {
      "cell_type": "markdown",
      "source": [
        "**1**. What is the result of the code, and explain?\n",
        ">>> X = 'iNeuron'\n",
        "\n",
        ">>> def func():\n",
        "\n",
        "print(X)\n",
        "\n",
        "\n",
        ">>> func()\n"
      ],
      "metadata": {
        "id": "P3ajwURbCes_"
      }
    },
    {
      "cell_type": "code",
      "execution_count": null,
      "metadata": {
        "colab": {
          "base_uri": "https://localhost:8080/"
        },
        "id": "L9PnCc0CBuZ8",
        "outputId": "af0b752c-9d90-4e43-9241-d0a1eef78440"
      },
      "outputs": [
        {
          "output_type": "stream",
          "name": "stdout",
          "text": [
            "iNeuron\n"
          ]
        }
      ],
      "source": [
        "X = 'iNeuron'\n",
        "def func():\n",
        "    print(X)\n",
        "func()\n"
      ]
    },
    {
      "cell_type": "markdown",
      "source": [
        "Answer: the result of this code is \"iNeuron' because it is function look  for varible x,but there is no local varaible x,it return the value of variable x."
      ],
      "metadata": {
        "id": "FuD2BHRDC6o7"
      }
    },
    {
      "cell_type": "markdown",
      "source": [
        "\n",
        "**2**.  What is the result of the code, and explain?\n",
        "\n",
        "\n",
        ">>> X = 'iNeuron'\n",
        "\n",
        ">>> def func():\n",
        "\n",
        "X = 'NI!'\n",
        "\n",
        "\n",
        ">>> func()\n",
        ">>> print(X)\n",
        "\n",
        "\n",
        "\n",
        "Answer: The Result of this code is NI! because the function looks for the variable X in its local scope. If X is not available, then it checks for variable X in the global scope. X is present in the local scope, it directly prints the value NI! and does not look for a variable in global scope."
      ],
      "metadata": {
        "id": "MzxjtFuAEXnS"
      }
    },
    {
      "cell_type": "code",
      "source": [
        "x='iNeuron'\n",
        "def func():\n",
        "  x='NI!'\n",
        "  print(x)\n",
        "func()\n"
      ],
      "metadata": {
        "colab": {
          "base_uri": "https://localhost:8080/"
        },
        "id": "r7SYYsCBEdpb",
        "outputId": "82e35c43-9eab-42e3-bdcc-ea718404ac92"
      },
      "execution_count": 15,
      "outputs": [
        {
          "output_type": "stream",
          "name": "stdout",
          "text": [
            "NI!\n"
          ]
        }
      ]
    },
    {
      "cell_type": "markdown",
      "source": [
        "\n",
        "3. What does this code print, and why?\n",
        "\n",
        "\n",
        ">>> X = 'iNeuron'\n",
        "\n",
        ">>> def func():\n",
        "\n",
        "X = 'NI'\n",
        "\n",
        "\n",
        "print(X)\n",
        "\n",
        "\n",
        ">>> func()\n",
        "\n",
        "\n",
        ">>> print(X)\n",
        "\n",
        " Answer: The result of this code is iNeuron, NI. x='NI' is the local code of the function func(). print x values as NI .. x='iNeuron' is the globle scope . print(x) - - print output as 'iNeuron'"
      ],
      "metadata": {
        "id": "Iy91TkY8uEbM"
      }
    },
    {
      "cell_type": "code",
      "source": [
        "x='iNeuron'\n",
        "def fuc():\n",
        "  x=\"NI\"\n",
        "print(x)\n",
        "func()\n",
        "print()\n"
      ],
      "metadata": {
        "colab": {
          "base_uri": "https://localhost:8080/"
        },
        "id": "zZLnJ2cYsjBg",
        "outputId": "c8aacf78-dd44-4588-b3ea-5dbb16eb4f42"
      },
      "execution_count": 16,
      "outputs": [
        {
          "output_type": "stream",
          "name": "stdout",
          "text": [
            "iNeuron\n",
            "NI!\n",
            "\n"
          ]
        }
      ]
    },
    {
      "cell_type": "markdown",
      "source": [
        "\n",
        "4. What output does this code produce? Why?\n",
        "\n",
        "\n",
        ">>> X = 'iNeuron'\n",
        "\n",
        ">>> def func():\n",
        "\n",
        "global X\n",
        "\n",
        "X = 'NI'\n",
        "\n",
        "\n",
        ">>> func()\n",
        "\n",
        "\n",
        ">>> print(X)\n",
        "\n",
        "Answer:  The result is this code is 'NI'.because it is  global keyword allows a variable  in the current scope. Since we are using global keyword inside the function func(), it directly accesses the variable in X in global scope and changes its value to NI."
      ],
      "metadata": {
        "id": "8TOYhwtoxtsy"
      }
    },
    {
      "cell_type": "code",
      "source": [
        "x='iNeuron'\n",
        "def func():\n",
        "  global x\n",
        "  x='NI'\n",
        "func()\n",
        "print(x)"
      ],
      "metadata": {
        "colab": {
          "base_uri": "https://localhost:8080/"
        },
        "id": "2UNwlj8evCGf",
        "outputId": "c05ac204-6eff-4a8e-f2e6-ab930c8895ac"
      },
      "execution_count": 21,
      "outputs": [
        {
          "output_type": "stream",
          "name": "stdout",
          "text": [
            "NI\n"
          ]
        }
      ]
    },
    {
      "cell_type": "markdown",
      "source": [
        "\n",
        "5. What about this code—what’s the output, and why?\n",
        "\n",
        "\n",
        ">>> X = 'iNeuron'\n",
        ">>> def func():\n",
        "\n",
        "X = 'NI'\n",
        "\n",
        "def nested():\n",
        "\n",
        "print(X)\n",
        "\n",
        "nested()\n",
        "\n",
        "\n",
        ">>> func()\n",
        ">>> X\n",
        "\n",
        "Answer:  The output of the code is NI and iNeuron. Output of func() is 'NI' because it has a variable X as 'NI' in its local scope whereas Output of X is 'iNeuron' because it refers to variable X that is having global scope instead of referring to a variable having a local scope in a function."
      ],
      "metadata": {
        "id": "7oTN3FGNz3aj"
      }
    },
    {
      "cell_type": "code",
      "source": [
        "X = 'iNeuron'\n",
        "def func():\n",
        "    X = 'NI'\n",
        "    def nested():\n",
        "        print(X)\n",
        "    nested()\n",
        "func()\n",
        "X"
      ],
      "metadata": {
        "colab": {
          "base_uri": "https://localhost:8080/",
          "height": 53
        },
        "id": "9UACtOBA0s11",
        "outputId": "a0490231-1ae8-4cec-a554-60668ec9edc0"
      },
      "execution_count": 36,
      "outputs": [
        {
          "output_type": "stream",
          "name": "stdout",
          "text": [
            "NI\n"
          ]
        },
        {
          "output_type": "execute_result",
          "data": {
            "text/plain": [
              "'iNeuron'"
            ],
            "application/vnd.google.colaboratory.intrinsic+json": {
              "type": "string"
            }
          },
          "metadata": {},
          "execution_count": 36
        }
      ]
    },
    {
      "cell_type": "markdown",
      "source": [
        "\n",
        "6. How about this code: what is its output in Python 3, and explain?\n",
        "\n",
        "\n",
        ">>> def func():\n",
        "\n",
        "X = 'NI'\n",
        "\n",
        "def nested():\n",
        "\n",
        "nonlocal X\n",
        "\n",
        "X = 'Spam'\n",
        "\n",
        "nested()\n",
        "\n",
        "print(X)\n",
        "\n",
        "\n",
        ">>> func()\n",
        "\n",
        "Answer: The output of the code is Spam. nonlocal keyword in python is used to declare a variable as not local.Hence the statement X = \"Spam\" is modified in the global scope. Hence the output of print(X) statement is Spam\n",
        "\n"
      ],
      "metadata": {
        "id": "7yc52lpS2Ygp"
      }
    },
    {
      "cell_type": "code",
      "source": [
        "def func():\n",
        "    X = 'NI'\n",
        "    def nested():\n",
        "        nonlocal X\n",
        "        X = 'Spam'\n",
        "    nested()\n",
        "    print(X)\n",
        "func()"
      ],
      "metadata": {
        "colab": {
          "base_uri": "https://localhost:8080/"
        },
        "id": "YanjNCDS21BQ",
        "outputId": "49d1f801-0462-4be4-f0fa-01e84e84d57c"
      },
      "execution_count": 49,
      "outputs": [
        {
          "output_type": "stream",
          "name": "stdout",
          "text": [
            "Spam\n"
          ]
        }
      ]
    },
    {
      "cell_type": "code",
      "source": [
        ""
      ],
      "metadata": {
        "id": "ov-SvZU53ShK"
      },
      "execution_count": null,
      "outputs": []
    }
  ]
}