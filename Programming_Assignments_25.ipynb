{
  "nbformat": 4,
  "nbformat_minor": 0,
  "metadata": {
    "colab": {
      "provenance": [],
      "authorship_tag": "ABX9TyMMS1g3/P40Ry2aCAA4S9xp",
      "include_colab_link": true
    },
    "kernelspec": {
      "name": "python3",
      "display_name": "Python 3"
    },
    "language_info": {
      "name": "python"
    }
  },
  "cells": [
    {
      "cell_type": "markdown",
      "metadata": {
        "id": "view-in-github",
        "colab_type": "text"
      },
      "source": [
        "<a href=\"https://colab.research.google.com/github/mukulsingh078968/iNeuron-Assignments/blob/main/Programming_Assignments_25.ipynb\" target=\"_parent\"><img src=\"https://colab.research.google.com/assets/colab-badge.svg\" alt=\"Open In Colab\"/></a>"
      ]
    },
    {
      "cell_type": "markdown",
      "source": [
        "Question1\n",
        "Create a function that takes three integer arguments (a, b, c) and returns the amount of integers which are of equal value.\n",
        "Examples\n",
        "equal(3, 4, 3) ➞ 2\n",
        "\n",
        "equal(1, 1, 1) ➞ 3\n",
        "\n",
        "equal(3, 4, 1) ➞ 0 \n",
        "Notes\n",
        "Your function must return 0, 2 or 3.\n"
      ],
      "metadata": {
        "id": "nmw_zWsOOsSi"
      }
    },
    {
      "cell_type": "code",
      "execution_count": 1,
      "metadata": {
        "colab": {
          "base_uri": "https://localhost:8080/"
        },
        "id": "YH3AaE3PN8Tb",
        "outputId": "6cdc589a-0be2-494b-b07a-557a1ec6872d"
      },
      "outputs": [
        {
          "output_type": "stream",
          "name": "stdout",
          "text": [
            "(3, 4, 3) ➞ 0\n",
            "(1, 1, 1) ➞ 3\n",
            "(3, 4, 1) ➞ 0\n"
          ]
        }
      ],
      "source": [
        "def equal(a,b,c):\n",
        "    if a==b==c:\n",
        "        print(f'{a,b,c} ➞ {3}')\n",
        "    elif a==b or b==c:\n",
        "        print(f'{a,b,c} ➞ {2}')\n",
        "    else:\n",
        "        print(f'{a,b,c} ➞ {0}')\n",
        "\n",
        "equal(3, 4, 3)\n",
        "equal(1, 1, 1)\n",
        "equal(3, 4, 1)\n"
      ]
    },
    {
      "cell_type": "markdown",
      "source": [
        "Question2\n",
        "Write a function that converts a dictionary into a list of keys-values tuples.\n",
        "Examples\n",
        "dict_to_list({\n",
        "  \"D\": 1,\n",
        "  \"B\": 2,\n",
        "  \"C\": 3\n",
        "}) ➞ [(\"B\", 2), (\"C\", 3), (\"D\", 1)]\n",
        "\n",
        "dict_to_list({\n",
        "  \"likes\": 2,\n",
        "  \"dislikes\": 3,\n",
        "  \"followers\": 10\n",
        "}) ➞ [(\"dislikes\", 3), (\"followers\", 10), (\"likes\", 2)]\n",
        "Notes\n",
        "Return the elements in the list in alphabetical order.\n"
      ],
      "metadata": {
        "id": "sis6eedxPFoQ"
      }
    },
    {
      "cell_type": "code",
      "source": [
        "def dict_to_list(in_dict):\n",
        "    out_list = []\n",
        "    for keys,values in in_dict.items():\n",
        "        out_list.append((keys,values))\n",
        "    print(f'{in_dict} ➞ {out_list}')\n",
        "                   \n",
        "dict_to_list({\"D\": 1,\"B\": 2,\"C\": 3})\n",
        "dict_to_list({\"likes\": 2,\"dislikes\": 3,\"followers\": 10})"
      ],
      "metadata": {
        "colab": {
          "base_uri": "https://localhost:8080/"
        },
        "id": "SGGL8ATwPBI5",
        "outputId": "f5653ea9-d06d-4509-eebf-95f18074aa5d"
      },
      "execution_count": 2,
      "outputs": [
        {
          "output_type": "stream",
          "name": "stdout",
          "text": [
            "{'D': 1, 'B': 2, 'C': 3} ➞ [('D', 1), ('B', 2), ('C', 3)]\n",
            "{'likes': 2, 'dislikes': 3, 'followers': 10} ➞ [('likes', 2), ('dislikes', 3), ('followers', 10)]\n"
          ]
        }
      ]
    },
    {
      "cell_type": "markdown",
      "source": [
        "Question3\n",
        "Write a function that creates a dictionary with each (key, value) pair being the (lower case, upper case) versions of a letter, respectively.\n",
        "Examples\n",
        "mapping([\"p\", \"s\"]) ➞ { \"p\": \"P\", \"s\": \"S\" }\n",
        "\n",
        "mapping([\"a\", \"b\", \"c\"]) ➞ { \"a\": \"A\", \"b\": \"B\", \"c\": \"C\" }\n",
        "\n",
        "mapping([\"a\", \"v\", \"y\", \"z\"]) ➞ { \"a\": \"A\", \"v\": \"V\", \"y\": \"Y\", \"z\": \"Z\" }\n",
        "Notes\n",
        "All of the letters in the input list will always be lowercase.\n"
      ],
      "metadata": {
        "id": "NVTDtNHaPU3I"
      }
    },
    {
      "cell_type": "code",
      "source": [
        "def mapping(in_list):\n",
        "    out_dict = {}\n",
        "    for i in in_list:\n",
        "        out_dict[i] = i.upper()\n",
        "    print(f'{in_list} ➞ {out_dict}')\n",
        "    \n",
        "mapping([\"p\", \"s\"])\n",
        "mapping([\"a\", \"b\", \"c\"])\n",
        "mapping([\"a\", \"v\", \"y\", \"z\"])"
      ],
      "metadata": {
        "colab": {
          "base_uri": "https://localhost:8080/"
        },
        "id": "X97Y5mStPOg8",
        "outputId": "d30bc249-e19a-4864-833d-3a8f54c62084"
      },
      "execution_count": 3,
      "outputs": [
        {
          "output_type": "stream",
          "name": "stdout",
          "text": [
            "['p', 's'] ➞ {'p': 'P', 's': 'S'}\n",
            "['a', 'b', 'c'] ➞ {'a': 'A', 'b': 'B', 'c': 'C'}\n",
            "['a', 'v', 'y', 'z'] ➞ {'a': 'A', 'v': 'V', 'y': 'Y', 'z': 'Z'}\n"
          ]
        }
      ]
    },
    {
      "cell_type": "code",
      "source": [],
      "metadata": {
        "id": "wQ_Ha7XFPn4z"
      },
      "execution_count": null,
      "outputs": []
    },
    {
      "cell_type": "markdown",
      "source": [
        "\n",
        "\n",
        "Question4\n",
        "Write a function, that replaces all vowels in a string with a specified vowel.\n",
        "Examples\n",
        "vow_replace(\"apples and bananas\", \"u\") ➞ \"upplus und bununus\"\n",
        "\n",
        "vow_replace(\"cheese casserole\", \"o\") ➞ \"chooso cossorolo\"\n",
        "\n",
        "vow_replace(\"stuffed jalapeno poppers\", \"e\") ➞ \"steffed jelepene peppers\"\n",
        "Notes\n",
        "All words will be lowercase. Y is not considered a vowel.\n"
      ],
      "metadata": {
        "id": "ae8uzapdPuoF"
      }
    },
    {
      "cell_type": "code",
      "source": [
        "def vow_replace(in_string,vow_char):\n",
        "    vowels = ['a','e','i','o','u']\n",
        "    out_string = ''\n",
        "    for i in in_string:\n",
        "        if i in vowels:\n",
        "            out_string += vow_char\n",
        "        else:\n",
        "            out_string += i\n",
        "    print(f'{in_string} ➞ {out_string}')\n",
        "        \n",
        "vow_replace(\"apples and bananas\", \"u\")\n",
        "vow_replace(\"cheese casserole\", \"o\")\n",
        "vow_replace(\"stuffed jalapeno poppers\", \"e\")"
      ],
      "metadata": {
        "colab": {
          "base_uri": "https://localhost:8080/"
        },
        "id": "bsWyx8ccP5CH",
        "outputId": "4521284b-e150-41c1-e656-e63a5f01cee8"
      },
      "execution_count": 4,
      "outputs": [
        {
          "output_type": "stream",
          "name": "stdout",
          "text": [
            "apples and bananas ➞ upplus und bununus\n",
            "cheese casserole ➞ chooso cossorolo\n",
            "stuffed jalapeno poppers ➞ steffed jelepene peppers\n"
          ]
        }
      ]
    },
    {
      "cell_type": "markdown",
      "source": [
        "Question5\n",
        "Create a function that takes a string as input and capitalizes a letter if its ASCII code is even and returns its lower case version if its ASCII code is odd.\n",
        "Examples\n",
        "ascii_capitalize(\"to be or not to be!\") ➞ \"To Be oR NoT To Be!\"\n",
        "\n",
        "ascii_capitalize(\"THE LITTLE MERMAID\") ➞ \"THe LiTTLe meRmaiD\"\n",
        "\n",
        "ascii_capitalize(\"Oh what a beautiful morning.\") ➞ \"oH wHaT a BeauTiFuL moRNiNg.\"\n",
        "\n"
      ],
      "metadata": {
        "id": "uiVvFwZGQGgk"
      }
    },
    {
      "cell_type": "code",
      "source": [
        "def ascii_capitalize(in_string):\n",
        "    out_string = ''\n",
        "    for i in in_string.lower():\n",
        "        if (ord(i)%2 == 0):\n",
        "            out_string += i.upper()\n",
        "        else:\n",
        "            out_string += i\n",
        "    print(f'{in_string} ➞ {out_string}')\n",
        "        \n",
        "ascii_capitalize(\"to be or not to be!\")\n",
        "ascii_capitalize(\"THE LITTLE MERMAID\")\n",
        "ascii_capitalize(\"Oh what a beautiful morning.\")"
      ],
      "metadata": {
        "colab": {
          "base_uri": "https://localhost:8080/"
        },
        "id": "bUCeJJCnQBGR",
        "outputId": "3f602753-33fc-41e6-c977-0a968329b40c"
      },
      "execution_count": 5,
      "outputs": [
        {
          "output_type": "stream",
          "name": "stdout",
          "text": [
            "to be or not to be! ➞ To Be oR NoT To Be!\n",
            "THE LITTLE MERMAID ➞ THe LiTTLe meRmaiD\n",
            "Oh what a beautiful morning. ➞ oH wHaT a BeauTiFuL moRNiNg.\n"
          ]
        }
      ]
    },
    {
      "cell_type": "code",
      "source": [],
      "metadata": {
        "id": "442oyJsbQVxi"
      },
      "execution_count": null,
      "outputs": []
    }
  ]
}