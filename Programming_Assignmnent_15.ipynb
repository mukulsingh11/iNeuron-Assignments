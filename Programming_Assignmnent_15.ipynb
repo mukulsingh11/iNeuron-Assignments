{
  "nbformat": 4,
  "nbformat_minor": 0,
  "metadata": {
    "colab": {
      "provenance": [],
      "collapsed_sections": [],
      "authorship_tag": "ABX9TyPbUNXPbXH2UyYakHcXNQ/K",
      "include_colab_link": true
    },
    "kernelspec": {
      "name": "python3",
      "display_name": "Python 3"
    },
    "language_info": {
      "name": "python"
    }
  },
  "cells": [
    {
      "cell_type": "markdown",
      "metadata": {
        "id": "view-in-github",
        "colab_type": "text"
      },
      "source": [
        "<a href=\"https://colab.research.google.com/github/mukulsingh078968/iNeuron-Assignments/blob/main/Programming_Assignmnent_15.ipynb\" target=\"_parent\"><img src=\"https://colab.research.google.com/assets/colab-badge.svg\" alt=\"Open In Colab\"/></a>"
      ]
    },
    {
      "cell_type": "markdown",
      "source": [
        "Question 1:\n",
        "Please write a program using generator to print the numbers which can be divisible by 5 and 7 between 0 and n in comma separated form while n is input by console.\n",
        "Example:\n",
        "If the following n is given as input to the program:\n",
        "100\n",
        "Then, the output of the program should be:\n",
        "0,35,70\n"
      ],
      "metadata": {
        "id": "PzRvM9NvdkMp"
      }
    },
    {
      "cell_type": "code",
      "source": [
        "for i in range(100):\n",
        "  if (i % 5==0) and (i % 7==0):\n",
        "    print(i,end = \" \")"
      ],
      "metadata": {
        "colab": {
          "base_uri": "https://localhost:8080/"
        },
        "id": "JRApReXkdMfA",
        "outputId": "f4e301bc-f2fd-4e72-f00c-71b1fd11b37d"
      },
      "execution_count": 2,
      "outputs": [
        {
          "output_type": "stream",
          "name": "stdout",
          "text": [
            "0 35 70 "
          ]
        }
      ]
    },
    {
      "cell_type": "markdown",
      "source": [
        "Question 2:\n",
        "Please write a program using generator to print the even numbers between 0 and n in comma separated form while n is input by console.\n",
        "Example:\n",
        "If the following n is given as input to the program:\n",
        "10\n",
        "Then, the output of the program should be:\n",
        "0,2,4,6,8,10\n",
        "\n"
      ],
      "metadata": {
        "id": "ORjBrp-ddtHa"
      }
    },
    {
      "cell_type": "code",
      "source": [
        "for i in range(10):\n",
        "  if i % 2 ==0:\n",
        "    print(i)"
      ],
      "metadata": {
        "colab": {
          "base_uri": "https://localhost:8080/"
        },
        "id": "D1JX70j_dgGv",
        "outputId": "af61b968-de3c-46e6-f399-a7dc807a91a2"
      },
      "execution_count": 3,
      "outputs": [
        {
          "output_type": "stream",
          "name": "stdout",
          "text": [
            "0\n",
            "2\n",
            "4\n",
            "6\n",
            "8\n"
          ]
        }
      ]
    },
    {
      "cell_type": "markdown",
      "source": [
        "\n",
        "Question 3:\n",
        "The Fibonacci Sequence is computed based on the following formula:\n",
        "f(n)=0 if n=0\n",
        "f(n)=1 if n=1\n",
        "f(n)=f(n-1)+f(n-2) if n>1\n",
        "Please write a program using list comprehension to print the Fibonacci Sequence in comma separated form with a given n input by console.\n",
        "Example:\n",
        "If the following n is given as input to the program:\n",
        "7\n",
        "\n",
        "Then, the output of the program should be:\n",
        "0,1,1,2,3,5,8,13\n"
      ],
      "metadata": {
        "id": "LeicmEySeStp"
      }
    },
    {
      "cell_type": "code",
      "source": [
        "def genFibonaci(in_num):\n",
        "    if in_num == 0:\n",
        "        return 0\n",
        "    elif in_num == 1:\n",
        "        return 1\n",
        "    else:\n",
        "        return genFibonaci(in_num-1)+genFibonaci(in_num-2)\n",
        "    \n",
        "print([genFibonaci(x) for x in range(10)])"
      ],
      "metadata": {
        "colab": {
          "base_uri": "https://localhost:8080/"
        },
        "id": "-jZU7zNggQDK",
        "outputId": "c631d29c-5723-4c61-e1d0-f12b40024403"
      },
      "execution_count": 14,
      "outputs": [
        {
          "output_type": "stream",
          "name": "stdout",
          "text": [
            "[0, 1, 1, 2, 3, 5, 8, 13, 21, 34]\n"
          ]
        }
      ]
    },
    {
      "cell_type": "markdown",
      "source": [
        "\n",
        "Question 4:\n",
        "Assuming that we have some email addresses in the \"username@companyname.com\" format, please write program to print the user name of a given email address. Both user names and company names are composed of letters only.\n",
        "Example:\n",
        "If the following email address is given as input to the program:\n",
        "john@google.com\n",
        "Then, the output of the program should be:\n",
        "john\n"
      ],
      "metadata": {
        "id": "ZMDQFuu6hQlL"
      }
    },
    {
      "cell_type": "code",
      "source": [
        "in_string = input('Enter Email Address(es): ')\n",
        "out_string = in_string.split('@')\n",
        "print(f'Username of {in_string} is {out_string[0]}')\n"
      ],
      "metadata": {
        "colab": {
          "base_uri": "https://localhost:8080/"
        },
        "id": "12lxScZlgQo5",
        "outputId": "89e22d4d-ad84-4894-fc15-4c6ccd4e1794"
      },
      "execution_count": 15,
      "outputs": [
        {
          "output_type": "stream",
          "name": "stdout",
          "text": [
            "Enter Email Address(es): sudhanshu@ineuron.ai\n",
            "Username of sudhanshu@ineuron.ai is sudhanshu\n"
          ]
        }
      ]
    },
    {
      "cell_type": "markdown",
      "source": [
        "Question 5:\n",
        "Define a class named Shape and its subclass Square. The Square class has an init function which takes a length as argument. Both classes have a area function which can print the area of the shape where Shape's area is 0 by default.\n",
        "\n"
      ],
      "metadata": {
        "id": "8X6a0DDlh-ZM"
      }
    },
    {
      "cell_type": "code",
      "source": [
        "class Shape:\n",
        "    def area(self):\n",
        "        return 0\n",
        "\n",
        "class Square(Shape):\n",
        "    def __init__(self, length):\n",
        "        self.length = length\n",
        "    def area(self):\n",
        "        return self.length*self.length\n",
        "\n",
        "square = Square(5)\n",
        "print(square.area())"
      ],
      "metadata": {
        "colab": {
          "base_uri": "https://localhost:8080/"
        },
        "id": "dM_p1hBIhkur",
        "outputId": "0e96914d-d9a6-4c58-ef61-c9747df1f3a7"
      },
      "execution_count": 16,
      "outputs": [
        {
          "output_type": "stream",
          "name": "stdout",
          "text": [
            "25\n"
          ]
        }
      ]
    }
  ]
}