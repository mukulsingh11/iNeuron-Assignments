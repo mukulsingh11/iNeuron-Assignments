{
  "nbformat": 4,
  "nbformat_minor": 0,
  "metadata": {
    "colab": {
      "provenance": [],
      "authorship_tag": "ABX9TyM7OREAywjoz7n9+sgjOFfd",
      "include_colab_link": true
    },
    "kernelspec": {
      "name": "python3",
      "display_name": "Python 3"
    },
    "language_info": {
      "name": "python"
    }
  },
  "cells": [
    {
      "cell_type": "markdown",
      "metadata": {
        "id": "view-in-github",
        "colab_type": "text"
      },
      "source": [
        "<a href=\"https://colab.research.google.com/github/mukulsingh078968/iNeuron-Assignments/blob/main/Programming_Assignment_21.ipynb\" target=\"_parent\"><img src=\"https://colab.research.google.com/assets/colab-badge.svg\" alt=\"Open In Colab\"/></a>"
      ]
    },
    {
      "cell_type": "markdown",
      "source": [
        "Question1\n",
        "Write a function that takes a list and a number as arguments. Add the number to the end of the list, then remove the first element of the list. The function should then return the updated list.\n",
        "Examples\n",
        "next_in_line([5, 6, 7, 8, 9], 1) ➞ [6, 7, 8, 9, 1]\n",
        "\n",
        "next_in_line([7, 6, 3, 23, 17], 10) ➞ [6, 3, 23, 17, 10]\n",
        "\n",
        "next_in_line([1, 10, 20, 42 ], 6) ➞ [10, 20, 42, 6]\n",
        "\n",
        "next_in_line([], 6) ➞ \"No list has been selected\"\n",
        "\n"
      ],
      "metadata": {
        "id": "0DJeWCnDbMsU"
      }
    },
    {
      "cell_type": "code",
      "execution_count": 2,
      "metadata": {
        "colab": {
          "base_uri": "https://localhost:8080/"
        },
        "id": "1t5ypCCdbLlh",
        "outputId": "f95db965-126e-49c0-b9d5-9707bcb14f9f"
      },
      "outputs": [
        {
          "output_type": "stream",
          "name": "stdout",
          "text": [
            "Output ➞ [6, 7, 8, 9, 1]\n",
            "Output ➞ [6, 3, 23, 17, 10]\n",
            "Output ➞ [10, 20, 42, 6]\n",
            "No list has been selected\n"
          ]
        }
      ],
      "source": [
        "def next_in_line(in_list,in_num):\n",
        "    if len(in_list) > 1:\n",
        "        in_list.append(in_num)\n",
        "        in_list.remove(in_list[0])\n",
        "        print(f'Output ➞ {in_list}')\n",
        "    else:\n",
        "        print('No list has been selected')\n",
        "\n",
        "next_in_line([5, 6, 7, 8, 9], 1) \n",
        "next_in_line([7, 6, 3, 23, 17], 10)\n",
        "next_in_line([1, 10, 20, 42 ], 6)\n",
        "next_in_line([], 6)\n"
      ]
    },
    {
      "cell_type": "markdown",
      "source": [
        "Question2\n",
        "Create the function that takes a list of dictionaries and returns the sum of people's budgets.\n",
        "Examples\n",
        "get_budgets([\n",
        "  { \"name\": \"John\", \"age\": 21, \"budget\": 23000 },\n",
        "  { \"name\": \"Steve\",  \"age\": 32, \"budget\": 40000 },\n",
        "  { \"name\": \"Martin\",  \"age\": 16, \"budget\": 2700 }\n",
        "]) ➞ 65700\n",
        "\n",
        "get_budgets([\n",
        "  { \"name\": \"John\",  \"age\": 21, \"budget\": 29000 },\n",
        "  { \"name\": \"Steve\",  \"age\": 32, \"budget\": 32000 },\n",
        "  { \"name\": \"Martin\",  \"age\": 16, \"budget\": 1600 }\n",
        "]) ➞ 62600\n",
        "\n"
      ],
      "metadata": {
        "id": "zIaFFPGIdyMi"
      }
    },
    {
      "cell_type": "code",
      "source": [
        "\n",
        "def dect(in_dict):\n",
        "    sum = 0\n",
        "    for i in in_dict:\n",
        "        sum += i[\"budget\"]\n",
        "    print(f'Output ➞ {sum}')\n",
        "    \n",
        "dect([\n",
        "{ \"name\": \"John\", \"age\": 21, \"budget\": 23000 },\n",
        "{ \"name\": \"Steve\", \"age\": 32, \"budget\": 40000 },\n",
        "{ \"name\": \"Martin\", \"age\": 16, \"budget\": 2700 }\n",
        "])\n",
        "\n",
        "dect([\n",
        "{ \"name\": \"John\", \"age\": 21, \"budget\": 29000 },\n",
        "{ \"name\": \"Steve\", \"age\": 32, \"budget\": 32000 },\n",
        "{ \"name\": \"Martin\", \"age\": 16, \"budget\": 1600 }\n",
        "])\n"
      ],
      "metadata": {
        "colab": {
          "base_uri": "https://localhost:8080/"
        },
        "id": "qWskwNzwdwYu",
        "outputId": "e13542b3-7c1e-405d-83fe-b63721ad77b1"
      },
      "execution_count": 4,
      "outputs": [
        {
          "output_type": "stream",
          "name": "stdout",
          "text": [
            "Output ➞ 65700\n",
            "Output ➞ 62600\n"
          ]
        }
      ]
    },
    {
      "cell_type": "markdown",
      "source": [
        "Question3\n",
        "Create a function that takes a string and returns a string with its letters in alphabetical order.\n",
        "Examples\n",
        "alphabet_soup(\"hello\") ➞ \"ehllo\"\n",
        "\n",
        "alphabet_soup(\"edabit\") ➞ \"abdeit\"\n",
        "\n",
        "alphabet_soup(\"hacker\") ➞ \"acehkr\"\n",
        "\n",
        "alphabet_soup(\"geek\") ➞ \"eegk\"\n",
        "\n",
        "alphabet_soup(\"javascript\") ➞ \"aacijprstv\"\n"
      ],
      "metadata": {
        "id": "ccU81D7ueitT"
      }
    },
    {
      "cell_type": "code",
      "source": [
        "def alphabet_soup(in_string):\n",
        "    out_string = ''.join(sorted(in_string))\n",
        "    print(f'{in_string} ➞ {out_string}')\n",
        "\n",
        "alphabet_soup(\"hello\")\n",
        "alphabet_soup(\"edabit\")\n",
        "alphabet_soup(\"hacker\")\n",
        "alphabet_soup(\"geek\")\n",
        "alphabet_soup(\"javascript\")"
      ],
      "metadata": {
        "colab": {
          "base_uri": "https://localhost:8080/"
        },
        "id": "dqK-ksvledEZ",
        "outputId": "d61667be-847e-4ebe-be6b-2df138e0ceb3"
      },
      "execution_count": 5,
      "outputs": [
        {
          "output_type": "stream",
          "name": "stdout",
          "text": [
            "hello ➞ ehllo\n",
            "edabit ➞ abdeit\n",
            "hacker ➞ acehkr\n",
            "geek ➞ eegk\n",
            "javascript ➞ aacijprstv\n"
          ]
        }
      ]
    },
    {
      "cell_type": "markdown",
      "source": [
        "Question4\n",
        "Suppose that you invest $10,000 for 10 years at an interest rate of 6% compounded monthly. What will be the value of your investment at the end of the 10 year period?\n",
        "Create a function that accepts the principal p, the term in years t, the interest rate r, and the number of compounding periods per year n. The function returns the value at the end of term rounded to the nearest cent.\n",
        "For the example above:\n",
        "compound_interest(10000, 10, 0.06, 12) ➞ 18193.97\n",
        "Note that the interest rate is given as a decimal and n=12 because with monthly compounding there are 12 periods per year. Compounding can also be done annually, quarterly, weekly, or daily.\n",
        "Examples\n",
        "compound_interest(100, 1, 0.05, 1) ➞ 105.0\n",
        "\n",
        "compound_interest(3500, 15, 0.1, 4) ➞ 15399.26\n",
        "\n",
        "compound_interest(100000, 20, 0.15, 365) ➞ 2007316.26\n",
        "\n"
      ],
      "metadata": {
        "id": "vMOpsSCSfSYO"
      }
    },
    {
      "cell_type": "code",
      "source": [
        "\n",
        "\n",
        "def compound_interest(principal,years,roi,cp):\n",
        "    compound_interest = principal*(1+(roi/cp))**(cp*years)\n",
        "    print(f'Output ➞ {compound_interest:.2f}')\n",
        "\n",
        "compound_interest(100, 1, 0.05, 1)\n",
        "compound_interest(3500, 15, 0.1, 4)\n",
        "compound_interest(100000, 20, 0.15, 365)"
      ],
      "metadata": {
        "colab": {
          "base_uri": "https://localhost:8080/"
        },
        "id": "pF_jE02ThKge",
        "outputId": "6028aa7f-dbf2-4422-c572-1222b7106cc1"
      },
      "execution_count": 16,
      "outputs": [
        {
          "output_type": "stream",
          "name": "stdout",
          "text": [
            "Output ➞ 105.00\n",
            "Output ➞ 15399.26\n",
            "Output ➞ 2007316.26\n"
          ]
        }
      ]
    },
    {
      "cell_type": "markdown",
      "source": [
        "\n",
        "Question5\n",
        "Write a function that takes a list of elements and returns only the integers.\n",
        "Examples\n",
        "return_only_integer([9, 2, \"space\", \"car\", \"lion\", 16]) ➞ [9, 2, 16]\n",
        "\n",
        "return_only_integer([\"hello\", 81, \"basketball\", 123, \"fox\"]) ➞ [81, 123]\n",
        "\n",
        "return_only_integer([10, \"121\", 56, 20, \"car\", 3, \"lion\"]) ➞ [10, 56, 20, 3]\n",
        "\n",
        "return_only_integer([\"String\",  True,  3.3,  1]) ➞ [1]\n"
      ],
      "metadata": {
        "id": "hbaHUOd2hc2u"
      }
    },
    {
      "cell_type": "code",
      "source": [
        "def return_only_integer(in_list):\n",
        "    out_list = []\n",
        "    for ele in in_list:\n",
        "        if type(ele) == int:\n",
        "            out_list.append(ele)\n",
        "    print(f'{in_list} ➞ {out_list}')\n",
        "    \n",
        "return_only_integer([9, 2, \"space\", \"car\", \"lion\", 16])\n",
        "return_only_integer([\"hello\", 81, \"basketball\", 123, \"fox\"])\n",
        "return_only_integer([10, \"121\", 56, 20, \"car\", 3, \"lion\"]) \n",
        "return_only_integer([\"String\", True, 3.3, 1])"
      ],
      "metadata": {
        "colab": {
          "base_uri": "https://localhost:8080/"
        },
        "id": "IDO3ZQuPhXuO",
        "outputId": "16d02ace-7333-40ab-dceb-89885d1eb12f"
      },
      "execution_count": 17,
      "outputs": [
        {
          "output_type": "stream",
          "name": "stdout",
          "text": [
            "[9, 2, 'space', 'car', 'lion', 16] ➞ [9, 2, 16]\n",
            "['hello', 81, 'basketball', 123, 'fox'] ➞ [81, 123]\n",
            "[10, '121', 56, 20, 'car', 3, 'lion'] ➞ [10, 56, 20, 3]\n",
            "['String', True, 3.3, 1] ➞ [1]\n"
          ]
        }
      ]
    },
    {
      "cell_type": "code",
      "source": [],
      "metadata": {
        "id": "44uNKzEWhnBF"
      },
      "execution_count": null,
      "outputs": []
    }
  ]
}