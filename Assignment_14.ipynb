{
  "nbformat": 4,
  "nbformat_minor": 0,
  "metadata": {
    "colab": {
      "name": "Assignment_14.ipynb",
      "provenance": [],
      "collapsed_sections": [],
      "authorship_tag": "ABX9TyMn9giDyv73D1ro0I5uENXl",
      "include_colab_link": true
    },
    "kernelspec": {
      "name": "python3",
      "display_name": "Python 3"
    },
    "language_info": {
      "name": "python"
    }
  },
  "cells": [
    {
      "cell_type": "markdown",
      "metadata": {
        "id": "view-in-github",
        "colab_type": "text"
      },
      "source": [
        "<a href=\"https://colab.research.google.com/github/mukulsingh078968/iNeuron-Assignments/blob/main/Assignment_14.ipynb\" target=\"_parent\"><img src=\"https://colab.research.google.com/assets/colab-badge.svg\" alt=\"Open In Colab\"/></a>"
      ]
    },
    {
      "cell_type": "markdown",
      "source": [
        "SUBMITTED BY: Mukul Singh"
      ],
      "metadata": {
        "id": "BEkHtMdEX_r7"
      }
    },
    {
      "cell_type": "markdown",
      "source": [
        "1. What does RGBA stand for?\n",
        "\n",
        "Answer: RGBA  is the stand form are Red, Green, Blue, Alpha. The RGB color model is extended in this specification to include “alpha” to allow specification of the opacity of a color.\n"
      ],
      "metadata": {
        "id": "w4XW-FMtYU43"
      }
    },
    {
      "cell_type": "markdown",
      "source": [
        "**2**.From the Pillow module, how do you get the RGBA value of any images?\n",
        "\n",
        "Answer: 1. Import the Image module from the Pillow library from PIL import Image.\n",
        "2.  Open any image and get the RAGBAG values. img = Image.open('image.png') rgba = img.convert(“RGBA”) ...\n",
        "3.  Change the color. Data will be an Imaging Core object containing thousands of tuples of RGBA values. ...\n",
        "4.  Store the changed image.\n",
        "\n"
      ],
      "metadata": {
        "id": "IOJKAeDiZ0iG"
      }
    },
    {
      "cell_type": "markdown",
      "source": [
        "**3**. What is a box tuple, and how does it work?\n",
        "\n",
        "Answer: Many of Pillow’s functions and methods take a box tuple argument. This means Pillow is expecting a tuple of four integer coordinates that represent a rectangular region in an image. The four integers are, in order, as follows:\n",
        "\n",
        "Left -  The x-coordinate of the leftmost edge of the box.\n",
        "\n",
        "Top -   The y-coordinate of the top edge of the box.\n",
        "\n",
        "Right  - The x-coordinate of one pixel to the right of the rightmost edge of the box. This integer must be greater than the left integer.\n",
        "\n",
        "Bottom -  The y-coordinate of one pixel lower than the bottom edge of the box. This integer must be greater than the top integer.\n"
      ],
      "metadata": {
        "id": "HBN7AoCKa2U8"
      }
    },
    {
      "cell_type": "markdown",
      "source": [
        "**4.** Use your image and load in notebook then, How can you find out the width and height of an Image object?\n",
        "\n",
        "Answer: \n"
      ],
      "metadata": {
        "id": "vOENlB6MbuQX"
      }
    },
    {
      "cell_type": "markdown",
      "source": [
        "**5.** What method would you call to get Image object for a 100×100 image, excluding the lower-left quarter of it?\n",
        "\n",
        "Answer: from PIL import Image\n",
        "\n",
        "img = Image.open('Pic.jpg')\n",
        "\n",
        "new_img = img.crop((0,50,50,50))\n"
      ],
      "metadata": {
        "id": "bBy95UNHgF9z"
      }
    },
    {
      "cell_type": "markdown",
      "source": [
        "**6**. After making changes to an Image object, how could you save it as an image file?\n",
        "\n",
        "Answer:    from PIL import Image\n",
        "\n",
        "pic = Image.open('pic.jpg')\n",
        "\n",
        "pic.save('pic2.jpg')"
      ],
      "metadata": {
        "id": "2Syfa7jLjYJ4"
      }
    },
    {
      "cell_type": "markdown",
      "source": [
        "**7.** What module contains Pillow’s shape-drawing code?\n",
        "\n",
        "Answer: The 'ImageDraw' module provides simple 2D graphics support for Image Object. Generally, we use this module to create new images, annotate or retouch existing images and to generate graphics on the fly for web use. The graphics commands support the drawing of shapes and annotation of text."
      ],
      "metadata": {
        "id": "yU-NtD5PjsE5"
      }
    },
    {
      "cell_type": "markdown",
      "source": [
        "**8.** Image objects do not have drawing methods. What kind of object does? How do you get this kind of object?\n",
        "\n",
        "Answer: ImageDraw objects have shape-drawing methods such as point(), line(), or rectangle().They are returned by passing the Image object to the ImageDraw.Draw() function.\n"
      ],
      "metadata": {
        "id": "dcGsumNej_dx"
      }
    },
    {
      "cell_type": "code",
      "source": [
        ""
      ],
      "metadata": {
        "id": "MybTyt0Vg1EV"
      },
      "execution_count": null,
      "outputs": []
    }
  ]
}