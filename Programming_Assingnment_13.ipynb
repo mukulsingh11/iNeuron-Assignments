{
  "nbformat": 4,
  "nbformat_minor": 0,
  "metadata": {
    "colab": {
      "provenance": [],
      "authorship_tag": "ABX9TyN3LCkp2IUMZOQp7uszxDiJ",
      "include_colab_link": true
    },
    "kernelspec": {
      "name": "python3",
      "display_name": "Python 3"
    },
    "language_info": {
      "name": "python"
    }
  },
  "cells": [
    {
      "cell_type": "markdown",
      "metadata": {
        "id": "view-in-github",
        "colab_type": "text"
      },
      "source": [
        "<a href=\"https://colab.research.google.com/github/mukulsingh078968/iNeuron-Assignments/blob/main/Programming_Assingnment_13.ipynb\" target=\"_parent\"><img src=\"https://colab.research.google.com/assets/colab-badge.svg\" alt=\"Open In Colab\"/></a>"
      ]
    },
    {
      "cell_type": "markdown",
      "source": [
        "1.       Write a program that calculates and prints the value according to the given formula:\n",
        "\n",
        "\n",
        "\n",
        "\n",
        "Q = Square root of [(2 * C * D)/H]\n",
        "\n",
        "\n",
        "\n",
        "\n",
        "Following are the fixed values of C and H:\n",
        "\n",
        "\n",
        "\n",
        "\n",
        "C is 50. H is 30.\n",
        "\n",
        "\n",
        "\n",
        "\n",
        "D is the variable whose values should be input to your program in a comma-separated sequence.\n",
        "\n",
        "\n",
        "\n",
        "\n",
        "Example\n",
        "\n",
        "\n",
        "\n",
        "\n",
        "Let us assume the following comma separated input sequence is given to the program:\n",
        "\n",
        "\n",
        "\n",
        "\n",
        "100,150,180\n",
        "\n",
        "\n",
        "\n",
        "\n",
        "The output of the program should be:\n",
        "\n",
        "\n",
        "\n"
      ],
      "metadata": {
        "id": "2DcwTwNteHqr"
      }
    },
    {
      "cell_type": "code",
      "execution_count": null,
      "metadata": {
        "colab": {
          "base_uri": "https://localhost:8080/"
        },
        "id": "-4Sb9yUueGgn",
        "outputId": "3814ba53-49ad-4d94-d85b-08dd8d657b2d"
      },
      "outputs": [
        {
          "output_type": "stream",
          "name": "stdout",
          "text": [
            "Provide D: 50\n",
            "[13]\n"
          ]
        }
      ],
      "source": [
        "import math\n",
        "\n",
        "numbers = input(\"Provide D: \")\n",
        "numbers = numbers.split(',')\n",
        "\n",
        "result_list = []\n",
        "for D in numbers:\n",
        "    Q = round(math.sqrt(2 * 50 * int(D) / 30))\n",
        "    result_list.append(Q)\n",
        "\n",
        "print(result_list)"
      ]
    },
    {
      "cell_type": "markdown",
      "source": [
        "\n",
        "\n",
        "Question 2:\n",
        "Write a program which takes 2 digits, X,Y as input and generates a 2-dimensional array. The element value in the i-th row and j-th column of the array should be i*j.\n",
        "\n",
        "\n",
        "\n",
        "\n",
        "Note: i=0,1.., X-1; j=0,1,¡Y-1.\n",
        "\n",
        "\n",
        "\n",
        "\n",
        "Example\n",
        "\n",
        "\n",
        "\n",
        "Suppose the following inputs are given to the program:\n",
        "\n",
        "\n",
        "\n",
        "\n",
        "3,5\n",
        "\n",
        "\n",
        "\n",
        "\n",
        "Then, the output of the program should be:\n",
        "\n",
        "\n",
        "\n",
        "\n",
        "[[0, 0, 0, 0, 0], [0, 1, 2, 3, 4], [0, 2, 4, 6, 8]] \n",
        "\n",
        "\n",
        "\n",
        "\n",
        "\n"
      ],
      "metadata": {
        "id": "xS2S0qAFizcR"
      }
    },
    {
      "cell_type": "code",
      "source": [
        "import numpy as np\n",
        "x=np.array([[21,22,23,24,25],[31,32,33,34,35]])\n",
        "y=np.array([[99,88,77,66,55],[11,12,13,14,15]])\n"
      ],
      "metadata": {
        "id": "Z15mcl58jeNe"
      },
      "execution_count": null,
      "outputs": []
    },
    {
      "cell_type": "code",
      "source": [
        "x"
      ],
      "metadata": {
        "colab": {
          "base_uri": "https://localhost:8080/"
        },
        "id": "Ww54QhFvjxT1",
        "outputId": "24a49f0c-dae8-416f-cbb1-1a53abd7be12"
      },
      "execution_count": null,
      "outputs": [
        {
          "output_type": "execute_result",
          "data": {
            "text/plain": [
              "array([[21, 22, 23, 24, 25],\n",
              "       [31, 32, 33, 34, 35]])"
            ]
          },
          "metadata": {},
          "execution_count": 16
        }
      ]
    },
    {
      "cell_type": "code",
      "source": [
        "y"
      ],
      "metadata": {
        "colab": {
          "base_uri": "https://localhost:8080/"
        },
        "id": "YK393_HMjynI",
        "outputId": "224b5d63-a1a5-407a-d65e-a8727d33eacb"
      },
      "execution_count": null,
      "outputs": [
        {
          "output_type": "execute_result",
          "data": {
            "text/plain": [
              "array([[99, 88, 77, 66, 55],\n",
              "       [11, 12, 13, 14, 15]])"
            ]
          },
          "metadata": {},
          "execution_count": 18
        }
      ]
    },
    {
      "cell_type": "code",
      "source": [
        "x*y"
      ],
      "metadata": {
        "colab": {
          "base_uri": "https://localhost:8080/"
        },
        "id": "DNn84wK7jzGK",
        "outputId": "acb79b75-31cd-4731-e1fa-b6468dabcd82"
      },
      "execution_count": null,
      "outputs": [
        {
          "output_type": "execute_result",
          "data": {
            "text/plain": [
              "array([[2079, 1936, 1771, 1584, 1375],\n",
              "       [ 341,  384,  429,  476,  525]])"
            ]
          },
          "metadata": {},
          "execution_count": 20
        }
      ]
    },
    {
      "cell_type": "code",
      "source": [
        "import array as arr\n",
        "def generateArray():\n",
        "    in_x = int(input('Enter the No of Rows:'))\n",
        "    in_y = int(input('Enter the No of Columns:')) \n",
        "    out_array = []\n",
        "    for ele in range(in_x):\n",
        "        out_array.insert(in_x,[])\n",
        "        for sub_ele in range(in_y):\n",
        "            out_array[ele].append(ele*sub_ele)\n",
        "    print(out_array)\n",
        "    \n",
        "generateArray()"
      ],
      "metadata": {
        "colab": {
          "base_uri": "https://localhost:8080/"
        },
        "id": "x2zWbmBgka6K",
        "outputId": "ff73e59c-b815-4f4e-d233-22b32569f599"
      },
      "execution_count": null,
      "outputs": [
        {
          "output_type": "stream",
          "name": "stdout",
          "text": [
            "Enter the No of Rows:4\n",
            "Enter the No of Columns:5\n",
            "[[0, 0, 0, 0, 0], [0, 1, 2, 3, 4], [0, 2, 4, 6, 8], [0, 3, 6, 9, 12]]\n"
          ]
        }
      ]
    },
    {
      "cell_type": "markdown",
      "source": [
        "Question 3:\n",
        "Write a program that accepts a comma separated sequence of words as input and prints the words in a comma-separated sequence after sorting them alphabetically.\n",
        "\n",
        "\n",
        "\n",
        "\n",
        "Suppose the following input is supplied to the program:\n",
        "\n",
        "\n",
        "\n",
        "\n",
        "without,hello,bag,world\n",
        "\n",
        "\n",
        "\n",
        "\n",
        "Then, the output should be:\n",
        "\n",
        "\n",
        "\n",
        "bag,hello,without,world\n"
      ],
      "metadata": {
        "id": "aMmKNQt3mju7"
      }
    },
    {
      "cell_type": "code",
      "source": [
        "\n",
        "def sortString():\n",
        "    in_string = input(\"Enter the Input String: \")\n",
        "    out_string = ','.join(sorted(in_string.split(',')))\n",
        "    print(f'Output: {out_string}')\n",
        "    \n",
        "sortString()"
      ],
      "metadata": {
        "colab": {
          "base_uri": "https://localhost:8080/"
        },
        "id": "564IsRh3lUmS",
        "outputId": "136470e4-ab24-4fab-a3e9-b44d8b9f68de"
      },
      "execution_count": null,
      "outputs": [
        {
          "output_type": "stream",
          "name": "stdout",
          "text": [
            "Enter the Input String: without, hello, bag, world\n",
            "Output:  bag, hello, world,without\n"
          ]
        }
      ]
    },
    {
      "cell_type": "markdown",
      "source": [
        "\n",
        "Question 4:\n",
        "Write a program that accepts a sequence of whitespace separated words as input and prints the words after removing all duplicate words and sorting them alphanumerically.\n",
        "\n",
        "\n",
        "\n",
        "\n",
        "Suppose the following input is supplied to the program:\n",
        "\n",
        "\n",
        "\n",
        "\n",
        "hello world and practice makes perfect and hello world again\n",
        "\n",
        "\n",
        "\n",
        "\n",
        "Then, the output should be:\n",
        "\n",
        "\n",
        "\n"
      ],
      "metadata": {
        "id": "Gu_kU2ygoXMJ"
      }
    },
    {
      "cell_type": "code",
      "source": [
        "in_string = input(\"Enter the Input String: \")\n",
        "out_string = ' '.join(sorted(sorted(list(set(in_string.split(\" \"))))))\n",
        "print(f'Output: {out_string}')"
      ],
      "metadata": {
        "colab": {
          "base_uri": "https://localhost:8080/"
        },
        "id": "1RjtOHv7qdFA",
        "outputId": "2eab48cc-730c-4a1f-cb25-a4a76a90f209"
      },
      "execution_count": null,
      "outputs": [
        {
          "output_type": "stream",
          "name": "stdout",
          "text": [
            "Enter the Input String: data is very vast area of new technology . data is oil of twenty first century \n",
            "Output:  . area century data first is new of oil technology twenty vast very\n"
          ]
        }
      ]
    },
    {
      "cell_type": "markdown",
      "source": [
        "\n",
        "Question 5:\n",
        "Write a program that accepts a sentence and calculate the number of letters and digits.\n",
        "\n",
        "\n",
        "\n",
        "\n",
        "Suppose the following input is supplied to the program:\n",
        "\n",
        "\n",
        "\n",
        "\n",
        "hello world! 123\n",
        "\n",
        "\n",
        "\n",
        "\n",
        "Then, the output should be:\n",
        "\n",
        "\n",
        "\n",
        "\n",
        "LETTERS 10\n",
        "\n",
        "\n",
        "\n",
        "DIGITS 3\n"
      ],
      "metadata": {
        "id": "E48lvauarUry"
      }
    },
    {
      "cell_type": "code",
      "source": [
        "in_string = input(\"Enter the Input String: \")\n",
        "lettersList = 'ABCDEFGHIJKLMNOPQRSTUVWXYZabcdefghijklmnopqrstuvwxyz'\n",
        "digitsList = '0123456789'\n",
        "letters = 0\n",
        "digits = 0\n",
        "for ele in in_string:\n",
        "  if ele in lettersList:\n",
        "    letters += 1\n",
        "  if ele in digitsList:\n",
        "    digits += 1\n",
        "  print(f'LETTERS {letters} \\nDIGITS {digits}')"
      ],
      "metadata": {
        "colab": {
          "base_uri": "https://localhost:8080/"
        },
        "id": "F3j4y4FBqq2Y",
        "outputId": "b4559f6a-9269-476d-ca81-87e39468b516"
      },
      "execution_count": null,
      "outputs": [
        {
          "output_type": "stream",
          "name": "stdout",
          "text": [
            "Enter the Input String: hello world! 123\n",
            "LETTERS 1 \n",
            "DIGITS 0\n",
            "LETTERS 2 \n",
            "DIGITS 0\n",
            "LETTERS 3 \n",
            "DIGITS 0\n",
            "LETTERS 4 \n",
            "DIGITS 0\n",
            "LETTERS 5 \n",
            "DIGITS 0\n",
            "LETTERS 5 \n",
            "DIGITS 0\n",
            "LETTERS 6 \n",
            "DIGITS 0\n",
            "LETTERS 7 \n",
            "DIGITS 0\n",
            "LETTERS 8 \n",
            "DIGITS 0\n",
            "LETTERS 9 \n",
            "DIGITS 0\n",
            "LETTERS 10 \n",
            "DIGITS 0\n",
            "LETTERS 10 \n",
            "DIGITS 0\n",
            "LETTERS 10 \n",
            "DIGITS 0\n",
            "LETTERS 10 \n",
            "DIGITS 1\n",
            "LETTERS 10 \n",
            "DIGITS 2\n",
            "LETTERS 10 \n",
            "DIGITS 3\n"
          ]
        }
      ]
    },
    {
      "cell_type": "markdown",
      "source": [
        "\n",
        "Question 6:\n",
        "A website requires the users to input username and password to register. Write a program to check the validity of password input by users.\n",
        "\n",
        "\n",
        "\n",
        "\n",
        "Following are the criteria for checking the password:\n",
        "\n",
        "\n",
        "\n",
        "\n",
        "1. At least 1 letter between [a-z]\n",
        "\n",
        "\n",
        "\n",
        "\n",
        "2. At least 1 number between [0-9]\n",
        "\n",
        "\n",
        "\n",
        "\n",
        "1. At least 1 letter between [A-Z]\n",
        "\n",
        "\n",
        "\n",
        "\n",
        "3. At least 1 character from [$#@]\n",
        "\n",
        "\n",
        "\n",
        "\n",
        "4. Minimum length of transaction password: 6\n",
        "\n",
        "\n",
        "\n",
        "\n",
        "5. Maximum length of transaction password: 12\n",
        "\n",
        "\n",
        "\n",
        "\n",
        "Your program should accept a sequence of comma separated passwords and will check them according to the above criteria. Passwords that match the criteria are to be printed, each separated by a comma.\n",
        "\n",
        "\n",
        "\n",
        "\n",
        "Example\n",
        "\n",
        "\n",
        "\n",
        "\n",
        "If the following passwords are given as input to the program:\n",
        "\n",
        "\n",
        "\n",
        "\n",
        "ABd1234@1,a F1#,2w3E*,2We3345\n",
        "\n",
        "\n",
        "\n",
        "\n",
        "Then, the output of the program should be:\n",
        "\n",
        "\n",
        "\n",
        "ABd1234@1\n"
      ],
      "metadata": {
        "id": "6WzCsKKdtVnH"
      }
    },
    {
      "cell_type": "code",
      "source": [
        "def checkPassword():\n",
        "    in_string = input(\"Enter the Input String: \")\n",
        "    small_list = \"abcdefghij\"\n",
        "    cap_list = \"ABCDEFGHIJ\"\n",
        "    num_list = \"0123456789\"\n",
        "    special_list = \"$#@\"\n",
        "    for ele in in_string.split(\",\"):\n",
        "        if len(ele) <= 12 and len(ele) >=6 :\n",
        "            if any(i.isupper() for i in ele):\n",
        "                if any(i.islower() for i in ele):\n",
        "                    if any(i for i in ele if i in special_list):\n",
        "                        print(ele)\n",
        "                               \n",
        "checkPassword() "
      ],
      "metadata": {
        "colab": {
          "base_uri": "https://localhost:8080/"
        },
        "id": "WkQ2wiF5sWaY",
        "outputId": "feb7b3d4-1ce9-488b-8134-153265341d2d"
      },
      "execution_count": null,
      "outputs": [
        {
          "name": "stdout",
          "output_type": "stream",
          "text": [
            "Enter the Input String: abc123@\n"
          ]
        }
      ]
    },
    {
      "cell_type": "code",
      "source": [],
      "metadata": {
        "id": "92_ZE5fitfHq"
      },
      "execution_count": null,
      "outputs": []
    }
  ]
}