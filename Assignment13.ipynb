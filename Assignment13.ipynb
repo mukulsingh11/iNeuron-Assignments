{
  "nbformat": 4,
  "nbformat_minor": 0,
  "metadata": {
    "colab": {
      "name": "Assignment13.ipynb",
      "provenance": [],
      "collapsed_sections": [],
      "authorship_tag": "ABX9TyM8ITKnRss06bF9Hia8c3G3",
      "include_colab_link": true
    },
    "kernelspec": {
      "name": "python3",
      "display_name": "Python 3"
    },
    "language_info": {
      "name": "python"
    }
  },
  "cells": [
    {
      "cell_type": "markdown",
      "metadata": {
        "id": "view-in-github",
        "colab_type": "text"
      },
      "source": [
        "<a href=\"https://colab.research.google.com/github/mukulsingh078968/iNeuron-Assignments/blob/main/Assignment13.ipynb\" target=\"_parent\"><img src=\"https://colab.research.google.com/assets/colab-badge.svg\" alt=\"Open In Colab\"/></a>"
      ]
    },
    {
      "cell_type": "markdown",
      "source": [
        "SUBMITTED BY : Mukul Singh"
      ],
      "metadata": {
        "id": "DwlAD-woYyzr"
      }
    },
    {
      "cell_type": "markdown",
      "source": [
        "**1. **What advantages do Excel spreadsheets have over CSV spreadsheets?\n",
        "\n",
        "Answer:  Excel is more superior when compared with the CSV file format thus, CSV consumes less amount of file size when the user is importing data. it is a much faster format compared to excel. CSV does not manipulate data and stores it as-is. Excel also allows the user the add-in feature\n"
      ],
      "metadata": {
        "id": "yl62vJMcY48M"
      }
    },
    {
      "cell_type": "markdown",
      "source": [
        "**2**. What do you pass to csv.reader() and csv.writer() to create reader and writer objects?\n",
        "\n",
        "Answer: he csv. reader method returns a reader object which iterates over lines in the given CSV file. The numbers. csv file contains numbers.The csv.writer() function returns a writer object that converts the user's data into a delimited string. This string can later be used to write into CSV files using the writerow() function.\n"
      ],
      "metadata": {
        "id": "gI7KpTDOZYM1"
      }
    },
    {
      "cell_type": "markdown",
      "source": [
        "**3.** What modes do File objects for reader and writer objects need to be opened in?\n",
        "\n",
        "\n",
        " Answer:  In order to open a file for reading or writing purposes, we must use the built-in open() function. The open() function uses two arguments. First is the name of the file and second is for what purpose we want to open it .: For csv.reader(iterable_file_object), the file objects needed to be opened in read mode mode='r' Whereas for csv.writer(iterable_file_object) the file objects needed to be opened in write mode mode='w'"
      ],
      "metadata": {
        "id": "yfoUaaPybhzt"
      }
    },
    {
      "cell_type": "markdown",
      "source": [
        "**4.** What method takes a list argument and writes it to a CSV file?\n",
        "\n",
        "Answer: writerows()\n",
        "This function takes a list of iterables as parameter and writes each item as a comma separated line of items in the file.What method takes a list argument and write it to a CSV file?\n",
        "Your result set has to be a list (rows) of lists (columns). Write the row parameter to the writer's file object, formatted according to the current dialect.\n"
      ],
      "metadata": {
        "id": "F1w9-AfIcpT1"
      }
    },
    {
      "cell_type": "markdown",
      "source": [
        "5. What do the keyword arguments delimiter and line terminator do?\n",
        "\n",
        "This changes the delimiter and line terminator characters in your file. The delimiter is the character that appears between cells on a row. By default, the delimiter for a CSV file is a comma. The line terminator is the character that comes at the end of a row."
      ],
      "metadata": {
        "id": "mPwwnDTJcaRv"
      }
    },
    {
      "cell_type": "markdown",
      "source": [
        "**6.** What function takes a string of JSON data and returns a Python data structure?\n",
        "\n",
        "\n",
        "Answer: loads() method return Python data structure of JSON string or data."
      ],
      "metadata": {
        "id": "kGmPIwrgdXgS"
      }
    },
    {
      "cell_type": "code",
      "source": [
        "import json"
      ],
      "metadata": {
        "id": "19QOg411eSyd"
      },
      "execution_count": 2,
      "outputs": []
    },
    {
      "cell_type": "code",
      "source": [
        "json = \"\"\" {\n",
        "  'data':\"science\",\n",
        "  'krish\": \"naik\",\n",
        "  'sudh': \"ineuron\",\n",
        "  }\"\"\"\n",
        "print(json)\n",
        "print(json)\n",
        "type(json)"
      ],
      "metadata": {
        "colab": {
          "base_uri": "https://localhost:8080/"
        },
        "id": "VcLHBoglfmHR",
        "outputId": "92f3cff8-2c40-4ddd-a482-49350c180d82"
      },
      "execution_count": 15,
      "outputs": [
        {
          "output_type": "stream",
          "name": "stdout",
          "text": [
            " {\n",
            "  'data':\"science\",\n",
            "  'krish\": \"naik\",\n",
            "  'sudh': \"ineuron\",\n",
            "  }\n",
            " {\n",
            "  'data':\"science\",\n",
            "  'krish\": \"naik\",\n",
            "  'sudh': \"ineuron\",\n",
            "  }\n"
          ]
        },
        {
          "output_type": "execute_result",
          "data": {
            "text/plain": [
              "str"
            ]
          },
          "metadata": {},
          "execution_count": 15
        }
      ]
    },
    {
      "cell_type": "markdown",
      "source": [
        "**7. **What function takes a Python data structure and returns a string of JSON data?\n",
        "\n",
        "\n",
        "Answer: "
      ],
      "metadata": {
        "id": "jv-3LJHVd21a"
      }
    },
    {
      "cell_type": "code",
      "execution_count": null,
      "metadata": {
        "id": "DAoVwy_JYuB7"
      },
      "outputs": [],
      "source": [
        ""
      ]
    },
    {
      "cell_type": "code",
      "source": [
        "json = {\n",
        "  'data':\"science\",\n",
        "  \"krish\": \"naik\",\n",
        "  'sudh': \"ineuron\",\n",
        "  }\n",
        "print(json)\n",
        "\n",
        "print(json)\n",
        "type(json)"
      ],
      "metadata": {
        "colab": {
          "base_uri": "https://localhost:8080/"
        },
        "outputId": "d1de3157-036f-4c9f-f138-c28d25a2a81a",
        "id": "u7OMSjzxk-om"
      },
      "execution_count": 22,
      "outputs": [
        {
          "output_type": "stream",
          "name": "stdout",
          "text": [
            "{'data': 'science', 'krish': 'naik', 'sudh': 'ineuron'}\n",
            "{'data': 'science', 'krish': 'naik', 'sudh': 'ineuron'}\n"
          ]
        },
        {
          "output_type": "execute_result",
          "data": {
            "text/plain": [
              "dict"
            ]
          },
          "metadata": {},
          "execution_count": 22
        }
      ]
    },
    {
      "cell_type": "code",
      "source": [
        ""
      ],
      "metadata": {
        "id": "51dMHKuSk_Kl"
      },
      "execution_count": null,
      "outputs": []
    }
  ]
}