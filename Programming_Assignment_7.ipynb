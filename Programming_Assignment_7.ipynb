{
  "nbformat": 4,
  "nbformat_minor": 0,
  "metadata": {
    "colab": {
      "provenance": [],
      "authorship_tag": "ABX9TyPBLkGSvyGB4RiVJd5Lltyr",
      "include_colab_link": true
    },
    "kernelspec": {
      "name": "python3",
      "display_name": "Python 3"
    },
    "language_info": {
      "name": "python"
    }
  },
  "cells": [
    {
      "cell_type": "markdown",
      "metadata": {
        "id": "view-in-github",
        "colab_type": "text"
      },
      "source": [
        "<a href=\"https://colab.research.google.com/github/mukulsingh078968/iNeuron-Assignments/blob/main/Programming_Assignment_7.ipynb\" target=\"_parent\"><img src=\"https://colab.research.google.com/assets/colab-badge.svg\" alt=\"Open In Colab\"/></a>"
      ]
    },
    {
      "cell_type": "markdown",
      "source": [
        "1.  Write a Python Program to find sum of array?\n"
      ],
      "metadata": {
        "id": "rz8Emi7C5MpL"
      }
    },
    {
      "cell_type": "code",
      "source": [
        "array = [1,2,3,4,5,6,7,8,9,10]\n",
        "sum = 0\n",
        "for i in  range(0,len(array)):\n",
        "  sum = sum + array[i]\n",
        "print('sum of all element of array' + str(sum))"
      ],
      "metadata": {
        "colab": {
          "base_uri": "https://localhost:8080/"
        },
        "id": "NeJIWrUD5dnS",
        "outputId": "8b1c4794-ab2b-40a6-a221-ecf2d20617e8"
      },
      "execution_count": 15,
      "outputs": [
        {
          "output_type": "stream",
          "name": "stdout",
          "text": [
            "sum of all element of array55\n"
          ]
        }
      ]
    },
    {
      "cell_type": "markdown",
      "source": [
        "2.  Write a Python Program to find largest element in an array?\n"
      ],
      "metadata": {
        "id": "pj6D0YEB9NZj"
      }
    },
    {
      "cell_type": "code",
      "source": [
        "arr = [1,2,3,4,5,6,7,8,9,10]    \n",
        "max = arr[0]        \n",
        "for i in range(0, len(arr)):      \n",
        "   if(arr[i] > max):    \n",
        "       max = arr[i];    \n",
        "           \n",
        "print(\"Largest element present in given array: \" + str(max));   "
      ],
      "metadata": {
        "colab": {
          "base_uri": "https://localhost:8080/"
        },
        "id": "tWEVPfbn8oIS",
        "outputId": "c45138fa-22f8-4133-bacc-82a2c593ebc0"
      },
      "execution_count": 17,
      "outputs": [
        {
          "output_type": "stream",
          "name": "stdout",
          "text": [
            "Largest element present in given array: 10\n"
          ]
        }
      ]
    },
    {
      "cell_type": "markdown",
      "source": [
        "3.  Write a Python Program for array rotation?\n"
      ],
      "metadata": {
        "id": "PgfubVQL9-Q5"
      }
    },
    {
      "cell_type": "code",
      "source": [
        "def Array():\n",
        "    in_arr = eval(input(\"Enter the Array: \"))\n",
        "    print(f\"The Reverse of Array {in_arr} is {in_arr[::-1]}\")\n",
        "    \n",
        "Array()"
      ],
      "metadata": {
        "colab": {
          "base_uri": "https://localhost:8080/"
        },
        "id": "UY4iy58c-HsL",
        "outputId": "4e294cc5-86de-4893-ac55-2ab9a29b7f30"
      },
      "execution_count": 19,
      "outputs": [
        {
          "output_type": "stream",
          "name": "stdout",
          "text": [
            "Enter the Array: 1,2,3,4,5\n",
            "The Reverse of Array (1, 2, 3, 4, 5) is (5, 4, 3, 2, 1)\n"
          ]
        }
      ]
    },
    {
      "cell_type": "markdown",
      "source": [
        "4.  Write a Python Program to Split the array and add the first part to the end?\n"
      ],
      "metadata": {
        "id": "cNQiEOBa_Cav"
      }
    },
    {
      "cell_type": "code",
      "source": [
        "def split(arr, k):\n",
        "    arr = arr[k:] + arr[:k]\n",
        "    return arr\n",
        "   \n",
        "k = 2\n",
        "arr = [10, 13, 5, 17]\n",
        "print(\"Output array is\", split(arr, k))"
      ],
      "metadata": {
        "colab": {
          "base_uri": "https://localhost:8080/"
        },
        "id": "FEQJKPfe_UIm",
        "outputId": "1cc73091-b544-4489-af56-16dd3c99767a"
      },
      "execution_count": 23,
      "outputs": [
        {
          "output_type": "stream",
          "name": "stdout",
          "text": [
            "Output array is [5, 17, 10, 13]\n"
          ]
        }
      ]
    },
    {
      "cell_type": "markdown",
      "source": [
        "5.  Write a Python Program to check if given array is Monotonic?\n"
      ],
      "metadata": {
        "id": "L-m1pYXqA-fr"
      }
    },
    {
      "cell_type": "code",
      "source": [
        "def isMonotonic(A):\n",
        "   return (all(A[i] <= A[i + 1] for i in range(len(A) - 1)) or\n",
        "      all(A[i] >= A[i + 1] for i in range(len(A) - 1)))\n",
        "# main\n",
        "A = [1,2,3,4,7,8]\n",
        "print(isMonotonic(A))\n"
      ],
      "metadata": {
        "colab": {
          "base_uri": "https://localhost:8080/"
        },
        "id": "BfgQ3g8fA5S1",
        "outputId": "f261dea3-0b86-435b-aff1-3d085910a2c1"
      },
      "execution_count": 24,
      "outputs": [
        {
          "output_type": "stream",
          "name": "stdout",
          "text": [
            "True\n"
          ]
        }
      ]
    },
    {
      "cell_type": "code",
      "source": [],
      "metadata": {
        "id": "6x8LMSZSBuj6"
      },
      "execution_count": null,
      "outputs": []
    }
  ]
}