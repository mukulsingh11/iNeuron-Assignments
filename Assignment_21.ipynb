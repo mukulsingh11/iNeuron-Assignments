{
  "nbformat": 4,
  "nbformat_minor": 0,
  "metadata": {
    "colab": {
      "name": "Assignment_21.ipynb",
      "provenance": [],
      "collapsed_sections": [],
      "authorship_tag": "ABX9TyOtwGxW6fbGQ+A39IoYVgdg",
      "include_colab_link": true
    },
    "kernelspec": {
      "name": "python3",
      "display_name": "Python 3"
    },
    "language_info": {
      "name": "python"
    }
  },
  "cells": [
    {
      "cell_type": "markdown",
      "metadata": {
        "id": "view-in-github",
        "colab_type": "text"
      },
      "source": [
        "<a href=\"https://colab.research.google.com/github/mukulsingh078968/iNeuron-Assignments/blob/main/Assignment_21.ipynb\" target=\"_parent\"><img src=\"https://colab.research.google.com/assets/colab-badge.svg\" alt=\"Open In Colab\"/></a>"
      ]
    },
    {
      "cell_type": "markdown",
      "source": [
        "1. Add the current date to the text file today.txt as a string."
      ],
      "metadata": {
        "id": "m2GlU6DGz8Nh"
      }
    },
    {
      "cell_type": "code",
      "execution_count": 1,
      "metadata": {
        "colab": {
          "base_uri": "https://localhost:8080/"
        },
        "id": "3Axp7e7Iz664",
        "outputId": "c974ca20-17f8-45ca-de23-866ce5e43207"
      },
      "outputs": [
        {
          "output_type": "stream",
          "name": "stdout",
          "text": [
            "18,08,2022\n"
          ]
        }
      ],
      "source": [
        "import datetime\n",
        "file=open('today.txt','w')\n",
        "file.write(datetime.datetime.now().strftime(\"%d,%m,%Y\"))\n",
        "file.close()\n",
        "file=open(\"today.txt\",'r')\n",
        "print(file.read())\n",
        "file.close()"
      ]
    },
    {
      "cell_type": "markdown",
      "source": [
        ""
      ],
      "metadata": {
        "id": "DmYDCerq2mo4"
      }
    },
    {
      "cell_type": "markdown",
      "source": [
        "## 2. Read the text file today.txt into the string today_string\n"
      ],
      "metadata": {
        "id": "u8eZQvLp2RBJ"
      }
    },
    {
      "cell_type": "code",
      "source": [
        "file=open(\"today.txt\",'r')\n",
        "today_string=file.read()\n",
        "print(today_string)\n"
      ],
      "metadata": {
        "colab": {
          "base_uri": "https://localhost:8080/"
        },
        "id": "LPJcxuZ_2FZ3",
        "outputId": "3f11e259-753e-4bab-afa9-379e97f43ca9"
      },
      "execution_count": 3,
      "outputs": [
        {
          "output_type": "stream",
          "name": "stdout",
          "text": [
            "18,08,2022\n"
          ]
        }
      ]
    },
    {
      "cell_type": "markdown",
      "source": [
        "3. Parse the date from today_string.\n"
      ],
      "metadata": {
        "id": "XnKDYffi2_ye"
      }
    },
    {
      "cell_type": "code",
      "source": [
        "from datetime import datetime\n",
        "parse_data = datetime.strptime(today_string, ('%d,%m,%Y'))\n",
        "print(parse_data)\n"
      ],
      "metadata": {
        "colab": {
          "base_uri": "https://localhost:8080/"
        },
        "id": "Kini1XbR20T6",
        "outputId": "396ab1fe-606f-480d-b414-f84ccb7e7599"
      },
      "execution_count": 12,
      "outputs": [
        {
          "output_type": "stream",
          "name": "stdout",
          "text": [
            "2022-08-18 00:00:00\n"
          ]
        }
      ]
    },
    {
      "cell_type": "markdown",
      "source": [
        "## 4. List the files in your current directory\n"
      ],
      "metadata": {
        "id": "cgxr3Ww-5LWT"
      }
    },
    {
      "cell_type": "code",
      "source": [
        "import os\n",
        "for folders,subfolder, files in os.walk(os.getcwd()):\n",
        "    for file in files:\n",
        "        print(file)"
      ],
      "metadata": {
        "colab": {
          "base_uri": "https://localhost:8080/"
        },
        "id": "KkFoa7aH4vo1",
        "outputId": "b571d975-bcc1-4798-b183-26cf0e5ec367"
      },
      "execution_count": 18,
      "outputs": [
        {
          "output_type": "stream",
          "name": "stdout",
          "text": [
            "today.txt\n",
            "active_config\n",
            ".last_survey_prompt.yaml\n",
            "gce\n",
            ".last_opt_in_prompt.yaml\n",
            ".last_update_check.json\n",
            "config_sentinel\n",
            "config_default\n",
            "13.44.40.370262.log\n",
            "13.43.53.840714.log\n",
            "13.44.12.999341.log\n",
            "13.44.20.441098.log\n",
            "13.43.32.260465.log\n",
            "13.44.41.125604.log\n",
            "README.md\n",
            "anscombe.json\n",
            "california_housing_train.csv\n",
            "mnist_train_small.csv\n",
            "mnist_test.csv\n",
            "california_housing_test.csv\n"
          ]
        }
      ]
    },
    {
      "cell_type": "markdown",
      "source": [
        "5. Create a list of all of the files in your parent directory (minimum five files should be available).\n"
      ],
      "metadata": {
        "id": "0LbApH316b7L"
      }
    },
    {
      "cell_type": "code",
      "source": [
        "import os \n",
        "os.listdir()"
      ],
      "metadata": {
        "colab": {
          "base_uri": "https://localhost:8080/"
        },
        "id": "ndb6nVtU5m8R",
        "outputId": "ab21c294-5465-421d-ecb9-66998a11fe8e"
      },
      "execution_count": 21,
      "outputs": [
        {
          "output_type": "execute_result",
          "data": {
            "text/plain": [
              "['.config', 'today.txt', 'sample_data']"
            ]
          },
          "metadata": {},
          "execution_count": 21
        }
      ]
    },
    {
      "cell_type": "markdown",
      "source": [
        "**6.**   Use multiprocessing to create three separate processes. Make each one wait a random number of seconds between one and five, print the current time, and then exit.\n"
      ],
      "metadata": {
        "id": "sxUDa5g57Dm3"
      }
    },
    {
      "cell_type": "code",
      "source": [
        "import multiprocessing\n",
        "import time \n",
        "import random\n",
        "import datetime\n",
        "\n",
        "def procOne():\n",
        "    print(f'Proc_one_Starttime -> {datetime.datetime.now()}')\n",
        "    time.sleep(random.randint(1,5))\n",
        "    print(f'Proc_one_Endtime -> {datetime.datetime.now()}')\n",
        "    \n",
        "def procTwo():\n",
        "    print(f'Proc_two_Starttime -> {datetime.datetime.now()}')\n",
        "    time.sleep(random.randint(1,5))\n",
        "    print(f'Proc_two_Endtime -> {datetime.datetime.now()}')\n",
        "\n",
        "def procThree():\n",
        "    print(f'Proc_two_Starttime -> {datetime.datetime.now()}')\n",
        "    time.sleep(random.randint(1,5))\n",
        "    print(f'Proc_two_Endtime -> {datetime.datetime.now()}')\n",
        "    \n",
        "if __name__ == \"__main__\":    \n",
        "    p1 = multiprocessing.Process(target=procOne)\n",
        "    p2 = multiprocessing.Process(target=procTwo)\n",
        "    p3 = multiprocessing.Process(target=procThree)\n",
        "\n",
        "    p1.start()\n",
        "    p2.start()\n",
        "    p3.start()\n",
        "\n",
        "    p1.join()\n",
        "    p2.join()\n",
        "    p3.join()"
      ],
      "metadata": {
        "colab": {
          "base_uri": "https://localhost:8080/"
        },
        "id": "K3mMcz8Q7CND",
        "outputId": "804f87cf-214e-4e3f-fe12-382a73f5e0ec"
      },
      "execution_count": 23,
      "outputs": [
        {
          "output_type": "stream",
          "name": "stdout",
          "text": [
            "Proc_one_Starttime -> 2022-08-18 17:09:40.575659Proc_two_Starttime -> 2022-08-18 17:09:40.583375\n",
            "\n",
            "Proc_two_Starttime -> 2022-08-18 17:09:40.592287\n",
            "Proc_one_Endtime -> 2022-08-18 17:09:41.599338\n",
            "Proc_two_Endtime -> 2022-08-18 17:09:44.618163\n",
            "Proc_two_Endtime -> 2022-08-18 17:09:45.611352\n"
          ]
        }
      ]
    },
    {
      "cell_type": "markdown",
      "source": [
        "**7.**  Create a date object of your day of birth.\n"
      ],
      "metadata": {
        "id": "Z9D3JIXc7wGn"
      }
    },
    {
      "cell_type": "code",
      "source": [
        "import datetime\n",
        "my_dob=datetime.datetime.now().strftime('27/09/1997,%d,%m,%y')\n",
        "print(my_dob)\n"
      ],
      "metadata": {
        "colab": {
          "base_uri": "https://localhost:8080/"
        },
        "id": "8jasXh6v7pXh",
        "outputId": "eb00ac41-0f92-4c29-a032-eb09f89eb5cb"
      },
      "execution_count": 26,
      "outputs": [
        {
          "output_type": "stream",
          "name": "stdout",
          "text": [
            "27/09/1997,18,08,22\n"
          ]
        }
      ]
    },
    {
      "cell_type": "markdown",
      "source": [
        "**8**.  What day of the week was your day of birth?\n"
      ],
      "metadata": {
        "id": "ZA8sisgN9IKm"
      }
    },
    {
      "cell_type": "code",
      "source": [
        "from datetime import datetime\n",
        "my_dob = datetime(1997,9,27)\n",
        "my_dob.strftime('%A')"
      ],
      "metadata": {
        "colab": {
          "base_uri": "https://localhost:8080/",
          "height": 36
        },
        "id": "XX3SFp5Q8p1x",
        "outputId": "cd60de27-29a9-4243-c221-62665bd4eae4"
      },
      "execution_count": 35,
      "outputs": [
        {
          "output_type": "execute_result",
          "data": {
            "text/plain": [
              "'Saturday'"
            ],
            "application/vnd.google.colaboratory.intrinsic+json": {
              "type": "string"
            }
          },
          "metadata": {},
          "execution_count": 35
        }
      ]
    },
    {
      "cell_type": "markdown",
      "source": [
        "**9**.  When will you be (or when were you) 10,000 days old?\n"
      ],
      "metadata": {
        "id": "6TL_j0YJ-lv5"
      }
    },
    {
      "cell_type": "code",
      "source": [
        "from datetime import datetime, timedelta\n",
        "my_dob = datetime.strptime(\"27/09/1997\",'%d/%m/%Y')\n",
        "future_date = my_dob-timedelta(10000)\n",
        "future_date"
      ],
      "metadata": {
        "colab": {
          "base_uri": "https://localhost:8080/"
        },
        "id": "bY5GD2Lp-PzO",
        "outputId": "a2d1c0d8-83f6-4e8a-f606-e14abed280b4"
      },
      "execution_count": 36,
      "outputs": [
        {
          "output_type": "execute_result",
          "data": {
            "text/plain": [
              "datetime.datetime(1970, 5, 12, 0, 0)"
            ]
          },
          "metadata": {},
          "execution_count": 36
        }
      ]
    },
    {
      "cell_type": "code",
      "source": [
        ""
      ],
      "metadata": {
        "id": "YE3SRhmx-52A"
      },
      "execution_count": null,
      "outputs": []
    }
  ]
}