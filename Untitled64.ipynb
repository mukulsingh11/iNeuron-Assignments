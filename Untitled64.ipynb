{
  "nbformat": 4,
  "nbformat_minor": 0,
  "metadata": {
    "colab": {
      "provenance": [],
      "authorship_tag": "ABX9TyNpmKqkJ5t9D6VvPgP6pyxn",
      "include_colab_link": true
    },
    "kernelspec": {
      "name": "python3",
      "display_name": "Python 3"
    },
    "language_info": {
      "name": "python"
    }
  },
  "cells": [
    {
      "cell_type": "markdown",
      "metadata": {
        "id": "view-in-github",
        "colab_type": "text"
      },
      "source": [
        "<a href=\"https://colab.research.google.com/github/mukulsingh078968/iNeuron-Assignments/blob/Basic-Python/Untitled64.ipynb\" target=\"_parent\"><img src=\"https://colab.research.google.com/assets/colab-badge.svg\" alt=\"Open In Colab\"/></a>"
      ]
    },
    {
      "cell_type": "markdown",
      "source": [
        "# Python Program to find the L.C.M. of two input number\n",
        "\n",
        "def compute_lcm(x, y):\n",
        "\n",
        "   # choose the greater number\n",
        "   if x > y:\n",
        "       greater = x\n",
        "   else:\n",
        "       greater = y\n",
        "\n",
        "   while(True):\n",
        "       if((greater % x == 0) and (greater % y == 0)):\n",
        "           lcm = greater\n",
        "           break\n",
        "       greater += 1\n",
        "\n",
        "   return lcm\n",
        "\n",
        "num1 = 54\n",
        "num2 = 24\n",
        "\n",
        "print(\"The L.C.M. is\", compute_lcm(num1, num2))"
      ],
      "metadata": {
        "id": "412NghRoCkKG"
      }
    },
    {
      "cell_type": "code",
      "execution_count": null,
      "metadata": {
        "id": "2W0ihmNYCi7I"
      },
      "outputs": [],
      "source": []
    }
  ]
}