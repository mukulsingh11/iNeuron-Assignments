{
 "cells": [
  {
   "cell_type": "markdown",
   "id": "5257f010",
   "metadata": {},
   "source": [
    "1. In the below elements which of them are values or an expression? eg:- values can be integer or string and expressions will      be mathematical operators.\n",
    "   *,'hello', -87.8, - ,/,+, 6\n",
    "   \n",
    "   Answer: There are total four operaters and three expression \n",
    "           Operater: * , - , + , /\n",
    "           Expression: 'hello', -87.8, 6\n",
    "           \n",
    "           \n",
    " 2. What is the difference between string and variable?\n",
    "   \n",
    " Answer: String are squence of characters enclosed within single quotes (' '), double quotes(\" \"), or triple quotes(\"\"\" \"\"\").\n",
    "      String is type of immutable and we can not change.\n",
    "    \n",
    "     Variable is a symbolic name is a reference or pointer to an object .Once an object is assigned to a variable you can \n",
    "    refers to the object by that name. But the data itself is still contained within object.\n",
    "    \n",
    " 3. Describe three different data types.\n",
    "   Answer: In python there are two datatypes 1. Numerical data type 2. Sequence data type\n",
    "    1.Numerical data type              2. Squence data type \n",
    "    a. int  10                         a. String\n",
    "    b. Float 10.5                      b. List  \n",
    "    c. Boolean ( True , False )        c. Tuple\n",
    "    d. Complex  10+5i(i is denotes j )\n",
    "    e. String \n",
    "    \n",
    "  4. What is an expression made up of? What do all expressions do?\n",
    "  Answer: An expression is a combination of operators and operands that is interpreted to produce some other value. In any       programming language, an expression is evaluated as per the precedence of its operators.So that if there is more then one \n",
    "  operater in an expression ,their precedence decide which operation will be performed frist. \n",
    "   "
   ]
  },
  {
   "cell_type": "code",
   "execution_count": 6,
   "id": "a1789dcf",
   "metadata": {},
   "outputs": [
    {
     "data": {
      "text/plain": [
       "24"
      ]
     },
     "execution_count": 6,
     "metadata": {},
     "output_type": "execute_result"
    }
   ],
   "source": [
    "2*6*2 # is a expression"
   ]
  },
  {
   "cell_type": "raw",
   "id": "10c78f76",
   "metadata": {},
   "source": [
    "5. This assignment statements, like spam = 10. What is the difference between an expression and a statement?\n",
    "Answer:  In python programming language expression is made up of values,contains and mathematical operaters.expression is a combination of values and function that are combine and interpreted by the compiler to create a new values.\n",
    " For example : \"1 + 5\" is an expression but \"muku = 1+5\" . if it does't work its statement, if it does its an expression .\n",
    " \n",
    " Statement is unit of code that has an effect, like creating a variable or display a value ,when we type a statement the interpreter execute it . In general statement don't have values. A statement is an instruction that a python interpreter can execute .There are four type of statement 1. print statement 2. assignment statement 3. conditional ststementm 4. looping statement.\n",
    " \n"
   ]
  },
  {
   "cell_type": "raw",
   "id": "c18e1e9d",
   "metadata": {},
   "source": [
    "6. After running the following code, what does the variable bacon contain?\n",
    "   bacon = 22\n",
    "   bacon + 1\n",
    " Answer: the variable is bacon set to 22. The expression bacon +1 does not value reassign "
   ]
  },
  {
   "cell_type": "code",
   "execution_count": 9,
   "id": "69b1a660",
   "metadata": {},
   "outputs": [
    {
     "name": "stdout",
     "output_type": "stream",
     "text": [
      "22\n"
     ]
    }
   ],
   "source": [
    "#case1\n",
    "bacon =22\n",
    "bacon+1\n",
    "print(bacon)"
   ]
  },
  {
   "cell_type": "code",
   "execution_count": 10,
   "id": "a6130b49",
   "metadata": {},
   "outputs": [
    {
     "name": "stdout",
     "output_type": "stream",
     "text": [
      "23\n"
     ]
    }
   ],
   "source": [
    "#case2\n",
    "bacon=22\n",
    "bacon= bacon + 1\n",
    "print(bacon)"
   ]
  },
  {
   "cell_type": "raw",
   "id": "2604cb3d",
   "metadata": {},
   "source": [
    "7. What should the values of the following two terms be?\n",
    "   'spam' + 'spamspam'\n",
    "   'spam' * 3\n",
    " Answer: The both expression is string 'spamspam'. first expression is string concentation and the second expression is string   multiplication."
   ]
  },
  {
   "cell_type": "code",
   "execution_count": 14,
   "id": "faaac1a1",
   "metadata": {},
   "outputs": [
    {
     "name": "stdout",
     "output_type": "stream",
     "text": [
      "spamspamspam\n",
      "spamspamspam\n"
     ]
    }
   ],
   "source": [
    "#Case\n",
    "print(\"spam\" + \"spamspam\") # sting concantation\n",
    "print(\"spam\"*3)    # string multiplication"
   ]
  },
  {
   "cell_type": "raw",
   "id": "8c6098a1",
   "metadata": {},
   "source": [
    " 8. Why is eggs a valid variable name while 100 is invalid?\n",
    " Answer: Because variable name can not be being with number.A variable name must start with a letter or the underscore \n",
    "         character (A-z,0-9 and _ ). A variable name is case senstitive."
   ]
  },
  {
   "cell_type": "code",
   "execution_count": 19,
   "id": "314486d3",
   "metadata": {},
   "outputs": [
    {
     "name": "stdout",
     "output_type": "stream",
     "text": [
      "10\n"
     ]
    },
    {
     "data": {
      "text/plain": [
       "int"
      ]
     },
     "execution_count": 19,
     "metadata": {},
     "output_type": "execute_result"
    }
   ],
   "source": [
    "#9. What three functions can be used to get the integer, floating-point number, or string version of a value?\n",
    "a=10 # integer\n",
    "print(a)\n",
    "type(a)"
   ]
  },
  {
   "cell_type": "code",
   "execution_count": 20,
   "id": "11dd3dbc",
   "metadata": {},
   "outputs": [
    {
     "name": "stdout",
     "output_type": "stream",
     "text": [
      "10.4\n"
     ]
    },
    {
     "data": {
      "text/plain": [
       "float"
      ]
     },
     "execution_count": 20,
     "metadata": {},
     "output_type": "execute_result"
    }
   ],
   "source": [
    "b=10.4#floating point number\n",
    "print(b)\n",
    "type(b)"
   ]
  },
  {
   "cell_type": "code",
   "execution_count": 21,
   "id": "2a519b8b",
   "metadata": {},
   "outputs": [
    {
     "name": "stdout",
     "output_type": "stream",
     "text": [
      "hello i ineuron\n"
     ]
    },
    {
     "data": {
      "text/plain": [
       "str"
      ]
     },
     "execution_count": 21,
     "metadata": {},
     "output_type": "execute_result"
    }
   ],
   "source": [
    "c=\"hello i ineuron\" # string\n",
    "print(c)\n",
    "type(c)"
   ]
  },
  {
   "cell_type": "raw",
   "id": "078ca566",
   "metadata": {},
   "source": [
    "#10. Why does this expression cause an error? How can you fix it?\n",
    "'I have eaten ' + 99 + ' burritos.'\n",
    " \n",
    " Answer: There are two expression and 99 is integer. In hole santence is 99 is not string. fristly 99 integer is\n",
    " convert to string\n",
    " INPUT:  'I have eaten' +str( 99 ) + 'burritos'\n",
    " OUTPUT:  ' I have eaten 99 burritos '"
   ]
  },
  {
   "cell_type": "code",
   "execution_count": 22,
   "id": "1b78c080",
   "metadata": {},
   "outputs": [
    {
     "name": "stdout",
     "output_type": "stream",
     "text": [
      "i have eaten99burritos\n"
     ]
    }
   ],
   "source": [
    "print('i have eaten'+str(99)+ 'burritos')"
   ]
  },
  {
   "cell_type": "code",
   "execution_count": null,
   "id": "66287858",
   "metadata": {},
   "outputs": [],
   "source": []
  }
 ],
 "metadata": {
  "kernelspec": {
   "display_name": "Python 3 (ipykernel)",
   "language": "python",
   "name": "python3"
  },
  "language_info": {
   "codemirror_mode": {
    "name": "ipython",
    "version": 3
   },
   "file_extension": ".py",
   "mimetype": "text/x-python",
   "name": "python",
   "nbconvert_exporter": "python",
   "pygments_lexer": "ipython3",
   "version": "3.9.12"
  }
 },
 "nbformat": 4,
 "nbformat_minor": 5
}
