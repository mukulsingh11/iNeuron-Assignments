{
  "nbformat": 4,
  "nbformat_minor": 0,
  "metadata": {
    "colab": {
      "name": "Assignment_10.ipynb",
      "provenance": [],
      "collapsed_sections": [],
      "authorship_tag": "ABX9TyPoIlAc8EqkvoJ9TLPZ7fjQ",
      "include_colab_link": true
    },
    "kernelspec": {
      "name": "python3",
      "display_name": "Python 3"
    },
    "language_info": {
      "name": "python"
    }
  },
  "cells": [
    {
      "cell_type": "markdown",
      "metadata": {
        "id": "view-in-github",
        "colab_type": "text"
      },
      "source": [
        "<a href=\"https://colab.research.google.com/github/mukulsingh078968/iNeuron-Assignments/blob/main/Assignment_10.ipynb\" target=\"_parent\"><img src=\"https://colab.research.google.com/assets/colab-badge.svg\" alt=\"Open In Colab\"/></a>"
      ]
    },
    {
      "cell_type": "markdown",
      "source": [
        "**SUBMITTED BY: MukulSingh**"
      ],
      "metadata": {
        "id": "iIhOfHY80pMi"
      }
    },
    {
      "cell_type": "code",
      "source": [
        ""
      ],
      "metadata": {
        "id": "cLQICypJ0ofB"
      },
      "execution_count": null,
      "outputs": []
    },
    {
      "cell_type": "markdown",
      "source": [
        "**1.** How do you distinguish between shutil.copy() and shutil.copytree()?\n",
        "\n",
        "Answer: The distinguish between shutil. copy() will copy a single file, and shutil. copytree() will copy an entire folder and every folder and file contained in it. shutil.copytree() method copies an entire directory tree rooted at source (src) to the destination directory."
      ],
      "metadata": {
        "id": "bgVXL4iMdXGk"
      }
    },
    {
      "cell_type": "markdown",
      "source": [
        "**2.** What function is used to rename files??\n",
        "\n",
        "Answer:The function is used to rename() method in Python is used to rename a file or directory"
      ],
      "metadata": {
        "id": "iNDrXeZ0ebc0"
      }
    },
    {
      "cell_type": "markdown",
      "source": [
        "**3.** What is the difference between the delete functions in the send2trash and shutil modules?\n",
        "\n",
        "Answer: The delete files and folders using the send2trash module in Python. Using send2trash, we can send files to the Trash or Recycle Bin instead of permanently deleting them. These functions delete the files permanently. The operations cannot be undone if there were any accidental deletions performed. This can be prevented using send2trash.\n",
        "\n",
        " **shutil modules** : Shutil module provides a funciton called as shutil.rmtree() which deletes a directory and all of its contents. The other functions with similar functionality are os.remove() which removes a file. os.rmdir() removes a empty directory. The problem with these functions is once a file is deleted. it will be lost permanently and if a file is deleted accidentally using these methods there is no way we can recover the deleted file\n",
        " "
      ],
      "metadata": {
        "id": "yUIq4laYe9LD"
      }
    },
    {
      "cell_type": "code",
      "execution_count": null,
      "metadata": {
        "colab": {
          "base_uri": "https://localhost:8080/"
        },
        "id": "20q7hkuEdOPc",
        "outputId": "1f9c4f7a-5b24-483d-d9f8-da21cc8afeca"
      },
      "outputs": [
        {
          "output_type": "stream",
          "name": "stdout",
          "text": [
            "Looking in indexes: https://pypi.org/simple, https://us-python.pkg.dev/colab-wheels/public/simple/\n",
            "Requirement already satisfied: send2trash in /usr/local/lib/python3.7/dist-packages (1.8.0)\n"
          ]
        }
      ],
      "source": [
        "pip install send2trash"
      ]
    },
    {
      "cell_type": "markdown",
      "source": [
        "**4.**   ZipFile objects have a close() method just like File objects’ close() method. What ZipFile method is equivalent to File objects’ open() method?\n",
        "\n",
        "\n",
        "Answer:  ZipFile Module provides a method called as zipfile.ZipFile() to read and write to zipFiles. it takes arugments such as filename and mode etc zipfile.ZipFile('filename', mode = 'r')\n"
      ],
      "metadata": {
        "id": "8kBjLUVXguRG"
      }
    },
    {
      "cell_type": "markdown",
      "source": [
        "**5**.   Create a programme that searches a folder tree for files with a certain file extension (such as .pdf or .jpg). Copy these files from whatever location they are in to a new folder.\n",
        "\n",
        "Answer:  \n"
      ],
      "metadata": {
        "id": "-Jv9BECzhFi7"
      }
    },
    {
      "cell_type": "code",
      "source": [
        ""
      ],
      "metadata": {
        "id": "WC86par6gqZq"
      },
      "execution_count": null,
      "outputs": []
    }
  ]
}