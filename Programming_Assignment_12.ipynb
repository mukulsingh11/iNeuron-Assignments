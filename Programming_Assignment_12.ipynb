{
  "nbformat": 4,
  "nbformat_minor": 0,
  "metadata": {
    "colab": {
      "provenance": [],
      "authorship_tag": "ABX9TyNrKf1gZC5XuSO55vZFlXCc",
      "include_colab_link": true
    },
    "kernelspec": {
      "name": "python3",
      "display_name": "Python 3"
    },
    "language_info": {
      "name": "python"
    }
  },
  "cells": [
    {
      "cell_type": "markdown",
      "metadata": {
        "id": "view-in-github",
        "colab_type": "text"
      },
      "source": [
        "<a href=\"https://colab.research.google.com/github/mukulsingh078968/iNeuron-Assignments/blob/main/Programming_Assignment_12.ipynb\" target=\"_parent\"><img src=\"https://colab.research.google.com/assets/colab-badge.svg\" alt=\"Open In Colab\"/></a>"
      ]
    },
    {
      "cell_type": "markdown",
      "source": [
        "1.       Write a Python program to Extract Unique values dictionary values?\n"
      ],
      "metadata": {
        "id": "8tdhiSKFEaPx"
      }
    },
    {
      "cell_type": "code",
      "execution_count": 1,
      "metadata": {
        "colab": {
          "base_uri": "https://localhost:8080/"
        },
        "id": "C0mOBGciEP9I",
        "outputId": "1cd6363a-ce12-41c0-92c2-0f3ff9ea8ecb"
      },
      "outputs": [
        {
          "output_type": "execute_result",
          "data": {
            "text/plain": [
              "{'name': 'mukul', 'course': 'data science', 'institute': 'Ineuron'}"
            ]
          },
          "metadata": {},
          "execution_count": 1
        }
      ],
      "source": [
        "dict={'name':'mukul','course':'data science','institute':'Ineuron','name':'mukul'}\n",
        "dict"
      ]
    },
    {
      "cell_type": "markdown",
      "source": [
        "2.     Write a Python program to find the sum of all items in a dictionary?\n"
      ],
      "metadata": {
        "id": "OQhHveVeFLgW"
      }
    },
    {
      "cell_type": "code",
      "source": [
        "dict={'krish':10000,\"sudh\":11000,'course':17500,'laptop':40000}\n",
        "print('Sum of all items :',sum(dict.values()))"
      ],
      "metadata": {
        "colab": {
          "base_uri": "https://localhost:8080/"
        },
        "id": "NPVPK6W2E-s4",
        "outputId": "4e76c691-1e5f-4416-ab74-55d022d0e4be"
      },
      "execution_count": 5,
      "outputs": [
        {
          "output_type": "stream",
          "name": "stdout",
          "text": [
            "Sum of all items : 78500\n"
          ]
        }
      ]
    },
    {
      "cell_type": "markdown",
      "source": [
        "3...Write a Python program to Merging two Dictionaries?\n"
      ],
      "metadata": {
        "id": "huQQ6S7QGkcA"
      }
    },
    {
      "cell_type": "code",
      "source": [
        "course_details = {\n",
        "    'course_name':'Ineuron'\n",
        "}\n",
        "instructors = {\n",
        "    'course_instructors':['Sudhanshu','Krish']\n",
        "}\n",
        "course_details.update(instructors)\n",
        "print(course_details)"
      ],
      "metadata": {
        "colab": {
          "base_uri": "https://localhost:8080/"
        },
        "id": "gYiwCFAPGDMn",
        "outputId": "4d7de5ce-7681-48de-fe5d-0398f766bdd8"
      },
      "execution_count": 6,
      "outputs": [
        {
          "output_type": "stream",
          "name": "stdout",
          "text": [
            "{'course_name': 'Ineuron', 'course_instructors': ['Sudhanshu', 'Krish']}\n"
          ]
        }
      ]
    },
    {
      "cell_type": "markdown",
      "source": [
        "**4.**        Write a Python program to convert key-values list to flat dictionary?\n",
        "  "
      ],
      "metadata": {
        "id": "l5OC7e9VG26y"
      }
    },
    {
      "cell_type": "code",
      "source": [
        "in_list=[('ram',100),('shyam',200),('narayan',300),('arjun',400),('krishna',500)]\n",
        "out_dict = {}\n",
        "for ele in in_list:\n",
        "    out_dict[ele[0]] = ele[1]\n",
        "print(out_dict)"
      ],
      "metadata": {
        "colab": {
          "base_uri": "https://localhost:8080/"
        },
        "id": "EmS1PVKNGxIb",
        "outputId": "930cf6c2-86f2-420d-a11e-40732e00f3aa"
      },
      "execution_count": 14,
      "outputs": [
        {
          "output_type": "stream",
          "name": "stdout",
          "text": [
            "{'ram': 100, 'shyam': 200, 'narayan': 300, 'arjun': 400, 'krishna': 500}\n"
          ]
        }
      ]
    },
    {
      "cell_type": "markdown",
      "source": [
        "Write a Python program to insertion at the beginning in OrderedDict?\n"
      ],
      "metadata": {
        "id": "lARMRN28IkLw"
      }
    },
    {
      "cell_type": "code",
      "source": [
        "from collections import OrderedDict\n",
        "color_orderdict = OrderedDict([('color1', 'Red'), ('color2', 'Green'), ('color3', 'Blue')]) \n",
        "print(\"Original OrderedDict:\")\n",
        "print(color_orderdict)\n",
        "print(\"Insert an element at the beginning of the said OrderedDict:\")\n",
        "color_orderdict.update({'color4':'Orange'})\n",
        "color_orderdict.move_to_end('color4', last = False)\n",
        "print(\"\\nUpdated OrderedDict:\")\n",
        "print(color_orderdict)"
      ],
      "metadata": {
        "colab": {
          "base_uri": "https://localhost:8080/"
        },
        "id": "09UUnWlUJRI-",
        "outputId": "1da66396-0686-40f7-a57c-209a0d6ee9ba"
      },
      "execution_count": 16,
      "outputs": [
        {
          "output_type": "stream",
          "name": "stdout",
          "text": [
            "Original OrderedDict:\n",
            "OrderedDict([('color1', 'Red'), ('color2', 'Green'), ('color3', 'Blue')])\n",
            "Insert an element at the beginning of the said OrderedDict:\n",
            "\n",
            "Updated OrderedDict:\n",
            "OrderedDict([('color4', 'Orange'), ('color1', 'Red'), ('color2', 'Green'), ('color3', 'Blue')])\n"
          ]
        }
      ]
    },
    {
      "cell_type": "markdown",
      "source": [
        "Write a Python program to check order of character in string using OrderedDict()?\n"
      ],
      "metadata": {
        "id": "mS4BsHlPJq6F"
      }
    },
    {
      "cell_type": "code",
      "source": [
        "from collections import OrderedDict\n",
        "\n",
        "initial_list = {'a': 100, 'f': 200, 'd': 300, 'c': 400, 'b': 500, 'e': 600}\n",
        "print(initial_list)\n",
        "\n",
        "final_list = OrderedDict(sorted(initial_list.items()))\n",
        "print(final_list)"
      ],
      "metadata": {
        "colab": {
          "base_uri": "https://localhost:8080/"
        },
        "id": "GpSI9hP7JiCO",
        "outputId": "f95ee700-af65-43e3-fb20-122a745ab274"
      },
      "execution_count": 19,
      "outputs": [
        {
          "output_type": "stream",
          "name": "stdout",
          "text": [
            "{'a': 100, 'f': 200, 'd': 300, 'c': 400, 'b': 500, 'e': 600}\n",
            "OrderedDict([('a', 100), ('b', 500), ('c', 400), ('d', 300), ('e', 600), ('f', 200)])\n"
          ]
        }
      ]
    },
    {
      "cell_type": "markdown",
      "source": [
        "Write a Python program to sort Python Dictionaries by Key or Value?\n"
      ],
      "metadata": {
        "id": "3guvFAi3KQzJ"
      }
    },
    {
      "cell_type": "code",
      "source": [
        "dict={'name':'mukul singh','vill+P.O':'kushinager','course':'data science','fees':17500,'start class':\"07 may\"}"
      ],
      "metadata": {
        "id": "e_rRP6X8J2PU"
      },
      "execution_count": 26,
      "outputs": []
    },
    {
      "cell_type": "code",
      "source": [
        "dict.keys()"
      ],
      "metadata": {
        "colab": {
          "base_uri": "https://localhost:8080/"
        },
        "id": "6nCeM-RDK1nA",
        "outputId": "1f694602-5daf-4557-9072-855dfa8be57c"
      },
      "execution_count": 28,
      "outputs": [
        {
          "output_type": "execute_result",
          "data": {
            "text/plain": [
              "dict_keys(['name', 'vill+P.O', 'course', 'fees', 'start class'])"
            ]
          },
          "metadata": {},
          "execution_count": 28
        }
      ]
    },
    {
      "cell_type": "code",
      "source": [
        "dict.values()"
      ],
      "metadata": {
        "colab": {
          "base_uri": "https://localhost:8080/"
        },
        "id": "mpTZyQPsLJ7y",
        "outputId": "6dbeb1af-fb38-4ff2-a623-909874121121"
      },
      "execution_count": 29,
      "outputs": [
        {
          "output_type": "execute_result",
          "data": {
            "text/plain": [
              "dict_values(['mukul singh', 'kushinager', 'data science', 17500, '07 may'])"
            ]
          },
          "metadata": {},
          "execution_count": 29
        }
      ]
    },
    {
      "cell_type": "code",
      "source": [],
      "metadata": {
        "id": "6svY1XsALNgO"
      },
      "execution_count": null,
      "outputs": []
    }
  ]
}