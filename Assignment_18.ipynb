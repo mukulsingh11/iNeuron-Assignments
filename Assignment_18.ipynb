{
  "nbformat": 4,
  "nbformat_minor": 0,
  "metadata": {
    "colab": {
      "name": "Assignment_18.ipynb",
      "provenance": [],
      "collapsed_sections": [],
      "authorship_tag": "ABX9TyMg9awp7jP+7gt4xV9wJtTl",
      "include_colab_link": true
    },
    "kernelspec": {
      "name": "python3",
      "display_name": "Python 3"
    },
    "language_info": {
      "name": "python"
    }
  },
  "cells": [
    {
      "cell_type": "markdown",
      "metadata": {
        "id": "view-in-github",
        "colab_type": "text"
      },
      "source": [
        "<a href=\"https://colab.research.google.com/github/mukulsingh078968/iNeuron-Assignments/blob/main/Assignment_18.ipynb\" target=\"_parent\"><img src=\"https://colab.research.google.com/assets/colab-badge.svg\" alt=\"Open In Colab\"/></a>"
      ]
    },
    {
      "cell_type": "markdown",
      "source": [
        "SUBMITTED BY: Mukul Singh"
      ],
      "metadata": {
        "id": "FexlcPbBu0_A"
      }
    },
    {
      "cell_type": "markdown",
      "source": [
        "**1.** Create a zoo.py file first. Define the hours() function, which prints the string 'Open 9-5 daily'. Then, use the interactive interpreter to import the zoo module and call its hours() function.\n"
      ],
      "metadata": {
        "id": "WBExFyKiu-bv"
      }
    },
    {
      "cell_type": "code",
      "source": [
        "!type zoo"
      ],
      "metadata": {
        "colab": {
          "base_uri": "https://localhost:8080/"
        },
        "id": "FVHcGeuuvkN7",
        "outputId": "d5e45ea8-a9b8-4c7e-86b6-96e966283393"
      },
      "execution_count": 4,
      "outputs": [
        {
          "output_type": "stream",
          "name": "stdout",
          "text": [
            "/bin/bash: line 0: type: zoo: not found\n"
          ]
        }
      ]
    },
    {
      "cell_type": "code",
      "source": [
        "def hours():\n",
        "  print(\"open 9-5 daily\")"
      ],
      "metadata": {
        "id": "rRwpRItOv7O5"
      },
      "execution_count": 5,
      "outputs": []
    },
    {
      "cell_type": "code",
      "source": [
        "pip install analytics-zoo\n"
      ],
      "metadata": {
        "colab": {
          "base_uri": "https://localhost:8080/"
        },
        "id": "B7UmrY8KwKOW",
        "outputId": "f9c61408-0601-44ab-abb1-5a4e7fde1821"
      },
      "execution_count": 13,
      "outputs": [
        {
          "output_type": "stream",
          "name": "stdout",
          "text": [
            "Looking in indexes: https://pypi.org/simple, https://us-python.pkg.dev/colab-wheels/public/simple/\n",
            "Collecting analytics-zoo\n",
            "  Downloading analytics_zoo-0.11.2-py2.py3-none-manylinux1_x86_64.whl (206.9 MB)\n",
            "\u001b[K     |████████████████████████████████| 206.9 MB 50 kB/s \n",
            "\u001b[?25hCollecting pyspark==2.4.6\n",
            "  Downloading pyspark-2.4.6.tar.gz (218.4 MB)\n",
            "\u001b[K     |████████████████████████████████| 218.4 MB 57 kB/s \n",
            "\u001b[?25hCollecting conda-pack==0.3.1\n",
            "  Downloading conda_pack-0.3.1-py2.py3-none-any.whl (27 kB)\n",
            "Collecting bigdl==0.13.0\n",
            "  Downloading BigDL-0.13.0-py2.py3-none-manylinux1_x86_64.whl (114.0 MB)\n",
            "\u001b[K     |████████████████████████████████| 114.0 MB 1.3 MB/s \n",
            "\u001b[?25hRequirement already satisfied: six>=1.10.0 in /usr/local/lib/python3.7/dist-packages (from bigdl==0.13.0->analytics-zoo) (1.15.0)\n",
            "Requirement already satisfied: numpy>=1.7 in /usr/local/lib/python3.7/dist-packages (from bigdl==0.13.0->analytics-zoo) (1.21.6)\n",
            "Requirement already satisfied: setuptools in /usr/local/lib/python3.7/dist-packages (from conda-pack==0.3.1->analytics-zoo) (57.4.0)\n",
            "Collecting py4j==0.10.7\n",
            "  Downloading py4j-0.10.7-py2.py3-none-any.whl (197 kB)\n",
            "\u001b[K     |████████████████████████████████| 197 kB 22.7 MB/s \n",
            "\u001b[?25hBuilding wheels for collected packages: pyspark\n",
            "  Building wheel for pyspark (setup.py) ... \u001b[?25l\u001b[?25hdone\n",
            "  Created wheel for pyspark: filename=pyspark-2.4.6-py2.py3-none-any.whl size=218814407 sha256=f9e8c7e0921f3897922eaa29c95897a448877525f70227cdd25645e9a19195c2\n",
            "  Stored in directory: /root/.cache/pip/wheels/f1/42/b0/ba397759613f4feb1611021a2503e60e344e546671b2ae04f8\n",
            "Successfully built pyspark\n",
            "Installing collected packages: py4j, pyspark, conda-pack, bigdl, analytics-zoo\n",
            "Successfully installed analytics-zoo-0.11.2 bigdl-0.13.0 conda-pack-0.3.1 py4j-0.10.7 pyspark-2.4.6\n"
          ]
        }
      ]
    },
    {
      "cell_type": "code",
      "source": [
        "import zoo\n",
        "hours()"
      ],
      "metadata": {
        "colab": {
          "base_uri": "https://localhost:8080/"
        },
        "id": "8b-8ZzHUwNFe",
        "outputId": "027ac7d0-758e-4cf0-b3d8-b44cb68f9945"
      },
      "execution_count": 15,
      "outputs": [
        {
          "output_type": "stream",
          "name": "stdout",
          "text": [
            "open 9-5 daily\n"
          ]
        }
      ]
    },
    {
      "cell_type": "markdown",
      "source": [
        "**2.** In the interactive interpreter, import the zoo module as menagerie and call its hours() function.\n"
      ],
      "metadata": {
        "id": "ApE0WgGyyGls"
      }
    },
    {
      "cell_type": "code",
      "source": [
        "import zoo as menegerie\n",
        "hours()"
      ],
      "metadata": {
        "colab": {
          "base_uri": "https://localhost:8080/"
        },
        "id": "r9KFZdtNx4Eo",
        "outputId": "58b3d0d1-9d00-4db1-84db-6247a53befd2"
      },
      "execution_count": 16,
      "outputs": [
        {
          "output_type": "stream",
          "name": "stdout",
          "text": [
            "open 9-5 daily\n"
          ]
        }
      ]
    },
    {
      "cell_type": "markdown",
      "source": [
        "3. bold text. Using the interpreter, explicitly import and call the hours() function from zoo.\n"
      ],
      "metadata": {
        "id": "DFDLFAQJylua"
      }
    },
    {
      "cell_type": "code",
      "source": [
        "pip install -U libarchive\n",
        "from zoo import hours\n",
        "\n",
        "hours()"
      ],
      "metadata": {
        "colab": {
          "base_uri": "https://localhost:8080/",
          "height": 130
        },
        "id": "Q1kKBOB3yh98",
        "outputId": "91378f5b-e448-4f89-a1a8-f3c4ebe552e9"
      },
      "execution_count": 22,
      "outputs": [
        {
          "output_type": "error",
          "ename": "SyntaxError",
          "evalue": "ignored",
          "traceback": [
            "\u001b[0;36m  File \u001b[0;32m\"<ipython-input-22-9940a3485c9c>\"\u001b[0;36m, line \u001b[0;32m1\u001b[0m\n\u001b[0;31m    pip install -U libarchive\u001b[0m\n\u001b[0m              ^\u001b[0m\n\u001b[0;31mSyntaxError\u001b[0m\u001b[0;31m:\u001b[0m invalid syntax\n"
          ]
        }
      ]
    },
    {
      "cell_type": "markdown",
      "source": [
        "4. Import the hours() function as info and call it.\n"
      ],
      "metadata": {
        "id": "ob8fiukz0DvE"
      }
    },
    {
      "cell_type": "code",
      "source": [
        "from zoo import hours as info\n",
        "hours()"
      ],
      "metadata": {
        "colab": {
          "base_uri": "https://localhost:8080/",
          "height": 321
        },
        "id": "c5vM0pt40C0b",
        "outputId": "f4c8c3e1-d7e9-4a51-ec61-883afc589d17"
      },
      "execution_count": 24,
      "outputs": [
        {
          "output_type": "error",
          "ename": "ImportError",
          "evalue": "ignored",
          "traceback": [
            "\u001b[0;31m---------------------------------------------------------------------------\u001b[0m",
            "\u001b[0;31mImportError\u001b[0m                               Traceback (most recent call last)",
            "\u001b[0;32m<ipython-input-24-c1bc3085015a>\u001b[0m in \u001b[0;36m<module>\u001b[0;34m\u001b[0m\n\u001b[0;32m----> 1\u001b[0;31m \u001b[0;32mfrom\u001b[0m \u001b[0mzoo\u001b[0m \u001b[0;32mimport\u001b[0m \u001b[0mhours\u001b[0m \u001b[0;32mas\u001b[0m \u001b[0minfo\u001b[0m\u001b[0;34m\u001b[0m\u001b[0;34m\u001b[0m\u001b[0m\n\u001b[0m\u001b[1;32m      2\u001b[0m \u001b[0mhours\u001b[0m\u001b[0;34m(\u001b[0m\u001b[0;34m)\u001b[0m\u001b[0;34m\u001b[0m\u001b[0;34m\u001b[0m\u001b[0m\n",
            "\u001b[0;31mImportError\u001b[0m: cannot import name 'hours' from 'zoo' (/usr/local/lib/python3.7/dist-packages/zoo/__init__.py)",
            "",
            "\u001b[0;31m---------------------------------------------------------------------------\u001b[0;32m\nNOTE: If your import is failing due to a missing package, you can\nmanually install dependencies using either !pip or !apt.\n\nTo view examples of installing some common dependencies, click the\n\"Open Examples\" button below.\n\u001b[0;31m---------------------------------------------------------------------------\u001b[0m\n"
          ],
          "errorDetails": {
            "actions": [
              {
                "action": "open_url",
                "actionText": "Open Examples",
                "url": "/notebooks/snippets/importing_libraries.ipynb"
              }
            ]
          }
        }
      ]
    },
    {
      "cell_type": "markdown",
      "source": [
        "5. Create a plain dictionary with the key-value pairs 'a': 1, 'b': 2, and 'c': 3, and print it out."
      ],
      "metadata": {
        "id": "diEHwjhz0q1f"
      }
    },
    {
      "cell_type": "code",
      "source": [
        "Splain_dict={'a':1,'b':2,\"c\":3}\n",
        "print(plain_dict)\n"
      ],
      "metadata": {
        "colab": {
          "base_uri": "https://localhost:8080/"
        },
        "id": "KbYEL78-0Z_9",
        "outputId": "2eabaac0-edef-4265-a041-a3186637a346"
      },
      "execution_count": 25,
      "outputs": [
        {
          "output_type": "stream",
          "name": "stdout",
          "text": [
            "{'a': 1, 'b': 2, 'c': 3}\n"
          ]
        }
      ]
    },
    {
      "cell_type": "markdown",
      "source": [
        "**6.**    Make an OrderedDict called fancy from the same pairs listed in 5 and print it. Did it print in the same order as plain?\n"
      ],
      "metadata": {
        "id": "42bMWWdm1Giz"
      }
    },
    {
      "cell_type": "code",
      "source": [
        "from collections import OrderedDict\n",
        "fancy = OrderedDict(plain_dict)\n",
        "print(f'plain_dict {plain_dict}')\n",
        "print(f'fancy {fancy}')"
      ],
      "metadata": {
        "colab": {
          "base_uri": "https://localhost:8080/"
        },
        "id": "OzZxh0is0-zM",
        "outputId": "6dd53958-d464-42b0-f723-20416648e637"
      },
      "execution_count": 27,
      "outputs": [
        {
          "output_type": "stream",
          "name": "stdout",
          "text": [
            "plain_dict {'a': 1, 'b': 2, 'c': 3}\n",
            "fancy OrderedDict([('a', 1), ('b', 2), ('c', 3)])\n"
          ]
        }
      ]
    },
    {
      "cell_type": "markdown",
      "source": [
        "7. Make a default dictionary called dict_of_lists and pass it the argument list. Make the list dict_of_lists['a'] and append the value 'something for a' to it in one assignment. Print dict_of_lists['a'].\n",
        "\n"
      ],
      "metadata": {
        "id": "CTnM1fZY14rb"
      }
    },
    {
      "cell_type": "code",
      "source": [
        "from collections import defaultdict\n",
        "dict_of_lists = defaultdict(list)\n",
        "dict_of_lists['a'].append('something for a')\n",
        "print(dict_of_lists['a'])"
      ],
      "metadata": {
        "colab": {
          "base_uri": "https://localhost:8080/"
        },
        "id": "hqQIq7j11mdW",
        "outputId": "74637b7f-f41b-4c91-9c31-8d527d4223fe"
      },
      "execution_count": 28,
      "outputs": [
        {
          "output_type": "stream",
          "name": "stdout",
          "text": [
            "['something for a']\n"
          ]
        }
      ]
    },
    {
      "cell_type": "code",
      "source": [
        ""
      ],
      "metadata": {
        "id": "eUnOI8L32FOR"
      },
      "execution_count": null,
      "outputs": []
    }
  ]
}