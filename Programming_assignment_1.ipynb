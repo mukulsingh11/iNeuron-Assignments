{
  "nbformat": 4,
  "nbformat_minor": 0,
  "metadata": {
    "colab": {
      "name": "Programming-assignment-1.ipynb",
      "provenance": [],
      "authorship_tag": "ABX9TyPuvZAIX1THQ55UkwXkeA3y",
      "include_colab_link": true
    },
    "kernelspec": {
      "name": "python3",
      "display_name": "Python 3"
    },
    "language_info": {
      "name": "python"
    }
  },
  "cells": [
    {
      "cell_type": "markdown",
      "metadata": {
        "id": "view-in-github",
        "colab_type": "text"
      },
      "source": [
        "<a href=\"https://colab.research.google.com/github/mukulsingh078968/iNeuron-Assignments/blob/main/Programming_assignment_1.ipynb\" target=\"_parent\"><img src=\"https://colab.research.google.com/assets/colab-badge.svg\" alt=\"Open In Colab\"/></a>"
      ]
    },
    {
      "cell_type": "markdown",
      "source": [
        "1. Write a Python program to print \"Hello Python\"?\n"
      ],
      "metadata": {
        "id": "X_F4s0Po5P9n"
      }
    },
    {
      "cell_type": "code",
      "execution_count": 4,
      "metadata": {
        "colab": {
          "base_uri": "https://localhost:8080/"
        },
        "id": "uDjOtIYr5Mik",
        "outputId": "00474c9d-23bf-4ffc-b686-e85e47be2cb0"
      },
      "outputs": [
        {
          "output_type": "stream",
          "name": "stdout",
          "text": [
            "Hello Python\n"
          ]
        }
      ],
      "source": [
        "'Hello Python'\n",
        "print('Hello Python')"
      ]
    },
    {
      "cell_type": "markdown",
      "source": [
        "2. Write a Python program to do arithmetical operations addition and division.?\n"
      ],
      "metadata": {
        "id": "0JkhBc_k5tKs"
      }
    },
    {
      "cell_type": "code",
      "source": [
        "# Arithetical operations\n",
        "\" + , /  \""
      ],
      "metadata": {
        "colab": {
          "base_uri": "https://localhost:8080/",
          "height": 36
        },
        "id": "Q0fZlemm5bJ5",
        "outputId": "19b3527f-4e87-405b-f9a3-2fa5ebb35b5a"
      },
      "execution_count": 7,
      "outputs": [
        {
          "output_type": "execute_result",
          "data": {
            "text/plain": [
              "' + , /  '"
            ],
            "application/vnd.google.colaboratory.intrinsic+json": {
              "type": "string"
            }
          },
          "metadata": {},
          "execution_count": 7
        }
      ]
    },
    {
      "cell_type": "code",
      "source": [
        "# Additions operation\n",
        "a=200\n",
        "b=100\n",
        "c=a+b\n",
        "print(c)"
      ],
      "metadata": {
        "colab": {
          "base_uri": "https://localhost:8080/"
        },
        "id": "-B7dekTG6EmD",
        "outputId": "462be265-10ce-463a-e723-91a2026bae77"
      },
      "execution_count": 9,
      "outputs": [
        {
          "output_type": "stream",
          "name": "stdout",
          "text": [
            "300\n"
          ]
        }
      ]
    },
    {
      "cell_type": "code",
      "source": [
        "# Division operation\n",
        "a=200\n",
        "b=100\n",
        "c=a/b\n",
        "print(c)"
      ],
      "metadata": {
        "colab": {
          "base_uri": "https://localhost:8080/"
        },
        "id": "m4jP6Cm-6WeZ",
        "outputId": "92f55b4b-8dc8-4d8a-b9d3-947bb546b711"
      },
      "execution_count": 10,
      "outputs": [
        {
          "output_type": "stream",
          "name": "stdout",
          "text": [
            "2.0\n"
          ]
        }
      ]
    },
    {
      "cell_type": "markdown",
      "source": [
        "3.  Write a Python program to find the area of a triangle?\n"
      ],
      "metadata": {
        "id": "NWdWi1HK6vpC"
      }
    },
    {
      "cell_type": "code",
      "source": [
        "a = float(input('Enter the length of first side: '))  \n",
        "b = float(input('Enter  the length of second side: '))  \n",
        "c = float(input('Enter  the length of third side: '))  \n",
        "s = (a + b + c) / 2  \n",
        "Area = (s*(s-a)*(s-b)*(s-c)) ** 0.5  \n",
        "print('The area of the triangle is %0.2f' %Area)"
      ],
      "metadata": {
        "colab": {
          "base_uri": "https://localhost:8080/"
        },
        "id": "Mb-b8q3u7KJV",
        "outputId": "38d6628b-9235-47af-ef34-de9fc2edb141"
      },
      "execution_count": 15,
      "outputs": [
        {
          "output_type": "stream",
          "name": "stdout",
          "text": [
            "Enter the length of first side: 10\n",
            "Enter  the length of second side: 8\n",
            "Enter  the length of third side: 10\n",
            "The area of the triangle is 36.66\n"
          ]
        }
      ]
    },
    {
      "cell_type": "markdown",
      "source": [
        "4.  Write a Python program to swap two variables?\n"
      ],
      "metadata": {
        "id": "6_Gd-fVn-Bbj"
      }
    },
    {
      "cell_type": "code",
      "source": [
        "a=10\n",
        "b=50\n",
        "temp=a # using the third variable\n",
        "a=b\n",
        "b=temp\n",
        "print(a)\n",
        "print(b)"
      ],
      "metadata": {
        "colab": {
          "base_uri": "https://localhost:8080/"
        },
        "id": "6S0Dziwx_Ty7",
        "outputId": "bd90fa68-7ecc-4635-e201-e43630e8d0f4"
      },
      "execution_count": 19,
      "outputs": [
        {
          "output_type": "stream",
          "name": "stdout",
          "text": [
            "50\n",
            "10\n"
          ]
        }
      ]
    },
    {
      "cell_type": "markdown",
      "source": [
        "5.  Write a Python program to generate a random number?\n"
      ],
      "metadata": {
        "id": "M-PK3Va-BasR"
      }
    },
    {
      "cell_type": "code",
      "source": [
        "from random import randint\n",
        "\n",
        "def generateRandomNumber(start=0, end=100):\n",
        "    print('Random number -> ',randint(start,end))\n",
        "\n",
        "# Generating random numbers without arguments    \n",
        "generateRandomNumber()\n",
        "\n",
        "# Generating random numbers with arguments    \n",
        "generateRandomNumber(0,100)"
      ],
      "metadata": {
        "colab": {
          "base_uri": "https://localhost:8080/"
        },
        "id": "1m4crmYcBrC_",
        "outputId": "ed6c8b75-290b-47ee-ed5e-930d7001944c"
      },
      "execution_count": 40,
      "outputs": [
        {
          "output_type": "stream",
          "name": "stdout",
          "text": [
            "Random number ->  88\n",
            "Random number ->  62\n"
          ]
        }
      ]
    },
    {
      "cell_type": "code",
      "source": [
        ""
      ],
      "metadata": {
        "id": "JExtAPmBDsQe"
      },
      "execution_count": null,
      "outputs": []
    }
  ]
}