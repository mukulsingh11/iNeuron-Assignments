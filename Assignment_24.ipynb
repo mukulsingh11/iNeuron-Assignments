{
  "nbformat": 4,
  "nbformat_minor": 0,
  "metadata": {
    "colab": {
      "name": "Assignment_24.ipynb",
      "provenance": [],
      "collapsed_sections": [],
      "authorship_tag": "ABX9TyNmbvyyjBVK5me6nBiOQEMl",
      "include_colab_link": true
    },
    "kernelspec": {
      "name": "python3",
      "display_name": "Python 3"
    },
    "language_info": {
      "name": "python"
    }
  },
  "cells": [
    {
      "cell_type": "markdown",
      "metadata": {
        "id": "view-in-github",
        "colab_type": "text"
      },
      "source": [
        "<a href=\"https://colab.research.google.com/github/mukulsingh078968/iNeuron-Assignments/blob/main/Assignment_24.ipynb\" target=\"_parent\"><img src=\"https://colab.research.google.com/assets/colab-badge.svg\" alt=\"Open In Colab\"/></a>"
      ]
    },
    {
      "cell_type": "markdown",
      "source": [
        "**1**.  What is the relationship between def statements and lambda expressions ?\n",
        "\n",
        "\n",
        "Answer:   def defined functions are commonly used because of their simplicity. The def defined functions do not return anything if not explicitly returned whereas the lambda function does return an object. The def functions must be declared in the namespace. The def functions can perform any python task including multiple conditions, nested conditions or loops of any level, printing, importing libraries, raising Exceptions, etc. \n",
        "\n",
        "2. lambda expression = The lambda functions can be used without any declaration in the namespace. The lambda functions defined above are like single-line functions. These functions do not have parenthesis like the def defined functions but instead, take parameters after the lambda keyword as shown above. There is no return keyword defined explicitly because the lambda function does return an object by default."
      ],
      "metadata": {
        "id": "dOyA32eJGdC5"
      }
    },
    {
      "cell_type": "markdown",
      "source": [
        "**2.**  What is the benefit of lambda?\n",
        "\n",
        "Answer:  \n",
        "The lambda keyword in Python provides a shortcut for declaring small anonymous functions. Lambda functions behave just like regular functions declared with the def keyword. They can be used whenever function objects are required."
      ],
      "metadata": {
        "id": "ty6bDFEBHist"
      }
    },
    {
      "cell_type": "markdown",
      "source": [
        "**3**.  Compare and contrast map, filter, and reduce.\n",
        "\n",
        "Answer: \n",
        "\n",
        "The functions map(), filter(), and reduce() all do the same thing: They each take a function and a list of elements, and then return the result of applying the function to each element in the list. As previously stated, Python has built-in functions like map(), filter(), and reduce()\n",
        "\n",
        "map creates a new array by transforming every element in an array individually. filter creates a new array by removing elements that don't belong. reduce , on the other hand, takes all of the elements in an array and reduces them into a single value. Just like map and filter , reduce is defined on Array"
      ],
      "metadata": {
        "id": "ZF_XqtSkIXG_"
      }
    },
    {
      "cell_type": "markdown",
      "source": [
        "**4.**  What are function annotations, and how are they used?\n",
        "\n",
        "Answer: \n",
        "Function annotations are completely optional both for parameters and return value. Function annotations provide a way of associating various parts of a function with arbitrary python expressions at compile time.\n",
        "Annotations have a number of uses, among them: Information for the compiler — Annotations can be used by the compiler to detect errors or suppress warnings. Compile-time and deployment-time processing — Software tools can process annotation information to generate code, XML files, and so forth."
      ],
      "metadata": {
        "id": "MPJQVfLrKHHO"
      }
    },
    {
      "cell_type": "markdown",
      "source": [
        "**5**.  What are recursive functions, and how are they used?\n",
        "\n",
        "\n",
        "\n",
        "A recursive function is a function that calls itself during its execution. The process may repeat several times, outputting the result and the end of each iteration.\n",
        "\n",
        "The function Count() below uses recursion to count from any number between 1 and 9, to the number 10. For example, Count(1) would return 2,3,4,5,6,7,8,9,10. Count(7) would return 8,9,10. The result could be used as a roundabout way to subtract the number from 10.\n",
        "\n",
        "Initialize the algorithm. ...\n",
        "\n",
        "Check to see whether the current value(s) being processed match the base case. ...\n",
        "Redefine the answer in terms of a smaller or simpler sub-problem or \n",
        "\n",
        "sub-problems.\n",
        "\n",
        "Run the algorithm on the sub-problem.\n",
        "\n",
        "Combine the results in the formulation of the answer."
      ],
      "metadata": {
        "id": "ITpdWnH4K9a0"
      }
    },
    {
      "cell_type": "markdown",
      "source": [
        "**6**. What are some general design guidelines for coding functions?\n",
        "\n",
        "Answer:\n",
        "Safe: It can be used without causing harm.\n",
        "\n",
        "Secure: It can't be hacked.\n",
        "\n",
        "Reliable: It functions as it should, every time.\n",
        "\n",
        "Testable: It can be tested at the code level.\n",
        "\n",
        "Maintainable: It can be maintained, even as your codebase grows.\n",
        "\n",
        "Portable: It works the same in every environment.\n"
      ],
      "metadata": {
        "id": "90lbKD08Lm3s"
      }
    },
    {
      "cell_type": "markdown",
      "source": [
        "7. Name three or more ways that functions can communicate results to a caller.\n",
        "\n",
        "Answer:\n",
        "A return is a value that a function returns to the calling script or function when it completes its task. A return value can be any one of the four variable types: handle, integer, object, or string."
      ],
      "metadata": {
        "id": "i0U2oVfXMUak"
      }
    },
    {
      "cell_type": "code",
      "execution_count": null,
      "metadata": {
        "id": "Z4mN2-UZGboy"
      },
      "outputs": [],
      "source": [
        ""
      ]
    }
  ]
}