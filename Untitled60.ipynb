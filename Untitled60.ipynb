{
  "nbformat": 4,
  "nbformat_minor": 0,
  "metadata": {
    "colab": {
      "name": "Untitled60.ipynb",
      "provenance": [],
      "collapsed_sections": [],
      "authorship_tag": "ABX9TyO8U7YoQJZJU+vzwGmppNO+",
      "include_colab_link": true
    },
    "kernelspec": {
      "name": "python3",
      "display_name": "Python 3"
    },
    "language_info": {
      "name": "python"
    }
  },
  "cells": [
    {
      "cell_type": "markdown",
      "metadata": {
        "id": "view-in-github",
        "colab_type": "text"
      },
      "source": [
        "<a href=\"https://colab.research.google.com/github/mukulsingh078968/iNeuron-Assignments/blob/main/Untitled60.ipynb\" target=\"_parent\"><img src=\"https://colab.research.google.com/assets/colab-badge.svg\" alt=\"Open In Colab\"/></a>"
      ]
    },
    {
      "cell_type": "markdown",
      "source": [
        "1.What are the two values of the Boolean data type? How do you write them?\n",
        "\n",
        "\n",
        "Answer: The two values of the boolean data type are 1. True and 2. False. We have use capital letter True is denotes by T and \n",
        "         False is denotes by F the word is lowercase.The type()of both False and True is boolean.However the name itself isn't\n",
        "         a keyword in the language."
      ],
      "metadata": {
        "id": "bOthFI1u9s8Y"
      }
    },
    {
      "cell_type": "code",
      "source": [
        "a=True\n",
        "print(a)\n",
        "type(a)"
      ],
      "metadata": {
        "colab": {
          "base_uri": "https://localhost:8080/"
        },
        "id": "wkpi2hkr9xH9",
        "outputId": "b4624338-ed08-473e-ecbb-1180ae81e2f4"
      },
      "execution_count": 3,
      "outputs": [
        {
          "output_type": "stream",
          "name": "stdout",
          "text": [
            "True\n"
          ]
        },
        {
          "output_type": "execute_result",
          "data": {
            "text/plain": [
              "bool"
            ]
          },
          "metadata": {},
          "execution_count": 3
        }
      ]
    },
    {
      "cell_type": "code",
      "source": [
        "b=False\n",
        "print(b)\n",
        "type(b)"
      ],
      "metadata": {
        "colab": {
          "base_uri": "https://localhost:8080/"
        },
        "id": "Et3jTbpl-Ikn",
        "outputId": "000d916d-488c-4790-a98b-ebb250aa69b1"
      },
      "execution_count": 5,
      "outputs": [
        {
          "output_type": "stream",
          "name": "stdout",
          "text": [
            "False\n"
          ]
        },
        {
          "output_type": "execute_result",
          "data": {
            "text/plain": [
              "bool"
            ]
          },
          "metadata": {},
          "execution_count": 5
        }
      ]
    },
    {
      "cell_type": "markdown",
      "source": [
        "2. What are the three different types of Boolean operators?\n",
        "\n",
        "Answer: There are three type of boolean operater AND,OR, & NOT\n",
        " 1. AND searches find all of the search terms. For example, searching on dengue AND malaria AND zika returns only results that    contain all three search terms\n",
        " 2. OR searches find one term or the other\n",
        " 3. NOT eliminates items that contain the specified te"
      ],
      "metadata": {
        "id": "vuJG8X3X-aQn"
      }
    },
    {
      "cell_type": "markdown",
      "source": [
        "3. Make a listeach boolean operater's truth tables (i.e. every possible combination of Boolean values for the operator and    what it evaluate ).\n",
        " \n",
        " Answer: A list of each Boolean operaters truth tables\n",
        "       1. AND Operater\n",
        "         True and True = True\n",
        "         True and False= False\n",
        "         False and True = False\n",
        "         False and False = False\n",
        "        \n",
        "       2. OR Operaters\n",
        "          True and True = True\n",
        "          True ans False = True\n",
        "          False and True = True\n",
        "          False and Flase = False\n",
        "          \n",
        "       3. NOT Operaters\n",
        "          True not = False\n",
        "          False not = True"
      ],
      "metadata": {
        "id": "LkhrtBlz-hWt"
      }
    },
    {
      "cell_type": "markdown",
      "source": [
        "**4.** What are the values of the following expressions?\n",
        "\n",
        "  (5 > 4) and (3 == 5)\n",
        "\n",
        "  not (5 > 4)\n",
        "\n",
        "  (5 > 4) or (3 == 5)\n",
        "\n",
        "  not ((5 > 4) or (3 == 5))\n",
        "\n",
        "  (True and True) and (True == False)\n",
        "  \n",
        "  (not False) or (not True)\n"
      ],
      "metadata": {
        "id": "efWbAi5E_Kde"
      }
    },
    {
      "cell_type": "code",
      "source": [
        "a=(5>4) and (3==5) \n",
        "b= not (5>4)\n",
        "c=(5>4) or (3==5)\n",
        "d=not((5>4) or (3==5))\n",
        "e=(True and True) and (True ==False)\n",
        "f= (not False) or (not True)\n",
        "print(a)\n",
        "print(b)\n",
        "print(c)\n",
        "print(d)\n",
        "print(e)\n",
        "print(f)"
      ],
      "metadata": {
        "colab": {
          "base_uri": "https://localhost:8080/"
        },
        "id": "QTNzeRK7-RU_",
        "outputId": "4d8ae6fb-d3f1-4056-9907-1e069845b006"
      },
      "execution_count": 6,
      "outputs": [
        {
          "output_type": "stream",
          "name": "stdout",
          "text": [
            "False\n",
            "False\n",
            "True\n",
            "False\n",
            "False\n",
            "True\n"
          ]
        }
      ]
    },
    {
      "cell_type": "markdown",
      "source": [
        "5. What are the six comparison operators?\n",
        "\n",
        "\n",
        "Answer:  The six comparison operators compare two values and return  a boolean values,either true  and false\n",
        "         .Python has a six comparison operaters 1. less than (<)  2. less than or equal to (<=) 3. grater than(>)\n",
        "         4. grater than or equal to (>=) 5. equal to(==) 6. and not equal to(!=)"
      ],
      "metadata": {
        "id": "tNyHPzvY_1Xx"
      }
    },
    {
      "cell_type": "markdown",
      "source": [
        "** 6.** How do you tell the difference between the equal to and assignment operators?Describe a condition and when you would use one.\n",
        "\n",
        "\n",
        " Answer: The difference between the equal to and assignmen opertorsis a single equal mark(=) is used to assign a value to a variable, where as two consecutive equal mark (==) is to used to check whether 2 expression given the same value.\n",
        "  = is assignment operaters \n",
        "  == is equal operaters"
      ],
      "metadata": {
        "id": "y46ruNN6AFaw"
      }
    },
    {
      "cell_type": "code",
      "source": [
        "x=10\n",
        "y=20\n",
        "z=20\n",
        "\n",
        "(x==y)# False because we assign equal values to x and y\n",
        "\n",
        "(y==z)#  True because we assign equal values to y and z."
      ],
      "metadata": {
        "colab": {
          "base_uri": "https://localhost:8080/"
        },
        "id": "DNTeTCDh_lee",
        "outputId": "c83bfde1-c888-4ae3-9707-9d1420cbe84f"
      },
      "execution_count": 7,
      "outputs": [
        {
          "output_type": "execute_result",
          "data": {
            "text/plain": [
              "True"
            ]
          },
          "metadata": {},
          "execution_count": 7
        }
      ]
    },
    {
      "cell_type": "markdown",
      "source": [
        " 7. Identify the three blocks in this code: spam = 0 if spam == 10: print('eggs') if spam > 5: print('bacon') else: print('ham') print('spam') print('spam')"
      ],
      "metadata": {
        "id": "9IcGJ-KwAd4O"
      }
    },
    {
      "cell_type": "code",
      "source": [
        "#Answer:\n",
        "spam = 0\n",
        "if spam ==10:\n",
        "    print('eggs')\n",
        "if spam >5:\n",
        "    print(\"bacon\")\n",
        "else:\n",
        "    print(\"ham\")\n",
        "print(\"spam\")\n",
        "print(\"spam\")\n"
      ],
      "metadata": {
        "colab": {
          "base_uri": "https://localhost:8080/"
        },
        "id": "UyCMn4beATFY",
        "outputId": "3b8411a5-1258-41d2-cadf-8e6bca584f0b"
      },
      "execution_count": 8,
      "outputs": [
        {
          "output_type": "stream",
          "name": "stdout",
          "text": [
            "ham\n",
            "spam\n",
            "spam\n"
          ]
        }
      ]
    },
    {
      "cell_type": "markdown",
      "source": [
        "8.  Write code that prints Hello if 1 is stored in spam, prints Howdy if 2 is stored in spam, and prints Greetings! if anything else is stored in spam.\n",
        "def spamcode(spam):\n",
        "    if spam==1:"
      ],
      "metadata": {
        "id": "f3x-kM53AsbL"
      }
    },
    {
      "cell_type": "code",
      "source": [
        "def spam(spam):\n",
        "    if spam==1:\n",
        "        print('Hello')\n",
        "    elif spam==2:\n",
        "        print('Howdy')\n",
        "    else:\n",
        "        print('Greetings')\n",
        "        \n",
        "spam(1) \n",
        "spam(2)\n",
        "spam(3)"
      ],
      "metadata": {
        "colab": {
          "base_uri": "https://localhost:8080/"
        },
        "id": "JoJ4xVs2BKT1",
        "outputId": "da0cdc80-8751-441d-b0b7-1ada6c0e8119"
      },
      "execution_count": 22,
      "outputs": [
        {
          "output_type": "stream",
          "name": "stdout",
          "text": [
            "Hello\n",
            "Howdy\n",
            "Greetings\n"
          ]
        }
      ]
    },
    {
      "cell_type": "markdown",
      "source": [
        "9. If your programme is stuck in an endless loop, what keysyou’ll press?\n",
        "\n",
        "Answer: ctrl +C"
      ],
      "metadata": {
        "id": "Rmz0V6vGCjax"
      }
    },
    {
      "cell_type": "markdown",
      "source": [
        "10. How can you tell the difference between break and continue?\n",
        "\n",
        "Answer: In python break statement stop the loop in which the staement is placed.A python\n",
        "\n",
        "continue statement skipe a single iteration in a loop .\n",
        "Break statement is used to exit from the loop construction.\n",
        "Continue statement is not used to exit from  the loop construction."
      ],
      "metadata": {
        "id": "odmJyOe3Cp5z"
      }
    },
    {
      "cell_type": "code",
      "source": [
        "# brake  loop\n",
        "\n",
        "l = [10,20,30,40,50,60]\n",
        "for i in l:\n",
        "    if i == 50:\n",
        "        break  \n",
        "    print(i)\n",
        "else:\n",
        "    print(\"this is break statement\")\n"
      ],
      "metadata": {
        "colab": {
          "base_uri": "https://localhost:8080/"
        },
        "id": "FQ0EvyMpB05Q",
        "outputId": "171ee928-c558-4e5d-f137-b39794753767"
      },
      "execution_count": 16,
      "outputs": [
        {
          "output_type": "stream",
          "name": "stdout",
          "text": [
            "10\n",
            "20\n",
            "30\n",
            "40\n"
          ]
        }
      ]
    },
    {
      "cell_type": "code",
      "source": [
        "# Continue Loop\n",
        "s= ' sudhanshusir'\n",
        "for i in s:\n",
        "    if i == 'i':\n",
        "        continue \n",
        "    print(i)\n",
        "else:\n",
        "    print('hello')"
      ],
      "metadata": {
        "colab": {
          "base_uri": "https://localhost:8080/"
        },
        "id": "t73O9kAaC-fZ",
        "outputId": "a69f05e6-aad0-460f-f531-b60152faa0bf"
      },
      "execution_count": 17,
      "outputs": [
        {
          "output_type": "stream",
          "name": "stdout",
          "text": [
            " \n",
            "s\n",
            "u\n",
            "d\n",
            "h\n",
            "a\n",
            "n\n",
            "s\n",
            "h\n",
            "u\n",
            "s\n",
            "r\n",
            "hello\n"
          ]
        }
      ]
    },
    {
      "cell_type": "markdown",
      "source": [
        "11.  In a for loop, what is the difference between range(10), range(0, 10), and range(0, 10, 1)?\n",
        "\n",
        "\n",
        "Answer: Range is function , there are three parameter Start, Stop, Step 1.The range (10) cell range from 0 to 9 ,but not including 10. execluding upper bound 2. The range (0, 10) explicitly tell the loop to start at 0\n",
        "\n",
        " 3. The range (0, 10,1) explicitly tells the loop to increase the variable by 1 on each iteration"
      ],
      "metadata": {
        "id": "dI0Je4tKDIm8"
      }
    },
    {
      "cell_type": "markdown",
      "source": [
        "12. Write a short program that prints the numbers 1 to 10 using a for loop. Then write an equivalent program that prints the numbers 1 to 10 using a while loop."
      ],
      "metadata": {
        "id": "sjKnIgCWDgko"
      }
    },
    {
      "cell_type": "code",
      "source": [
        "l =[ 1,2,3,4,5,6,7,8,9,10]\n",
        "for i in l:\n",
        "    print(i)"
      ],
      "metadata": {
        "colab": {
          "base_uri": "https://localhost:8080/"
        },
        "id": "QIM5sj3NDGmD",
        "outputId": "e7039516-e316-4f14-e404-e74488db2d16"
      },
      "execution_count": 18,
      "outputs": [
        {
          "output_type": "stream",
          "name": "stdout",
          "text": [
            "1\n",
            "2\n",
            "3\n",
            "4\n",
            "5\n",
            "6\n",
            "7\n",
            "8\n",
            "9\n",
            "10\n"
          ]
        }
      ]
    },
    {
      "cell_type": "code",
      "source": [
        "l = [1,2,3,4,5,6,7,8,9,10]\n",
        "for i in l:\n",
        "    print(i)\n",
        "    a=0\n",
        "while a<len (l):\n",
        "    a=a+1\n"
      ],
      "metadata": {
        "colab": {
          "base_uri": "https://localhost:8080/"
        },
        "id": "2WO7wn7ODq-A",
        "outputId": "705be49d-6803-49a4-f8f2-26db9e3a78c6"
      },
      "execution_count": 19,
      "outputs": [
        {
          "output_type": "stream",
          "name": "stdout",
          "text": [
            "1\n",
            "2\n",
            "3\n",
            "4\n",
            "5\n",
            "6\n",
            "7\n",
            "8\n",
            "9\n",
            "10\n"
          ]
        }
      ]
    },
    {
      "cell_type": "markdown",
      "source": [
        "**13.** If you had a function named bacon() inside a module named spam, how would you call it after importing spam?\n",
        "\n",
        "\n",
        "Answer: The function can be called with spam.bacon()"
      ],
      "metadata": {
        "id": "E50XWFtSD4yY"
      }
    },
    {
      "cell_type": "code",
      "source": [
        ""
      ],
      "metadata": {
        "id": "E5mJPMElDzoH"
      },
      "execution_count": null,
      "outputs": []
    }
  ]
}