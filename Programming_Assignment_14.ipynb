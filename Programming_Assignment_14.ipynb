{
  "nbformat": 4,
  "nbformat_minor": 0,
  "metadata": {
    "colab": {
      "provenance": [],
      "authorship_tag": "ABX9TyOFmdimh+5Q9vBJgPxg5G2A",
      "include_colab_link": true
    },
    "kernelspec": {
      "name": "python3",
      "display_name": "Python 3"
    },
    "language_info": {
      "name": "python"
    }
  },
  "cells": [
    {
      "cell_type": "markdown",
      "metadata": {
        "id": "view-in-github",
        "colab_type": "text"
      },
      "source": [
        "<a href=\"https://colab.research.google.com/github/mukulsingh078968/iNeuron-Assignments/blob/main/Programming_Assignment_14.ipynb\" target=\"_parent\"><img src=\"https://colab.research.google.com/assets/colab-badge.svg\" alt=\"Open In Colab\"/></a>"
      ]
    },
    {
      "cell_type": "markdown",
      "source": [
        "Question 1:\n",
        "\n",
        "\n",
        "\n",
        "Define a class with a generator which can iterate the numbers, which are divisible by 7, between a given range 0 and n.\n"
      ],
      "metadata": {
        "id": "SqlebCDEAo2J"
      }
    },
    {
      "cell_type": "code",
      "source": [
        "class div_generator:\n",
        "    def __init__(self,in_num):\n",
        "        self.in_num = in_num\n",
        "    def get_numbers(self):\n",
        "        for i in range(0,self.in_num+1):\n",
        "            if i%7 == 0:\n",
        "                yield i\n",
        "                \n",
        "output = div_generator(100)\n",
        "for i in output.get_numbers():\n",
        "    print(i,end=' ')"
      ],
      "metadata": {
        "colab": {
          "base_uri": "https://localhost:8080/"
        },
        "id": "xq_vLt-NFx3C",
        "outputId": "9d296dd9-2b3a-4b68-eb9e-574782fec70f"
      },
      "execution_count": 17,
      "outputs": [
        {
          "output_type": "stream",
          "name": "stdout",
          "text": [
            "0 7 14 21 28 35 42 49 56 63 70 77 84 91 98 "
          ]
        }
      ]
    },
    {
      "cell_type": "markdown",
      "source": [
        "\n",
        "Question 2:\n",
        "Write a program to compute the frequency of the words from the input. The output should output after sorting the key alphanumerically. \n",
        "\n",
        "\n",
        "\n",
        "\n",
        "Suppose the following input is supplied to the program:\n",
        "\n",
        "\n",
        "\n",
        "\n",
        "New to Python or choosing between Python 2 and Python 3? Read Python 2 or Python 3.\n",
        "\n",
        "\n",
        "\n",
        "\n",
        "Then, the output should be:\n",
        "\n",
        "\n",
        "\n",
        "\n",
        "2:2\n",
        "\n",
        "\n",
        "\n",
        "\n",
        "3.:1\n",
        "\n",
        "\n",
        "\n",
        "\n",
        "3?:1\n",
        "\n",
        "\n",
        "\n",
        "\n",
        "New:1\n",
        "\n",
        "\n",
        "\n",
        "\n",
        "Python:5\n",
        "\n",
        "\n",
        "\n",
        "\n",
        "Read:1\n",
        "\n",
        "\n",
        "\n",
        "\n",
        "and:1\n",
        "\n",
        "\n",
        "\n",
        "\n",
        "between:1\n",
        "\n",
        "\n",
        "\n",
        "\n",
        "choosing:1\n",
        "\n",
        "\n",
        "\n",
        "\n",
        "or:2\n",
        "\n",
        "\n",
        "\n",
        "to:1\n",
        "\n"
      ],
      "metadata": {
        "id": "5XGOpDZFNhe_"
      }
    },
    {
      "cell_type": "code",
      "source": [
        "in_string = input(\"Enter the Input String: \")\n",
        "frequency = {}\n",
        "for i in in_string.split(\" \"):\n",
        "  if(frequency.get(i) == None):\n",
        "    frequency[i] = 1\n",
        "  else:\n",
        "    frequency[i] += 1 \n",
        "for i in sorted(frequency):\n",
        "  print(f'{i}:{frequency[i]}',end=\" \")"
      ],
      "metadata": {
        "colab": {
          "base_uri": "https://localhost:8080/"
        },
        "id": "sE44qS39Hbi-",
        "outputId": "b2458efa-268b-4ef1-f70d-885e8cdc44b9"
      },
      "execution_count": 22,
      "outputs": [
        {
          "output_type": "stream",
          "name": "stdout",
          "text": [
            "Enter the Input String: new to python or choose between python 2 and python 3 ? read python 2 and python 3\n",
            "3:2 3:2 3:2 3:2 3:2 3:2 3:2 3:2 3:2 3:2 3:2 "
          ]
        }
      ]
    },
    {
      "cell_type": "markdown",
      "source": [
        "Question 3:\n",
        "\n",
        "\n",
        "\n",
        "\n",
        "\n",
        "\n",
        "\n",
        "\n",
        "\n",
        "Define a class Person and its two child classes: Male and Female. All classes have a method \"getGender\" which can print \"Male\" for Male class and \"Female\" for Female class.\n"
      ],
      "metadata": {
        "id": "dEWrBjDBRs-P"
      }
    },
    {
      "cell_type": "code",
      "source": [
        "class Male:\n",
        "  def  __init__(self,male):\n",
        "    self.male=male\n",
        "getGender = Male('male')\n",
        "print(getGender.male)\n",
        "\n",
        "\n",
        "class Female:\n",
        "  def __init__(self,female):\n",
        "    self.female=female\n",
        "getFemale = Female('female')\n",
        "print(getFemale.female)"
      ],
      "metadata": {
        "colab": {
          "base_uri": "https://localhost:8080/"
        },
        "id": "5Lrguv51PPD9",
        "outputId": "1a101ff8-5c54-4b81-c60c-6a5bf8044d10"
      },
      "execution_count": 30,
      "outputs": [
        {
          "output_type": "stream",
          "name": "stdout",
          "text": [
            "male\n",
            "female\n"
          ]
        }
      ]
    },
    {
      "cell_type": "markdown",
      "source": [
        "Question 4:\n",
        "Please write a program to generate all sentences where subject is in [\"I\", \"You\"] and verb is in [\"Play\", \"Love\"] and the object is in [\"Hockey\",\"Football\"].\n"
      ],
      "metadata": {
        "id": "-UfzkTcjW5qP"
      }
    },
    {
      "cell_type": "code",
      "source": [
        "subject=['I','You']\n",
        "verb=['Play','Love']\n",
        "object=['Hockey','Football']\n",
        "for x in subject:\n",
        "  for y in verb:\n",
        "    for z in object:\n",
        "      print(x,y,z)\n"
      ],
      "metadata": {
        "colab": {
          "base_uri": "https://localhost:8080/"
        },
        "id": "-dFNnWjhS3zr",
        "outputId": "25b694a5-1b97-4692-ff7a-201fb4575eaf"
      },
      "execution_count": 32,
      "outputs": [
        {
          "output_type": "stream",
          "name": "stdout",
          "text": [
            "I Play Hockey\n",
            "I Play Football\n",
            "I Love Hockey\n",
            "I Love Football\n",
            "You Play Hockey\n",
            "You Play Football\n",
            "You Love Hockey\n",
            "You Love Football\n"
          ]
        }
      ]
    },
    {
      "cell_type": "markdown",
      "source": [
        "\n",
        "Question 5:\n",
        "Please write a program to compress and decompress the string \"hello world!hello world!hello world!hello world!\".\n"
      ],
      "metadata": {
        "id": "0hANx5dcYFWC"
      }
    },
    {
      "cell_type": "code",
      "source": [
        "s=\"hello world!hello world!hello world!hello world! \""
      ],
      "metadata": {
        "id": "Rtmw0VR5Xvjo"
      },
      "execution_count": 33,
      "outputs": []
    },
    {
      "cell_type": "code",
      "source": [
        "s"
      ],
      "metadata": {
        "colab": {
          "base_uri": "https://localhost:8080/",
          "height": 36
        },
        "id": "Hs6CdGi5Yl68",
        "outputId": "a3bea35b-ee45-424e-8724-6c2fd1bb2543"
      },
      "execution_count": 34,
      "outputs": [
        {
          "output_type": "execute_result",
          "data": {
            "text/plain": [
              "'hello world!hello world!hello world!hello world! '"
            ],
            "application/vnd.google.colaboratory.intrinsic+json": {
              "type": "string"
            }
          },
          "metadata": {},
          "execution_count": 34
        }
      ]
    },
    {
      "cell_type": "markdown",
      "source": [
        "\n",
        "Question 6:\n",
        "Please write a binary search function which searches an item in a sorted list. The function should return the index of element to be searched in the list.\n"
      ],
      "metadata": {
        "id": "KpzLanCBY0fp"
      }
    },
    {
      "cell_type": "code",
      "source": [
        "sorted_list = [1,2,3,4,5,6,7,8,9,10]\n",
        "def binary_search(in_list,in_num):\n",
        "    low = 0\n",
        "    high = len(in_list)-1\n",
        "    while low <= high:\n",
        "        mid = high+low//2\n",
        "        if in_list[mid] < in_num:\n",
        "            low = mid+1\n",
        "        elif in_list[mid] > in_num:\n",
        "            high = mid-1\n",
        "        else:\n",
        "            return mid\n",
        "    else:\n",
        "        return 'Input Element not in the list'\n",
        "    \n",
        "print(binary_search(sorted_list,5))\n"
      ],
      "metadata": {
        "colab": {
          "base_uri": "https://localhost:8080/"
        },
        "id": "w23DF8rHYnMo",
        "outputId": "e32fe293-e0fd-472f-cd58-362751df00c8"
      },
      "execution_count": 38,
      "outputs": [
        {
          "output_type": "stream",
          "name": "stdout",
          "text": [
            "4\n"
          ]
        }
      ]
    },
    {
      "cell_type": "code",
      "source": [],
      "metadata": {
        "id": "OsXzw4_rZNc_"
      },
      "execution_count": null,
      "outputs": []
    }
  ]
}