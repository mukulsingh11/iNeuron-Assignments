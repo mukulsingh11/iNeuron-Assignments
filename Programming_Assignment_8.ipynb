{
  "nbformat": 4,
  "nbformat_minor": 0,
  "metadata": {
    "colab": {
      "provenance": [],
      "authorship_tag": "ABX9TyMk/Ldnn/i3G16wDBispM4E",
      "include_colab_link": true
    },
    "kernelspec": {
      "name": "python3",
      "display_name": "Python 3"
    },
    "language_info": {
      "name": "python"
    }
  },
  "cells": [
    {
      "cell_type": "markdown",
      "metadata": {
        "id": "view-in-github",
        "colab_type": "text"
      },
      "source": [
        "<a href=\"https://colab.research.google.com/github/mukulsingh078968/iNeuron-Assignments/blob/main/Programming_Assignment_8.ipynb\" target=\"_parent\"><img src=\"https://colab.research.google.com/assets/colab-badge.svg\" alt=\"Open In Colab\"/></a>"
      ]
    },
    {
      "cell_type": "markdown",
      "source": [
        "1.  Write a Python Program to Add Two Matrices?\n"
      ],
      "metadata": {
        "id": "dV7uSg2ACXFN"
      }
    },
    {
      "cell_type": "code",
      "execution_count": 4,
      "metadata": {
        "colab": {
          "base_uri": "https://localhost:8080/"
        },
        "id": "EjRH5PClCWNo",
        "outputId": "d986e836-c814-4f05-b10a-fedafd48dcea"
      },
      "outputs": [
        {
          "output_type": "stream",
          "name": "stdout",
          "text": [
            "[[1, 2, 3, 4], [9, 8, 7, 6], [4, 5, 6, 7], [4, 3, 5, 2], [1, 2, 3, 4], [7, 8, 9, 7]]\n"
          ]
        }
      ],
      "source": [
        "a=[[1,2,3,4],[9,8,7,6,],[4,5,6,7]]\n",
        "b=[[4,3,5,2],[1,2,3,4],[7,8,9,7]]\n",
        "sum = a+b\n",
        "print(sum)\n"
      ]
    },
    {
      "cell_type": "code",
      "source": [
        "X = [[12,7,3],\n",
        "    [4 ,5,6],\n",
        "    [7 ,8,9]]\n",
        "\n",
        "Y = [[5,8,1],\n",
        "    [6,7,3],\n",
        "    [4,5,9]]\n",
        "\n",
        "result = [[0,0,0],\n",
        "         [0,0,0],\n",
        "         [0,0,0]]\n",
        "for i in range(len(X)):\n",
        "   for j in range(len(X[0])):\n",
        "       result[i][j] = X[i][j] + Y[i][j]\n",
        "\n",
        "for r in result:\n",
        "   print(r)"
      ],
      "metadata": {
        "colab": {
          "base_uri": "https://localhost:8080/"
        },
        "id": "tirlCH4wC8Ak",
        "outputId": "1282a392-f18d-43f8-f9a0-c6c0c2d24049"
      },
      "execution_count": 5,
      "outputs": [
        {
          "output_type": "stream",
          "name": "stdout",
          "text": [
            "[17, 15, 4]\n",
            "[10, 12, 9]\n",
            "[11, 13, 18]\n"
          ]
        }
      ]
    },
    {
      "cell_type": "markdown",
      "source": [
        "2.  Write a Python Program to Multiply Two Matrices?\n"
      ],
      "metadata": {
        "id": "VlxCsTjXErS6"
      }
    },
    {
      "cell_type": "code",
      "source": [
        "X = [[12,7,3],\n",
        "    [4 ,5,6],\n",
        "    [7 ,8,9]]\n",
        "Y = [[5,8,1,2],\n",
        "    [6,7,3,0],\n",
        "    [4,5,9,1]]\n",
        "# result is 3x4\n",
        "result = [[0,0,0,0],\n",
        "         [0,0,0,0],\n",
        "         [0,0,0,0]]\n",
        "\n",
        "# iterate through rows of X\n",
        "for i in range(len(X)):\n",
        "   # iterate through columns of Y\n",
        "   for j in range(len(Y[0])):\n",
        "       # iterate through rows of Y\n",
        "       for k in range(len(Y)):\n",
        "           result[i][j] += X[i][k] * Y[k][j]\n",
        "\n",
        "for r in result:\n",
        "   print(r)"
      ],
      "metadata": {
        "colab": {
          "base_uri": "https://localhost:8080/"
        },
        "id": "_X2u4AkwElcV",
        "outputId": "ff087959-fa55-4049-8023-6aa1ac741cef"
      },
      "execution_count": 6,
      "outputs": [
        {
          "output_type": "stream",
          "name": "stdout",
          "text": [
            "[114, 160, 60, 27]\n",
            "[74, 97, 73, 14]\n",
            "[119, 157, 112, 23]\n"
          ]
        }
      ]
    },
    {
      "cell_type": "markdown",
      "source": [
        "3.  Write a Python Program to Transpose a Matrix?"
      ],
      "metadata": {
        "id": "txvf9uZrF-cA"
      }
    },
    {
      "cell_type": "code",
      "source": [
        "\n",
        "X = [[12,7],\n",
        "    [4 ,5],\n",
        "    [3 ,8]]\n",
        "\n",
        "result = [[0,0,0],\n",
        "         [0,0,0]]\n",
        "\n",
        "# iterate through rows\n",
        "for i in range(len(X)):\n",
        "   # iterate through columns\n",
        "   for j in range(len(X[0])):\n",
        "       result[j][i] = X[i][j]\n",
        "\n",
        "for r in result:\n",
        "   print(r)\n"
      ],
      "metadata": {
        "colab": {
          "base_uri": "https://localhost:8080/"
        },
        "id": "tLo4FSC7F4hS",
        "outputId": "01186151-1592-47c3-e08f-f0a9669344c5"
      },
      "execution_count": 7,
      "outputs": [
        {
          "output_type": "stream",
          "name": "stdout",
          "text": [
            "[12, 4, 3]\n",
            "[7, 5, 8]\n"
          ]
        }
      ]
    },
    {
      "cell_type": "markdown",
      "source": [
        "4.  Write a Python Program to Sort Words in Alphabetic Order?"
      ],
      "metadata": {
        "id": "H5Ll4w1vGYxx"
      }
    },
    {
      "cell_type": "code",
      "source": [
        "my_str = \"Hello this Is an Example With cased letters\"\n",
        "\n",
        "# To take input from the user\n",
        "#my_str = input(\"Enter a strig)\n",
        "words = [word.lower() for word in my_str.split()]\n",
        "\n",
        "# sort the list\n",
        "words.sort()\n",
        "\n",
        "# display the sorted words\n",
        "\n",
        "print(\"The sorted words are:\")\n",
        "for word in words:\n",
        "   print(word)"
      ],
      "metadata": {
        "colab": {
          "base_uri": "https://localhost:8080/"
        },
        "id": "VUhPsE_HGX6Y",
        "outputId": "e8535f79-1938-45f4-8b27-be3e48879870"
      },
      "execution_count": 8,
      "outputs": [
        {
          "output_type": "stream",
          "name": "stdout",
          "text": [
            "The sorted words are:\n",
            "an\n",
            "cased\n",
            "example\n",
            "hello\n",
            "is\n",
            "letters\n",
            "this\n",
            "with\n"
          ]
        }
      ]
    },
    {
      "cell_type": "markdown",
      "source": [
        "5.  Write a Python Program to Remove Punctuation From a String?\n"
      ],
      "metadata": {
        "id": "mAlLUqp_HVZH"
      }
    },
    {
      "cell_type": "code",
      "source": [
        "test_str = \"Hello %world $ data science !is very vast area of! new* industries\"\n",
        " \n",
        "# string\n",
        "print(\"The original string is : \" + test_str)\n",
        "\n",
        "punc = '''!()-[]{};:'\"\\,<>./?@#$%^&*_~'''\n",
        "res=\" \" \n",
        "for ele in test_str:\n",
        "    if ele not in punc:\n",
        "        res+=ele\n",
        "         \n",
        "# printing result\n",
        "print(\"The string after punctuation filter : \" + res)"
      ],
      "metadata": {
        "colab": {
          "base_uri": "https://localhost:8080/"
        },
        "id": "CIt9qziCHR0g",
        "outputId": "72c0d5b9-c155-4d7f-d874-ace4b17860a0"
      },
      "execution_count": 15,
      "outputs": [
        {
          "output_type": "stream",
          "name": "stdout",
          "text": [
            "The original string is : Hello %world $ data science !is very vast area of! new* industries\n",
            "The string after punctuation filter :  Hello world  data science is very vast area of new industries\n"
          ]
        }
      ]
    },
    {
      "cell_type": "code",
      "source": [],
      "metadata": {
        "id": "MP_zPGvUGPeo"
      },
      "execution_count": null,
      "outputs": []
    }
  ]
}