{
  "nbformat": 4,
  "nbformat_minor": 0,
  "metadata": {
    "colab": {
      "name": "Programming_Assignment-4.ipynb",
      "provenance": [],
      "collapsed_sections": [],
      "authorship_tag": "ABX9TyOPavKlfk3nlZDVkYmBWmVt",
      "include_colab_link": true
    },
    "kernelspec": {
      "name": "python3",
      "display_name": "Python 3"
    },
    "language_info": {
      "name": "python"
    }
  },
  "cells": [
    {
      "cell_type": "markdown",
      "metadata": {
        "id": "view-in-github",
        "colab_type": "text"
      },
      "source": [
        "<a href=\"https://colab.research.google.com/github/mukulsingh078968/iNeuron-Assignments/blob/main/Programming_Assignment_4.ipynb\" target=\"_parent\"><img src=\"https://colab.research.google.com/assets/colab-badge.svg\" alt=\"Open In Colab\"/></a>"
      ]
    },
    {
      "cell_type": "markdown",
      "source": [
        "**1.**  Write a Python Program to Find the Factorial of a Number?\n",
        "\n",
        "Answer: \n",
        "\n",
        "\n"
      ],
      "metadata": {
        "id": "gpbmLr-0oE8U"
      }
    },
    {
      "cell_type": "code",
      "source": [
        "def factorial(num):\n",
        "    if (num < 1):\n",
        "        return 1\n",
        "    else:\n",
        "        return num*factorial(num-1)\n",
        "num = int(input('Enter a number: '))\n",
        "value = factorial(num)\n",
        "print(f'The Factorial of {num} is {value}')"
      ],
      "metadata": {
        "colab": {
          "base_uri": "https://localhost:8080/"
        },
        "id": "pBx_vR9YoSzm",
        "outputId": "b42b77eb-8bfb-4e17-a4c5-94cf67d72abd"
      },
      "execution_count": 1,
      "outputs": [
        {
          "output_type": "stream",
          "name": "stdout",
          "text": [
            "Enter a number: 6\n",
            "The Factorial of 6 is 720\n"
          ]
        }
      ]
    },
    {
      "cell_type": "markdown",
      "source": [
        "2.  Write a Python Program to Display the multiplication Table?"
      ],
      "metadata": {
        "id": "9FkB8eZMq47x"
      }
    },
    {
      "cell_type": "code",
      "source": [
        "n=2\n",
        "for i in range(1,11):\n",
        "  j=n*i\n",
        "  print(n,\"*\",i,\"=\",j)\n"
      ],
      "metadata": {
        "colab": {
          "base_uri": "https://localhost:8080/"
        },
        "id": "rUWiONOJqyCB",
        "outputId": "dada68b1-b192-4cd6-b24a-e25942f50523"
      },
      "execution_count": 4,
      "outputs": [
        {
          "output_type": "stream",
          "name": "stdout",
          "text": [
            "2 * 1 = 2\n",
            "2 * 2 = 4\n",
            "2 * 3 = 6\n",
            "2 * 4 = 8\n",
            "2 * 5 = 10\n",
            "2 * 6 = 12\n",
            "2 * 7 = 14\n",
            "2 * 8 = 16\n",
            "2 * 9 = 18\n",
            "2 * 10 = 20\n"
          ]
        }
      ]
    },
    {
      "cell_type": "code",
      "source": [
        "n=19\n",
        "for i in range(1,11):\n",
        "  j=n*i \n",
        "  print(j,\"*\",i,\"=\",j)\n",
        "  "
      ],
      "metadata": {
        "colab": {
          "base_uri": "https://localhost:8080/"
        },
        "id": "I5AlZPFirWF6",
        "outputId": "40f438d5-e946-4c94-f1da-111a3d3ff8af"
      },
      "execution_count": 8,
      "outputs": [
        {
          "output_type": "stream",
          "name": "stdout",
          "text": [
            "19 * 1 = 19\n",
            "38 * 2 = 38\n",
            "57 * 3 = 57\n",
            "76 * 4 = 76\n",
            "95 * 5 = 95\n",
            "114 * 6 = 114\n",
            "133 * 7 = 133\n",
            "152 * 8 = 152\n",
            "171 * 9 = 171\n",
            "190 * 10 = 190\n"
          ]
        }
      ]
    },
    {
      "cell_type": "markdown",
      "source": [
        "3.  Write a Python Program to Print the Fibonacci sequence?\n"
      ],
      "metadata": {
        "id": "V8Hc5UKMssGc"
      }
    },
    {
      "cell_type": "code",
      "source": [
        "from ast import Num\n",
        "num = int(input('Enter the fibonacci sequences '))\n",
        "list = [0,1]\n",
        "if num < 0:\n",
        "    print('Fibonacci Numbers ')\n",
        "elif num <= 2 and num>= 0:\n",
        "    print(list)\n",
        "else:\n",
        "    for ins in range(num):\n",
        "        if ins >= 2:\n",
        "            list.append(list[ins-1]+list[ins-2])\n",
        "    print(f'The First {num} fibonacci series are: ',list)"
      ],
      "metadata": {
        "colab": {
          "base_uri": "https://localhost:8080/"
        },
        "id": "vs8Hs2PPyuzL",
        "outputId": "f1b8604d-bc48-4567-d151-dd142bda71fa"
      },
      "execution_count": 39,
      "outputs": [
        {
          "output_type": "stream",
          "name": "stdout",
          "text": [
            "Enter the fibonacci sequences 6\n",
            "The First 6 fibonacci series are:  [0, 1, 1, 2, 3, 5]\n"
          ]
        }
      ]
    },
    {
      "cell_type": "markdown",
      "source": [
        "4.  Write a Python Program to Check Armstrong Number?"
      ],
      "metadata": {
        "id": "hopXsRg80n4A"
      }
    },
    {
      "cell_type": "code",
      "source": [
        "num=153\n",
        "order = len(str(num))\n",
        "\n",
        "# initialize sum\n",
        "sum = 0\n",
        "\n",
        "# find the sum of the cube of each digit\n",
        "temp = num\n",
        "while temp > 0:\n",
        "   digit = temp % 10\n",
        "   sum += digit ** order\n",
        "   temp //= 10\n",
        "\n",
        "if num == sum:\n",
        "   print(num,\"is an Armstrong number\")\n",
        "else:\n",
        "   print(num,\"is not an Armstrong number\")"
      ],
      "metadata": {
        "colab": {
          "base_uri": "https://localhost:8080/"
        },
        "id": "8L0LhHCuz2fL",
        "outputId": "0af4224f-d0a2-4a0c-f2b2-7908f5b80474"
      },
      "execution_count": 53,
      "outputs": [
        {
          "output_type": "stream",
          "name": "stdout",
          "text": [
            "153 is an Armstrong number\n"
          ]
        }
      ]
    },
    {
      "cell_type": "markdown",
      "source": [
        "5.   Write a Python Program to Find Armstrong Number in an Interval?"
      ],
      "metadata": {
        "id": "NwtA9UFj3bqy"
      }
    },
    {
      "cell_type": "code",
      "source": [
        "lower = 100\n",
        "upper = 2000\n",
        "\n",
        "for num in range(lower, upper + 1):\n",
        "\n",
        "   # order of number\n",
        "   order = len(str(num))\n",
        "   sum = 0\n",
        "\n",
        "   temp = num\n",
        "   while temp > 0:\n",
        "       digit = temp % 10\n",
        "       sum += digit ** order\n",
        "       temp //= 10\n",
        "\n",
        "   if num == sum:\n",
        "       print(num)"
      ],
      "metadata": {
        "colab": {
          "base_uri": "https://localhost:8080/"
        },
        "id": "9oIa079f1h_3",
        "outputId": "b1feec6c-ea5c-4373-f3de-e3b809344639"
      },
      "execution_count": 54,
      "outputs": [
        {
          "output_type": "stream",
          "name": "stdout",
          "text": [
            "153\n",
            "370\n",
            "371\n",
            "407\n",
            "1634\n"
          ]
        }
      ]
    },
    {
      "cell_type": "markdown",
      "source": [
        "6.  Write a Python Program to Find the Sum of Natural Numbers?"
      ],
      "metadata": {
        "id": "17GY2Q0h4pz6"
      }
    },
    {
      "cell_type": "code",
      "source": [
        "def sum_naturalnumber(num):\n",
        "    sum = num*((num+1)/2)\n",
        "    print(f'Sum of {num} natural numbers is {sum}')\n",
        "    \n",
        "num = int(input('Enter a number: '))\n",
        "sum_naturalnumber(num)"
      ],
      "metadata": {
        "colab": {
          "base_uri": "https://localhost:8080/"
        },
        "id": "zPfmjkJO4VB4",
        "outputId": "8488d3f8-8d57-495a-852c-4857c1fab425"
      },
      "execution_count": 57,
      "outputs": [
        {
          "output_type": "stream",
          "name": "stdout",
          "text": [
            "Enter a number: 6\n",
            "Sum of 6 natural numbers is 21.0\n"
          ]
        }
      ]
    },
    {
      "cell_type": "code",
      "source": [
        ""
      ],
      "metadata": {
        "id": "wapVoPdp43HG"
      },
      "execution_count": 57,
      "outputs": []
    }
  ]
}