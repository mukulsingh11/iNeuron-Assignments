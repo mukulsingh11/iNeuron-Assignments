{
  "nbformat": 4,
  "nbformat_minor": 0,
  "metadata": {
    "colab": {
      "name": "Assignment_25.ipynb",
      "provenance": [],
      "collapsed_sections": [],
      "authorship_tag": "ABX9TyNeSjqN+iN/9mJpWrUFO10l",
      "include_colab_link": true
    },
    "kernelspec": {
      "name": "python3",
      "display_name": "Python 3"
    },
    "language_info": {
      "name": "python"
    }
  },
  "cells": [
    {
      "cell_type": "markdown",
      "metadata": {
        "id": "view-in-github",
        "colab_type": "text"
      },
      "source": [
        "<a href=\"https://colab.research.google.com/github/mukulsingh078968/iNeuron-Assignments/blob/main/Assignment_25.ipynb\" target=\"_parent\"><img src=\"https://colab.research.google.com/assets/colab-badge.svg\" alt=\"Open In Colab\"/></a>"
      ]
    },
    {
      "cell_type": "markdown",
      "source": [
        "**1.**  What is the difference between enclosing a list comprehension in square brackets and parentheses?\n",
        "\n",
        "Answer:\n",
        "The difference between the two kinds of expressions is that the List comprehension is enclosed in square brackets [] while the Generator expression is enclosed in plain parentheses ().Square brackets are lists while parentheses are tuples."
      ],
      "metadata": {
        "id": "qh5EviJbOeFn"
      }
    },
    {
      "cell_type": "markdown",
      "source": [
        "2) What is the relationship between generators and iterators?\n",
        "Answer:\n",
        "\n",
        "Iterators are the objects that use the next() method to get the next value of the sequence. A generator is a function that produces or yields a sequence of values using a yield statement. Classes are used to Implement the iterators. Functions are used to implement the generator.\n",
        "\n",
        "Iterators are used mostly to iterate or convert other objects to an iterator using iter() function.\n",
        "\n",
        "Generators are mostly used in loops to generate an iterator by returning all the values in the loop without affecting the iteration of the loop"
      ],
      "metadata": {
        "id": "byYvvRjCPW7b"
      }
    },
    {
      "cell_type": "markdown",
      "source": [
        "**3)**  What are the signs that a function is a generator function?\n",
        "\n",
        "\n",
        "Answer:\n",
        "Python provides a generator to create your own iterator function. A generator is a special type of function which does not return a single value, instead, it returns an iterator object with a sequence of values. In a generator function, a yield statement is used rather than a return statement.\n",
        "\n",
        "\n",
        "Generator functions provide a powerful alternative: they allow you to define an iterative algorithm by writing a single function whose execution is not continuous. Generator functions are written using the function* syntax. When called, generator functions do not initially execute their code.\n"
      ],
      "metadata": {
        "id": "nPs4yR0WQBAt"
      }
    },
    {
      "cell_type": "markdown",
      "source": [
        "**4)**  What is the purpose of a yield statement?\n",
        "\n",
        "\n",
        "Answer:\n",
        "The yield statement suspends a function's execution and sends a value back to the caller, but retains enough state to enable the function to resume where it left off. When the function resumes, it continues execution immediately after the last yield run.The yield statement returns a generator object to the one who calls the function which contains yield, instead of simply returning a value.\n",
        "\n",
        "\n",
        "---\n",
        "\n",
        "\n"
      ],
      "metadata": {
        "id": "avkyhK5iQ3zy"
      }
    },
    {
      "cell_type": "markdown",
      "source": [
        "**5)** What is the relationship between map calls and list comprehensions? Make a comparison and contrast between the two.\n",
        "\n",
        "\n",
        "Answer:\n",
        "List comprehension is more concise and easier to read as compared to map. List comprehension are used when a list of results is required as map only returns a map object and does not return any list. Map is faster in case of calling an already defined function (as no lambda is required).Map function is faster than list comprehension when the formula is already defined as a function earlier."
      ],
      "metadata": {
        "id": "gfVt2SaMRXOt"
      }
    },
    {
      "cell_type": "code",
      "execution_count": null,
      "metadata": {
        "id": "de6fkuLwOVNS"
      },
      "outputs": [],
      "source": [
        ""
      ]
    }
  ]
}