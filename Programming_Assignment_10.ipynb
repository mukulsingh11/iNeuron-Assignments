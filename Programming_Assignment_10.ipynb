{
  "nbformat": 4,
  "nbformat_minor": 0,
  "metadata": {
    "colab": {
      "provenance": [],
      "authorship_tag": "ABX9TyM1P+9j8Ljjn1QVSABpn9zd",
      "include_colab_link": true
    },
    "kernelspec": {
      "name": "python3",
      "display_name": "Python 3"
    },
    "language_info": {
      "name": "python"
    }
  },
  "cells": [
    {
      "cell_type": "markdown",
      "metadata": {
        "id": "view-in-github",
        "colab_type": "text"
      },
      "source": [
        "<a href=\"https://colab.research.google.com/github/mukulsingh078968/iNeuron-Assignments/blob/main/Programming_Assignment_10.ipynb\" target=\"_parent\"><img src=\"https://colab.research.google.com/assets/colab-badge.svg\" alt=\"Open In Colab\"/></a>"
      ]
    },
    {
      "cell_type": "markdown",
      "source": [
        "1.   Write a Python program to find sum of elements in list?\n"
      ],
      "metadata": {
        "id": "QMwA0eBXKn2c"
      }
    },
    {
      "cell_type": "code",
      "source": [
        "list = [1,2,3,4,5,6,7,8,9,10]\n",
        "# Calculate sum of list \n",
        "sum=0\n",
        "for i in list:\n",
        "    sum+=i\n",
        "print('Sum of List: ',sum)"
      ],
      "metadata": {
        "colab": {
          "base_uri": "https://localhost:8080/"
        },
        "id": "Qt80c1bQOTKl",
        "outputId": "974cf0ae-db8b-4715-bdfa-e466f66f684e"
      },
      "execution_count": 10,
      "outputs": [
        {
          "output_type": "stream",
          "name": "stdout",
          "text": [
            "Sum of List:  55\n"
          ]
        }
      ]
    },
    {
      "cell_type": "markdown",
      "source": [
        "2.   Write a Python program to  Multiply all numbers in the list?\n"
      ],
      "metadata": {
        "id": "htJ42NL_PMH5"
      }
    },
    {
      "cell_type": "code",
      "source": [
        "\n",
        "def multiply(numbers):  \n",
        "    total = 1\n",
        "    for x in numbers:\n",
        "        total *= x  \n",
        "    return total  \n",
        "print(multiply((1,2,3,4,5,6,7,8,9,10)))\n"
      ],
      "metadata": {
        "colab": {
          "base_uri": "https://localhost:8080/"
        },
        "id": "HlbuviRzPm4s",
        "outputId": "df85c79d-2fd2-4ce0-b4d4-4d5dc225cf26"
      },
      "execution_count": 16,
      "outputs": [
        {
          "output_type": "stream",
          "name": "stdout",
          "text": [
            "3628800\n"
          ]
        }
      ]
    },
    {
      "cell_type": "markdown",
      "source": [
        "3.  Write a Python program to find smallest number in a list?\n"
      ],
      "metadata": {
        "id": "6zd7xbEpRr9-"
      }
    },
    {
      "cell_type": "code",
      "source": [
        "l = [1,2,3,4,5,6,7,8,9,10]\n",
        "smallest = min(l)\n",
        "print(f'Smallest number in the list is : {smallest}')"
      ],
      "metadata": {
        "colab": {
          "base_uri": "https://localhost:8080/"
        },
        "id": "SfJdSSYnSEqx",
        "outputId": "dbf67444-7fce-4d32-83e9-3bc8ce49752f"
      },
      "execution_count": 27,
      "outputs": [
        {
          "output_type": "stream",
          "name": "stdout",
          "text": [
            "Smallest number in the list is : 1\n"
          ]
        }
      ]
    },
    {
      "cell_type": "markdown",
      "source": [
        "**4.**     Write a Python program to find largest number in a list?"
      ],
      "metadata": {
        "id": "i3fyzafDTQJB"
      }
    },
    {
      "cell_type": "code",
      "source": [
        "l=[1,2,3,4,5,6,7,8,9,10]\n",
        "largest=max(l)\n",
        "print(f'largest number in the list is : {largest}')"
      ],
      "metadata": {
        "colab": {
          "base_uri": "https://localhost:8080/"
        },
        "id": "cc60e76ASsw1",
        "outputId": "7d2876b1-7acd-4db5-d5e0-1b3295dd024a"
      },
      "execution_count": 28,
      "outputs": [
        {
          "output_type": "stream",
          "name": "stdout",
          "text": [
            "largest number in the list is : 10\n"
          ]
        }
      ]
    },
    {
      "cell_type": "markdown",
      "source": [
        ".5      Write a Python program to find second largest number in a list?\n"
      ],
      "metadata": {
        "id": "qJjlv5ERTtCk"
      }
    },
    {
      "cell_type": "code",
      "source": [
        "l=[1,2,3,4,5,6,7,8,9,10]\n",
        "second_largest= set(l)\n",
        "second_largest.remove(max(l))\n",
        "print(max(l))\n"
      ],
      "metadata": {
        "colab": {
          "base_uri": "https://localhost:8080/"
        },
        "id": "4JtiN90QTpBf",
        "outputId": "651e5c5f-ef23-4338-b08b-14999dfaf3eb"
      },
      "execution_count": 31,
      "outputs": [
        {
          "output_type": "stream",
          "name": "stdout",
          "text": [
            "10\n"
          ]
        }
      ]
    },
    {
      "cell_type": "markdown",
      "source": [
        "6.     Write a Python program to find N largest elements from a list?"
      ],
      "metadata": {
        "id": "vUg8e-T3Uum1"
      }
    },
    {
      "cell_type": "code",
      "source": [
        "def max_num_in_list( list ):\n",
        "    max = list[ 0 ]\n",
        "    for a in list:\n",
        "        if a > max:\n",
        "            max = a\n",
        "    return max\n",
        "print(max_num_in_list([1,2,3,4,5,6,7,8,9,10]))"
      ],
      "metadata": {
        "colab": {
          "base_uri": "https://localhost:8080/"
        },
        "id": "sdDDA7pvUoxd",
        "outputId": "c3995cfb-6946-4dcf-f8bf-670d41b007d4"
      },
      "execution_count": 33,
      "outputs": [
        {
          "output_type": "stream",
          "name": "stdout",
          "text": [
            "10\n"
          ]
        }
      ]
    },
    {
      "cell_type": "markdown",
      "source": [
        "7.    Write a Python program to print even numbers in a list?\n"
      ],
      "metadata": {
        "id": "kBdlJcDdVgwe"
      }
    },
    {
      "cell_type": "code",
      "source": [
        "list1 = [1,2,3,4,5,6,7,8,9,10]\n",
        "# iteration\n",
        "for num in list1:\n",
        "   # check\n",
        "   if num % 2 == 0:\n",
        "      print(num, end = \" \")"
      ],
      "metadata": {
        "colab": {
          "base_uri": "https://localhost:8080/"
        },
        "id": "TeeS2oO8VQtj",
        "outputId": "7a8822a4-d241-4a5f-ff14-c3178aac1fdb"
      },
      "execution_count": 34,
      "outputs": [
        {
          "output_type": "stream",
          "name": "stdout",
          "text": [
            "2 4 6 8 10 "
          ]
        }
      ]
    },
    {
      "cell_type": "markdown",
      "source": [
        "**8.  Python program to print odd numbers in a List?**\n"
      ],
      "metadata": {
        "id": "n95-TcyaWJLR"
      }
    },
    {
      "cell_type": "code",
      "source": [
        "list=[1,2,3,4,5,6,7,8,9,10]\n",
        "for i in list:\n",
        "  if i % 2 != 0:\n",
        "    print(i,end =\" \")"
      ],
      "metadata": {
        "colab": {
          "base_uri": "https://localhost:8080/"
        },
        "id": "wU9hFNLzWAGs",
        "outputId": "3a06b632-af0f-4d00-d2b1-a64d822d3cab"
      },
      "execution_count": 48,
      "outputs": [
        {
          "output_type": "stream",
          "name": "stdout",
          "text": [
            "1 3 5 7 9 "
          ]
        }
      ]
    },
    {
      "cell_type": "markdown",
      "source": [
        "9   Write a Python program to Remove empty List from List?"
      ],
      "metadata": {
        "id": "NKl4D8UDYN9D"
      }
    },
    {
      "cell_type": "code",
      "source": [
        "l=[1,2,3,4,5,6,[],7,8,9]\n",
        "l.remove([])"
      ],
      "metadata": {
        "id": "P7bC_mPJXb2Q"
      },
      "execution_count": 56,
      "outputs": []
    },
    {
      "cell_type": "code",
      "source": [
        "l"
      ],
      "metadata": {
        "colab": {
          "base_uri": "https://localhost:8080/"
        },
        "id": "z_MTv9H3YYef",
        "outputId": "b89a06bc-2c33-4071-94ae-af3e67e0a65e"
      },
      "execution_count": 57,
      "outputs": [
        {
          "output_type": "execute_result",
          "data": {
            "text/plain": [
              "[1, 2, 3, 4, 5, 6, 7, 8, 9]"
            ]
          },
          "metadata": {},
          "execution_count": 57
        }
      ]
    },
    {
      "cell_type": "markdown",
      "source": [
        "10.   Write a Python program to Cloning or Copying a list?\n"
      ],
      "metadata": {
        "id": "Cq1J9HozY5_l"
      }
    },
    {
      "cell_type": "code",
      "source": [
        "a = 4\n",
        "b = a\n",
        "a = 5\n",
        "print(a,b) # 5,4\n",
        "a = [1,2]\n",
        "b = a\n",
        "a.append(3)\n",
        "print(a,b) # [1,2,3] [1,2,3]"
      ],
      "metadata": {
        "colab": {
          "base_uri": "https://localhost:8080/"
        },
        "id": "5OHP_F8GaQHQ",
        "outputId": "e67125cd-c005-4117-ea27-78b8ae3d623d"
      },
      "execution_count": 64,
      "outputs": [
        {
          "output_type": "stream",
          "name": "stdout",
          "text": [
            "5 4\n",
            "[1, 2, 3] [1, 2, 3]\n"
          ]
        }
      ]
    },
    {
      "cell_type": "markdown",
      "source": [
        "11.Write a Python program to Count occurrences of an element in a list?\n"
      ],
      "metadata": {
        "id": "xaUbp8enbHM7"
      }
    },
    {
      "cell_type": "code",
      "source": [
        "l=[1,1,2,2,2,2,1,2,3,4,5,6,7,8,9,10]\n",
        "l.count(2)"
      ],
      "metadata": {
        "colab": {
          "base_uri": "https://localhost:8080/"
        },
        "id": "VsOAb7Uaa_s0",
        "outputId": "ba3648de-a8d9-4ccb-f244-5d931b4a5da3"
      },
      "execution_count": 69,
      "outputs": [
        {
          "output_type": "execute_result",
          "data": {
            "text/plain": [
              "5"
            ]
          },
          "metadata": {},
          "execution_count": 69
        }
      ]
    },
    {
      "cell_type": "code",
      "source": [],
      "metadata": {
        "id": "pkc6WpG7bR1f"
      },
      "execution_count": null,
      "outputs": []
    }
  ]
}